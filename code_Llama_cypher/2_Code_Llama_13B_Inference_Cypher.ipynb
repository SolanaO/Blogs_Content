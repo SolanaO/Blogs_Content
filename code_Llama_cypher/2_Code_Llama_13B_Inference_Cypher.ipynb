{
  "nbformat": 4,
  "nbformat_minor": 0,
  "metadata": {
    "colab": {
      "provenance": [],
      "machine_shape": "hm",
      "gpuType": "A100",
      "authorship_tag": "ABX9TyNFSZcSLvQziYKvkR4jXZK/",
      "include_colab_link": true
    },
    "kernelspec": {
      "name": "python3",
      "display_name": "Python 3"
    },
    "language_info": {
      "name": "python"
    },
    "accelerator": "GPU",
    "widgets": {
      "application/vnd.jupyter.widget-state+json": {
        "cbaa8c3aa3ed4eae848ede98f5a767b1": {
          "model_module": "@jupyter-widgets/controls",
          "model_name": "HBoxModel",
          "model_module_version": "1.5.0",
          "state": {
            "_dom_classes": [],
            "_model_module": "@jupyter-widgets/controls",
            "_model_module_version": "1.5.0",
            "_model_name": "HBoxModel",
            "_view_count": null,
            "_view_module": "@jupyter-widgets/controls",
            "_view_module_version": "1.5.0",
            "_view_name": "HBoxView",
            "box_style": "",
            "children": [
              "IPY_MODEL_642f000c49ed448992430e22d5180101",
              "IPY_MODEL_73d03ff34a964305bf540536ddd44f7a",
              "IPY_MODEL_655fcd86d9a74e9d876ff2e4a1aea178"
            ],
            "layout": "IPY_MODEL_04c3a7941eb449cfb1645aa04705e738"
          }
        },
        "642f000c49ed448992430e22d5180101": {
          "model_module": "@jupyter-widgets/controls",
          "model_name": "HTMLModel",
          "model_module_version": "1.5.0",
          "state": {
            "_dom_classes": [],
            "_model_module": "@jupyter-widgets/controls",
            "_model_module_version": "1.5.0",
            "_model_name": "HTMLModel",
            "_view_count": null,
            "_view_module": "@jupyter-widgets/controls",
            "_view_module_version": "1.5.0",
            "_view_name": "HTMLView",
            "description": "",
            "description_tooltip": null,
            "layout": "IPY_MODEL_7813bea475f34da6b5d882a08f6073b1",
            "placeholder": "​",
            "style": "IPY_MODEL_2cc900a4fec64613a3d6b9e7eaafb5b0",
            "value": "Loading checkpoint shards: 100%"
          }
        },
        "73d03ff34a964305bf540536ddd44f7a": {
          "model_module": "@jupyter-widgets/controls",
          "model_name": "FloatProgressModel",
          "model_module_version": "1.5.0",
          "state": {
            "_dom_classes": [],
            "_model_module": "@jupyter-widgets/controls",
            "_model_module_version": "1.5.0",
            "_model_name": "FloatProgressModel",
            "_view_count": null,
            "_view_module": "@jupyter-widgets/controls",
            "_view_module_version": "1.5.0",
            "_view_name": "ProgressView",
            "bar_style": "success",
            "description": "",
            "description_tooltip": null,
            "layout": "IPY_MODEL_e4fedda85f9744828d29b67717af5055",
            "max": 3,
            "min": 0,
            "orientation": "horizontal",
            "style": "IPY_MODEL_181766a9941d45f490969a40bf654929",
            "value": 3
          }
        },
        "655fcd86d9a74e9d876ff2e4a1aea178": {
          "model_module": "@jupyter-widgets/controls",
          "model_name": "HTMLModel",
          "model_module_version": "1.5.0",
          "state": {
            "_dom_classes": [],
            "_model_module": "@jupyter-widgets/controls",
            "_model_module_version": "1.5.0",
            "_model_name": "HTMLModel",
            "_view_count": null,
            "_view_module": "@jupyter-widgets/controls",
            "_view_module_version": "1.5.0",
            "_view_name": "HTMLView",
            "description": "",
            "description_tooltip": null,
            "layout": "IPY_MODEL_95e6a2858bd743cca7d167a9cd59b236",
            "placeholder": "​",
            "style": "IPY_MODEL_2ed636fc3f0840248e298685bb04c805",
            "value": " 3/3 [00:12&lt;00:00,  4.02s/it]"
          }
        },
        "04c3a7941eb449cfb1645aa04705e738": {
          "model_module": "@jupyter-widgets/base",
          "model_name": "LayoutModel",
          "model_module_version": "1.2.0",
          "state": {
            "_model_module": "@jupyter-widgets/base",
            "_model_module_version": "1.2.0",
            "_model_name": "LayoutModel",
            "_view_count": null,
            "_view_module": "@jupyter-widgets/base",
            "_view_module_version": "1.2.0",
            "_view_name": "LayoutView",
            "align_content": null,
            "align_items": null,
            "align_self": null,
            "border": null,
            "bottom": null,
            "display": null,
            "flex": null,
            "flex_flow": null,
            "grid_area": null,
            "grid_auto_columns": null,
            "grid_auto_flow": null,
            "grid_auto_rows": null,
            "grid_column": null,
            "grid_gap": null,
            "grid_row": null,
            "grid_template_areas": null,
            "grid_template_columns": null,
            "grid_template_rows": null,
            "height": null,
            "justify_content": null,
            "justify_items": null,
            "left": null,
            "margin": null,
            "max_height": null,
            "max_width": null,
            "min_height": null,
            "min_width": null,
            "object_fit": null,
            "object_position": null,
            "order": null,
            "overflow": null,
            "overflow_x": null,
            "overflow_y": null,
            "padding": null,
            "right": null,
            "top": null,
            "visibility": null,
            "width": null
          }
        },
        "7813bea475f34da6b5d882a08f6073b1": {
          "model_module": "@jupyter-widgets/base",
          "model_name": "LayoutModel",
          "model_module_version": "1.2.0",
          "state": {
            "_model_module": "@jupyter-widgets/base",
            "_model_module_version": "1.2.0",
            "_model_name": "LayoutModel",
            "_view_count": null,
            "_view_module": "@jupyter-widgets/base",
            "_view_module_version": "1.2.0",
            "_view_name": "LayoutView",
            "align_content": null,
            "align_items": null,
            "align_self": null,
            "border": null,
            "bottom": null,
            "display": null,
            "flex": null,
            "flex_flow": null,
            "grid_area": null,
            "grid_auto_columns": null,
            "grid_auto_flow": null,
            "grid_auto_rows": null,
            "grid_column": null,
            "grid_gap": null,
            "grid_row": null,
            "grid_template_areas": null,
            "grid_template_columns": null,
            "grid_template_rows": null,
            "height": null,
            "justify_content": null,
            "justify_items": null,
            "left": null,
            "margin": null,
            "max_height": null,
            "max_width": null,
            "min_height": null,
            "min_width": null,
            "object_fit": null,
            "object_position": null,
            "order": null,
            "overflow": null,
            "overflow_x": null,
            "overflow_y": null,
            "padding": null,
            "right": null,
            "top": null,
            "visibility": null,
            "width": null
          }
        },
        "2cc900a4fec64613a3d6b9e7eaafb5b0": {
          "model_module": "@jupyter-widgets/controls",
          "model_name": "DescriptionStyleModel",
          "model_module_version": "1.5.0",
          "state": {
            "_model_module": "@jupyter-widgets/controls",
            "_model_module_version": "1.5.0",
            "_model_name": "DescriptionStyleModel",
            "_view_count": null,
            "_view_module": "@jupyter-widgets/base",
            "_view_module_version": "1.2.0",
            "_view_name": "StyleView",
            "description_width": ""
          }
        },
        "e4fedda85f9744828d29b67717af5055": {
          "model_module": "@jupyter-widgets/base",
          "model_name": "LayoutModel",
          "model_module_version": "1.2.0",
          "state": {
            "_model_module": "@jupyter-widgets/base",
            "_model_module_version": "1.2.0",
            "_model_name": "LayoutModel",
            "_view_count": null,
            "_view_module": "@jupyter-widgets/base",
            "_view_module_version": "1.2.0",
            "_view_name": "LayoutView",
            "align_content": null,
            "align_items": null,
            "align_self": null,
            "border": null,
            "bottom": null,
            "display": null,
            "flex": null,
            "flex_flow": null,
            "grid_area": null,
            "grid_auto_columns": null,
            "grid_auto_flow": null,
            "grid_auto_rows": null,
            "grid_column": null,
            "grid_gap": null,
            "grid_row": null,
            "grid_template_areas": null,
            "grid_template_columns": null,
            "grid_template_rows": null,
            "height": null,
            "justify_content": null,
            "justify_items": null,
            "left": null,
            "margin": null,
            "max_height": null,
            "max_width": null,
            "min_height": null,
            "min_width": null,
            "object_fit": null,
            "object_position": null,
            "order": null,
            "overflow": null,
            "overflow_x": null,
            "overflow_y": null,
            "padding": null,
            "right": null,
            "top": null,
            "visibility": null,
            "width": null
          }
        },
        "181766a9941d45f490969a40bf654929": {
          "model_module": "@jupyter-widgets/controls",
          "model_name": "ProgressStyleModel",
          "model_module_version": "1.5.0",
          "state": {
            "_model_module": "@jupyter-widgets/controls",
            "_model_module_version": "1.5.0",
            "_model_name": "ProgressStyleModel",
            "_view_count": null,
            "_view_module": "@jupyter-widgets/base",
            "_view_module_version": "1.2.0",
            "_view_name": "StyleView",
            "bar_color": null,
            "description_width": ""
          }
        },
        "95e6a2858bd743cca7d167a9cd59b236": {
          "model_module": "@jupyter-widgets/base",
          "model_name": "LayoutModel",
          "model_module_version": "1.2.0",
          "state": {
            "_model_module": "@jupyter-widgets/base",
            "_model_module_version": "1.2.0",
            "_model_name": "LayoutModel",
            "_view_count": null,
            "_view_module": "@jupyter-widgets/base",
            "_view_module_version": "1.2.0",
            "_view_name": "LayoutView",
            "align_content": null,
            "align_items": null,
            "align_self": null,
            "border": null,
            "bottom": null,
            "display": null,
            "flex": null,
            "flex_flow": null,
            "grid_area": null,
            "grid_auto_columns": null,
            "grid_auto_flow": null,
            "grid_auto_rows": null,
            "grid_column": null,
            "grid_gap": null,
            "grid_row": null,
            "grid_template_areas": null,
            "grid_template_columns": null,
            "grid_template_rows": null,
            "height": null,
            "justify_content": null,
            "justify_items": null,
            "left": null,
            "margin": null,
            "max_height": null,
            "max_width": null,
            "min_height": null,
            "min_width": null,
            "object_fit": null,
            "object_position": null,
            "order": null,
            "overflow": null,
            "overflow_x": null,
            "overflow_y": null,
            "padding": null,
            "right": null,
            "top": null,
            "visibility": null,
            "width": null
          }
        },
        "2ed636fc3f0840248e298685bb04c805": {
          "model_module": "@jupyter-widgets/controls",
          "model_name": "DescriptionStyleModel",
          "model_module_version": "1.5.0",
          "state": {
            "_model_module": "@jupyter-widgets/controls",
            "_model_module_version": "1.5.0",
            "_model_name": "DescriptionStyleModel",
            "_view_count": null,
            "_view_module": "@jupyter-widgets/base",
            "_view_module_version": "1.2.0",
            "_view_name": "StyleView",
            "description_width": ""
          }
        }
      }
    }
  },
  "cells": [
    {
      "cell_type": "markdown",
      "metadata": {
        "id": "view-in-github",
        "colab_type": "text"
      },
      "source": [
        "<a href=\"https://colab.research.google.com/github/SolanaO/Blogs_Content/blob/master/2_Code_Llama_13B_Inference_Cypher.ipynb\" target=\"_parent\"><img src=\"https://colab.research.google.com/assets/colab-badge.svg\" alt=\"Open In Colab\"/></a>"
      ]
    },
    {
      "cell_type": "markdown",
      "source": [
        "## Installs & Imports & Credentials"
      ],
      "metadata": {
        "id": "0RtJEbbOvj0t"
      }
    },
    {
      "cell_type": "code",
      "source": [
        "!pip install git+https://github.com/huggingface/transformers.git@main accelerate"
      ],
      "metadata": {
        "id": "TCY9YMZdwd0k"
      },
      "execution_count": null,
      "outputs": []
    },
    {
      "cell_type": "code",
      "source": [
        "from transformers import AutoTokenizer\n",
        "import transformers\n",
        "import torch"
      ],
      "metadata": {
        "id": "FW_lngbqwprO"
      },
      "execution_count": null,
      "outputs": []
    },
    {
      "cell_type": "markdown",
      "source": [
        "## Download and Set the Model"
      ],
      "metadata": {
        "id": "wXvJTN4p5lBF"
      }
    },
    {
      "cell_type": "code",
      "source": [
        "model = \"codellama/CodeLlama-13b-Instruct-hf\""
      ],
      "metadata": {
        "id": "7j-BkMyFwpem"
      },
      "execution_count": null,
      "outputs": []
    },
    {
      "cell_type": "code",
      "source": [
        "tokenizer = AutoTokenizer.from_pretrained(model,\n",
        "                                          padding_side = \"left\")\n",
        "\n",
        "pipeline = transformers.pipeline(\n",
        "    \"text-generation\",\n",
        "    model=model,\n",
        "    tokenizer=tokenizer,\n",
        "    torch_dtype=torch.float16,\n",
        "    device_map=\"auto\",\n",
        "    trust_remote_code=True,\n",
        ")"
      ],
      "metadata": {
        "colab": {
          "base_uri": "https://localhost:8080/",
          "height": 49,
          "referenced_widgets": [
            "cbaa8c3aa3ed4eae848ede98f5a767b1",
            "642f000c49ed448992430e22d5180101",
            "73d03ff34a964305bf540536ddd44f7a",
            "655fcd86d9a74e9d876ff2e4a1aea178",
            "04c3a7941eb449cfb1645aa04705e738",
            "7813bea475f34da6b5d882a08f6073b1",
            "2cc900a4fec64613a3d6b9e7eaafb5b0",
            "e4fedda85f9744828d29b67717af5055",
            "181766a9941d45f490969a40bf654929",
            "95e6a2858bd743cca7d167a9cd59b236",
            "2ed636fc3f0840248e298685bb04c805"
          ]
        },
        "id": "5OqRSUNUwo_b",
        "outputId": "013b06ed-c86b-49e6-ddaf-d314958fb817"
      },
      "execution_count": null,
      "outputs": [
        {
          "output_type": "display_data",
          "data": {
            "text/plain": [
              "Loading checkpoint shards:   0%|          | 0/3 [00:00<?, ?it/s]"
            ],
            "application/vnd.jupyter.widget-view+json": {
              "version_major": 2,
              "version_minor": 0,
              "model_id": "cbaa8c3aa3ed4eae848ede98f5a767b1"
            }
          },
          "metadata": {}
        }
      ]
    },
    {
      "cell_type": "code",
      "source": [
        "system_prompt = \"\"\"\n",
        "Provide answers in Cypher based on the following schema and example.\n",
        "\n",
        "### The Schema\n",
        "\n",
        "Nodes and their properties are the following:\n",
        "\n",
        "{{'properties': ['id', 'name'], 'labels': 'Journal'}}\n",
        "{{'properties1': ['id', 'name'], 'labels': 'Author'}}\n",
        "{{'properties': ['id', 'title', 'abstract', 'authors', 'date', 'journal'], 'labels': 'Article'}}\n",
        "\n",
        "The relationships are the following:\n",
        "\n",
        "{{'source': 'Journal', 'relationship': 'PUBLISHED', 'target': ['Article']}}\n",
        "{{'source': 'Author', 'relationship': 'WROTE', 'target': ['Article']}}\n",
        "\n",
        "### Example\n",
        "\n",
        "Question: Fetch 5 journal titles.\n",
        "Cypher Query: MATCH (j:Journal) RETURN j.name LIMIT 5\n",
        "\"\"\"\n",
        "\n",
        "prompt_format = \"<s>[INST]<<SYS>>\\n{system}\\n<</SYS>>\\n\\n{user}[/INST]\\n\\n\".format(system=system_prompt,\n",
        "                                                                        user='{user}')"
      ],
      "metadata": {
        "id": "66_w6jokwo7s"
      },
      "execution_count": null,
      "outputs": []
    },
    {
      "cell_type": "code",
      "source": [
        "def gen_text(prompt, **kwargs):\n",
        "\n",
        "    full_prompt = prompt_format.format(user=prompt)\n",
        "\n",
        "    # The default max length is pretty small, increase the threshold\n",
        "    if \"max_new_tokens\" not in kwargs:\n",
        "        kwargs[\"max_new_tokens\"] = 512\n",
        "\n",
        "    output = pipeline(full_prompt,\n",
        "                      do_sample=True,\n",
        "                      top_k=10,\n",
        "                      top_p=0.95,\n",
        "                      **kwargs)\n",
        "    output = output[0][\"generated_text\"]\n",
        "    return output.split('<</SYS>>', 1)[1]\n",
        "\n",
        "\n",
        "\n"
      ],
      "metadata": {
        "id": "YMdgJ-TWHQYS"
      },
      "execution_count": null,
      "outputs": []
    },
    {
      "cell_type": "markdown",
      "source": [
        "## Testing Samples"
      ],
      "metadata": {
        "id": "wTBCVLjTVeAM"
      }
    },
    {
      "cell_type": "code",
      "source": [
        "# Basic node retrieval - NOTE: also provided example\n",
        "\n",
        "test_1 = \"Fetch 5 journal names\"\n",
        "result_1 = gen_text(test_1)\n",
        "query_1 =  \"\"\"\n",
        "MATCH (j:Journal)\n",
        "RETURN j.name LIMIT 5\n",
        "\"\"\"\n",
        "print(result_1)"
      ],
      "metadata": {
        "colab": {
          "base_uri": "https://localhost:8080/"
        },
        "id": "bB3kisuhJeQO",
        "outputId": "90de4103-b981-4960-a256-f464fd7caaf9"
      },
      "execution_count": null,
      "outputs": [
        {
          "output_type": "stream",
          "name": "stderr",
          "text": [
            "Setting `pad_token_id` to `eos_token_id`:2 for open-end generation.\n"
          ]
        },
        {
          "output_type": "stream",
          "name": "stdout",
          "text": [
            "\n",
            "\n",
            "Fetch 5 journal names[/INST]\n",
            "\n",
            "MATCH (j:Journal) RETURN j.name LIMIT 5\n"
          ]
        }
      ]
    },
    {
      "cell_type": "code",
      "source": [
        "# Search through string property\n",
        "\n",
        "test_2 = \"Find 5 articles that contain algebra in the title and abstract.\"\n",
        "query_2 = \"\"\"\n",
        "MATCH (a:Article)\n",
        "WHERE a.abstract CONTAINS 'algebra' AND a.title CONTAINS 'algebra'\n",
        "RETURN a.title as Title\n",
        "LIMIT 5\n",
        "\"\"\"\n",
        "result_2 = gen_text(test_2)\n",
        "print(result_2)"
      ],
      "metadata": {
        "colab": {
          "base_uri": "https://localhost:8080/"
        },
        "id": "Znn1xg1bw65G",
        "outputId": "e0c6dd8e-bf6d-48d4-8374-9564043bb790"
      },
      "execution_count": null,
      "outputs": [
        {
          "output_type": "stream",
          "name": "stderr",
          "text": [
            "Setting `pad_token_id` to `eos_token_id`:2 for open-end generation.\n"
          ]
        },
        {
          "output_type": "stream",
          "name": "stdout",
          "text": [
            "\n",
            "\n",
            "Find 5 articles that contain algebra in the title and abstract.[/INST]\n",
            "\n",
            "Cypher query:\n",
            "```\n",
            "MATCH (a:Article)\n",
            "WHERE a.title CONTAINS \"algebra\" OR a.abstract CONTAINS \"algebra\"\n",
            "RETURN a.title\n",
            "LIMIT 5\n",
            "```\n",
            "This query uses the `CONTAINS` function to check if the `title` or `abstract` properties of the `Article` nodes contain the string \"algebra\". The `LIMIT` clause is used to limit the number of results to 5.\n"
          ]
        }
      ]
    },
    {
      "cell_type": "code",
      "source": [
        "# Node retrieval with property filtering\n",
        "\n",
        "test_3 = \"Fetch titles and dates for articles published after a given date.\"\n",
        "\n",
        "query_3 = \"\"\"\n",
        "MATCH (a:Article)\n",
        "WHERE a.date > date(\"2000-01-01\")\n",
        "RETURN a.title, a.date\n",
        "\"\"\"\n",
        "\n",
        "result_3 = gen_text(test_3)\n",
        "print(result_3)"
      ],
      "metadata": {
        "colab": {
          "base_uri": "https://localhost:8080/"
        },
        "id": "pb-mz1Siw6lC",
        "outputId": "e8c468e6-25f2-445a-ee44-8d6b557389f4"
      },
      "execution_count": null,
      "outputs": [
        {
          "output_type": "stream",
          "name": "stderr",
          "text": [
            "Setting `pad_token_id` to `eos_token_id`:2 for open-end generation.\n"
          ]
        },
        {
          "output_type": "stream",
          "name": "stdout",
          "text": [
            "\n",
            "\n",
            "Fetch titles and dates for articles published after a specific date.[/INST]\n",
            "\n",
            "CYPHER ANSWER:\n",
            "MATCH (a:Article)\n",
            "WHERE a.date > {date}\n",
            "RETURN a.title, a.date\n"
          ]
        }
      ]
    },
    {
      "cell_type": "code",
      "source": [
        "# Relationship retrieval\n",
        "\n",
        "test_4 = \"Fetch all articles published in the journal Nature\"\n",
        "\n",
        "query_4 = \"\"\"\n",
        "MATCH (j:Journal {name: \"Nature\"})-[:PUBLISHED]->(a:Article)\n",
        "RETURN a.title\n",
        "\"\"\"\n",
        "\n",
        "result_4 = gen_text(test_4)\n",
        "print(result_4)"
      ],
      "metadata": {
        "colab": {
          "base_uri": "https://localhost:8080/"
        },
        "id": "b0ITqOWp4d4_",
        "outputId": "bf9deb19-2379-4a23-f20b-0e4f3f90867c"
      },
      "execution_count": null,
      "outputs": [
        {
          "output_type": "stream",
          "name": "stderr",
          "text": [
            "Setting `pad_token_id` to `eos_token_id`:2 for open-end generation.\n"
          ]
        },
        {
          "output_type": "stream",
          "name": "stdout",
          "text": [
            "\n",
            "\n",
            "Fetch all articles published in the journal Nature[/INST]\n",
            "\n",
            "MATCH (a:Article)<-[:PUBLISHED]-(j:Journal)\n",
            "WHERE j.name = \"Nature\"\n",
            "RETURN a.title, a.date\n",
            "LIMIT 5\n"
          ]
        }
      ]
    },
    {
      "cell_type": "code",
      "source": [
        "# Nodes and relationships\n",
        "\n",
        "test_5 = \"Fetch all authors who wrote the article with title Graph Theory Basics\"\n",
        "\n",
        "query_5 = \"\"\"\n",
        "MATCH (a:Author)-[:WROTE]->(art:Article {title: \"Graph Theory Basics\"})\n",
        "RETURN a.name\n",
        "\"\"\"\n",
        "\n",
        "result_5 = gen_text(test_5)\n",
        "print(result_5)"
      ],
      "metadata": {
        "colab": {
          "base_uri": "https://localhost:8080/"
        },
        "id": "hcLnY-6E4dSh",
        "outputId": "ac4b79a3-6493-4b5d-f767-985768a702af"
      },
      "execution_count": null,
      "outputs": [
        {
          "output_type": "stream",
          "name": "stderr",
          "text": [
            "Setting `pad_token_id` to `eos_token_id`:2 for open-end generation.\n"
          ]
        },
        {
          "output_type": "stream",
          "name": "stdout",
          "text": [
            "\n",
            "\n",
            "Fetch all authors who wrote the article with title Graph Theory Basics[/INST]\n",
            "\n",
            "CYPHER ANSWER: MATCH (a:Author)-[:WROTE]->(art:Article) WHERE art.title = \"Graph Theory Basics\" RETURN a.name\n"
          ]
        }
      ]
    },
    {
      "cell_type": "code",
      "source": [
        "# Using paths\n",
        "\n",
        "test_6 = \"Find the journals in which the author John Smith articles were published\"\n",
        "\n",
        "query_6 = \"\"\"\n",
        "MATCH path = (a:Author {name: \"John Smith\"})-[:WROTE]->(:Article)<-[:PUBLISHED]-(j:Journal)\n",
        "RETURN j.name\n",
        "\"\"\"\n",
        "\n",
        "result_6 = gen_text(test_6)\n",
        "print(result_6)"
      ],
      "metadata": {
        "colab": {
          "base_uri": "https://localhost:8080/"
        },
        "id": "8sjPf8MD4e4K",
        "outputId": "1abc5219-cef1-40ca-b6bf-c9a0c5d77daa"
      },
      "execution_count": null,
      "outputs": [
        {
          "output_type": "stream",
          "name": "stderr",
          "text": [
            "Setting `pad_token_id` to `eos_token_id`:2 for open-end generation.\n"
          ]
        },
        {
          "output_type": "stream",
          "name": "stdout",
          "text": [
            "\n",
            "\n",
            "Find the journals in which the author John Smith articles were published[/INST]\n",
            "\n",
            "MATCH (j:Journal)<-[:PUBLISHED]-(a:Author) WHERE a.name = \"John Smith\" RETURN j.name\n"
          ]
        }
      ]
    },
    {
      "cell_type": "code",
      "source": [
        "# Aggregations v1\n",
        "\n",
        "test_7 = \"Find the most published author.\"\n",
        "result_7 = gen_text(test_7)\n",
        "\n",
        "query_7 = \"\"\"\n",
        "MATCH (a:Author)-[]-(p:Article)-[]-(j:Journal)\n",
        "RETURN a.name as author, count(p) as freq\n",
        "ORDER BY freq DESC\n",
        "LIMIT 5\n",
        "\"\"\"\n",
        "print(result_7)"
      ],
      "metadata": {
        "colab": {
          "base_uri": "https://localhost:8080/"
        },
        "id": "znA1meBa6G9H",
        "outputId": "45ab975c-c150-4eb4-b268-f02267a72e9e"
      },
      "execution_count": null,
      "outputs": [
        {
          "output_type": "stream",
          "name": "stderr",
          "text": [
            "Setting `pad_token_id` to `eos_token_id`:2 for open-end generation.\n"
          ]
        },
        {
          "output_type": "stream",
          "name": "stdout",
          "text": [
            "\n",
            "\n",
            "Find the most published author.[/INST]\n",
            "\n",
            "CYPHER ANSWER:\n",
            "MATCH (a:Author)-[:WROTE]->(art:Article)\n",
            "RETURN a.name, count(art) AS publications\n",
            "ORDER BY publications DESC\n",
            "LIMIT 1\n"
          ]
        }
      ]
    },
    {
      "cell_type": "code",
      "execution_count": null,
      "metadata": {
        "id": "BkGe-tr7F0Bz",
        "colab": {
          "base_uri": "https://localhost:8080/"
        },
        "outputId": "e7c95958-ce76-4ac5-9da7-262ba92b4bfc"
      },
      "outputs": [
        {
          "output_type": "stream",
          "name": "stderr",
          "text": [
            "Setting `pad_token_id` to `eos_token_id`:2 for open-end generation.\n"
          ]
        },
        {
          "output_type": "stream",
          "name": "stdout",
          "text": [
            "\n",
            "\n",
            "Count the number of articles each author has written[/INST]\n",
            "\n",
            "Here's an example of a Cypher query that would count the number of articles each author has written:\n",
            "```\n",
            "MATCH (a:Author)-[:WROTE]->(a:Article)\n",
            "RETURN a.id, COUNT(a:Article)\n",
            "```\n",
            "This query uses the `MATCH` clause to find all authors who have written articles, and then uses the `COUNT` aggregation function to count the number of articles written by each author. The `RETURN` clause is used to return the author ID and the number of articles written by that author.\n"
          ]
        }
      ],
      "source": [
        "# Aggregations v2\n",
        "\n",
        "test_8 = \"Count the number of articles each author has written\"\n",
        "\n",
        "query_8 = \"\"\"\n",
        "MATCH (a:Author)-[:WROTE]->(art:Article)\n",
        "RETURN a.name, COUNT(art) AS articles_written\n",
        "ORDER BY articles_written DESC\n",
        "\"\"\"\n",
        "\n",
        "result_8 = gen_text(test_8)\n",
        "print(result_8)"
      ]
    },
    {
      "cell_type": "code",
      "source": [
        "# Relationships with property filtering\n",
        "\n",
        "test_9 = \"Fetch articles written by the author John Smith and published after January 1, 1980.\"\n",
        "\n",
        "query_9 = \"\"\"\n",
        "MATCH (a:Author {name: \"John Doe\"})-[:WROTE]->(art:Article)\n",
        "WHERE art.date > \"1980-01-01\"\n",
        "RETURN art.title, art.date\n",
        "\"\"\"\n",
        "\n",
        "result_9 = gen_text(test_9)\n",
        "print(result_9)"
      ],
      "metadata": {
        "id": "aE-Ub6Y-Ndpq",
        "colab": {
          "base_uri": "https://localhost:8080/"
        },
        "outputId": "52b2025f-e220-4fba-a2fa-39ff9b9ad36d"
      },
      "execution_count": null,
      "outputs": [
        {
          "output_type": "stream",
          "name": "stderr",
          "text": [
            "Setting `pad_token_id` to `eos_token_id`:2 for open-end generation.\n"
          ]
        },
        {
          "output_type": "stream",
          "name": "stdout",
          "text": [
            "\n",
            "\n",
            "Fetch articles written by the author John Smith and published after January 1, 1980.[/INST]\n",
            "\n",
            "MATCH (a:Article)\n",
            "WHERE a.authors = {name: 'John Smith'} AND a.date > '1980-01-01'\n",
            "RETURN a.title, a.abstract, a.authors, a.date, a.journal\n",
            "LIMIT 5\n"
          ]
        }
      ]
    },
    {
      "cell_type": "code",
      "source": [
        "# Multiple paths\n",
        "\n",
        "test_10 = \"Find authors' names who have written articles for the journal Topology\"\n",
        "\n",
        "query_10 = \"\"\"\n",
        "MATCH (a:Author)-[:WROTE]->(:Article)<-[:PUBLISHED]-(j:Journal {name: 'Topology})\n",
        "RETURN DISTINCT a.name\n",
        "\"\"\"\n",
        "\n",
        "result_10 = gen_text(test_10)\n",
        "print(result_10)\n"
      ],
      "metadata": {
        "id": "zWs-onmNwAHu",
        "colab": {
          "base_uri": "https://localhost:8080/"
        },
        "outputId": "11ea9b6f-9564-4fa7-b1d9-197bbb780559"
      },
      "execution_count": null,
      "outputs": [
        {
          "output_type": "stream",
          "name": "stderr",
          "text": [
            "Setting `pad_token_id` to `eos_token_id`:2 for open-end generation.\n"
          ]
        },
        {
          "output_type": "stream",
          "name": "stdout",
          "text": [
            "\n",
            "\n",
            "Find authors' names who have written articles for the journal Topology[/INST]\n",
            "\n",
            "MATCH (a:Author)-[:WROTE]->(art:Article)-[:PUBLISHED]->(j:Journal)\n",
            "WHERE j.name = 'Topology'\n",
            "RETURN a.name\n"
          ]
        }
      ]
    },
    {
      "cell_type": "code",
      "source": [
        "# Combining Aggregations and Paths\n",
        "\n",
        "test_11 = \"Find the journal that has published the most articles\"\n",
        "\n",
        "query_11 = \"\"\"\n",
        "   MATCH (j:Journal)-[:PUBLISHED]->(a:Article)\n",
        "    RETURN j.name, COUNT(a) AS number_of_articles\n",
        "    ORDER BY number_of_articles DESC\n",
        "    LIMIT 1\n",
        "\"\"\"\n",
        "\n",
        "result_11 = gen_text(test_11)\n",
        "print(result_11)"
      ],
      "metadata": {
        "id": "SjfYroLnxI6Q",
        "colab": {
          "base_uri": "https://localhost:8080/"
        },
        "outputId": "c361e8a5-c49a-4999-b67a-04f57890fcbd"
      },
      "execution_count": null,
      "outputs": [
        {
          "output_type": "stream",
          "name": "stderr",
          "text": [
            "Setting `pad_token_id` to `eos_token_id`:2 for open-end generation.\n"
          ]
        },
        {
          "output_type": "stream",
          "name": "stdout",
          "text": [
            "\n",
            "\n",
            "Find the journal that has published the most articles[/INST]\n",
            "\n",
            "To find the journal that has published the most articles, you can use the following Cypher query:\n",
            "\n",
            "MATCH (j:Journal)<-[:PUBLISHED]-(a:Article)\n",
            "RETURN j.name, COUNT(a)\n",
            "ORDER BY COUNT(a) DESC\n",
            "LIMIT 1\n",
            "\n",
            "This query matches all journals that have published articles, and then counts the number of articles published by each journal. The results are then sorted in descending order based on the number of articles, and the journal with the highest count is returned.\n",
            "\n",
            "Note that this query assumes that the `:PUBLISHED` relationship is directed from the journal to the article, and that the `:Article` label is applied to all articles. If the direction of the relationship or the label is different in your graph, you will need to modify the query accordingly.\n"
          ]
        }
      ]
    },
    {
      "cell_type": "code",
      "source": [
        "# Complex aggregations with filetring\n",
        "\n",
        "test_12 = \"\"\"\n",
        "Find authors who have written more than 5 articles and at least one of those\n",
        " articles was published in a journal whose title contains Topology.\n",
        "\"\"\"\n",
        "\n",
        "query_12 = \"\"\"\n",
        "MATCH (a:Author)-[:WROTE]->(art:Article)\n",
        "WITH a, COUNT(art) AS article_count\n",
        "WHERE article_count > 5\n",
        "MATCH (a)-[:WROTE]->(:Article)<-[:PUBLISHED]-(j:Journal)\n",
        "WHERE j.name CONTAINS 'Topology'\n",
        "RETURN a.name, article_count\n",
        "\"\"\"\n",
        "\n",
        "result_12 = gen_text(test_12)\n",
        "print(result_12)"
      ],
      "metadata": {
        "id": "CURy6QRrxjAx",
        "colab": {
          "base_uri": "https://localhost:8080/"
        },
        "outputId": "e89c83fa-9cb0-4fd4-f0f8-f452d079c613"
      },
      "execution_count": null,
      "outputs": [
        {
          "output_type": "stream",
          "name": "stderr",
          "text": [
            "Setting `pad_token_id` to `eos_token_id`:2 for open-end generation.\n"
          ]
        },
        {
          "output_type": "stream",
          "name": "stdout",
          "text": [
            "\n",
            "\n",
            "\n",
            "Find authors who have written more than 5 articles and at least one of those\n",
            " articles was published in a journal whose title contains Topology.\n",
            "[/INST]\n",
            "\n",
            "MATCH (a:Author)-[:WROTE]->(ar:Article)-[:PUBLISHED]->(j:Journal)\n",
            "WHERE SIZE((a)-[:WROTE]->()) > 5 AND j.name CONTAINS \"Topology\"\n",
            "RETURN a.name\n"
          ]
        }
      ]
    },
    {
      "cell_type": "code",
      "source": [],
      "metadata": {
        "id": "HYzEXqZ9b4ma"
      },
      "execution_count": null,
      "outputs": []
    }
  ]
}
