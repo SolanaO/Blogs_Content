{
  "nbformat": 4,
  "nbformat_minor": 0,
  "metadata": {
    "colab": {
      "provenance": [],
      "authorship_tag": "ABX9TyNoQuqf4W8QBmYCqxo89sB1"
    },
    "kernelspec": {
      "name": "python3",
      "display_name": "Python 3"
    },
    "language_info": {
      "name": "python"
    }
  },
  "cells": [
    {
      "cell_type": "markdown",
      "source": [
        "# Knowledge Graph Data Extraction"
      ],
      "metadata": {
        "id": "wTs3a7OkdRtO"
      }
    },
    {
      "cell_type": "markdown",
      "source": [
        "## Description"
      ],
      "metadata": {
        "id": "dWLMTmazs-tA"
      }
    },
    {
      "cell_type": "markdown",
      "source": [
        "In this notebook:  \n",
        "\n",
        "- connect to an existing Neo4j graph database,\n",
        "- extract schema and relevant KG information,\n",
        "- extract a set of instances to use as samples,\n",
        "- save relevant files for later use."
      ],
      "metadata": {
        "id": "SB3oKYODpwxu"
      }
    },
    {
      "cell_type": "markdown",
      "source": [
        "## Workspace Setup"
      ],
      "metadata": {
        "id": "BGqjVB2YytME"
      }
    },
    {
      "cell_type": "code",
      "execution_count": null,
      "metadata": {
        "id": "tvScvlRDyrtC",
        "colab": {
          "base_uri": "https://localhost:8080/"
        },
        "outputId": "7200bf47-64b0-465b-b1e0-fce847338312"
      },
      "outputs": [
        {
          "output_type": "stream",
          "name": "stdout",
          "text": [
            "Requirement already satisfied: neo4j in /usr/local/lib/python3.10/dist-packages (5.16.0)\n",
            "Requirement already satisfied: pytz in /usr/local/lib/python3.10/dist-packages (from neo4j) (2023.3.post1)\n",
            "Requirement already satisfied: python-levenshtein in /usr/local/lib/python3.10/dist-packages (0.23.0)\n",
            "Requirement already satisfied: Levenshtein==0.23.0 in /usr/local/lib/python3.10/dist-packages (from python-levenshtein) (0.23.0)\n",
            "Requirement already satisfied: rapidfuzz<4.0.0,>=3.1.0 in /usr/local/lib/python3.10/dist-packages (from Levenshtein==0.23.0->python-levenshtein) (3.6.1)\n"
          ]
        }
      ],
      "source": [
        "%pip install neo4j\n",
        "%pip install python-levenshtein"
      ]
    },
    {
      "cell_type": "code",
      "source": [
        "# Load and mount the drive helper\n",
        "from google.colab import drive\n",
        "\n",
        "# This will prompt for authorization\n",
        "drive.mount('/content/drive')\n",
        "\n",
        "# Set the working directory\n",
        "%cd '/content/drive/MyDrive/cypherGen/'"
      ],
      "metadata": {
        "colab": {
          "base_uri": "https://localhost:8080/"
        },
        "id": "WSGifOcWy6C0",
        "outputId": "9153b2f3-08e2-4ca1-9baf-105e7e97a6ae"
      },
      "execution_count": null,
      "outputs": [
        {
          "output_type": "stream",
          "name": "stdout",
          "text": [
            "Drive already mounted at /content/drive; to attempt to forcibly remount, call drive.mount(\"/content/drive\", force_remount=True).\n",
            "/content/drive/MyDrive/cypherGen\n"
          ]
        }
      ]
    },
    {
      "cell_type": "code",
      "source": [
        "# Upload the Neo4j graph database credentials\n",
        "# Neo4j graph database credentials\n",
        "#URI = 'neo4j+s://xxxxxxxx.databases.neo4j.io'\n",
        "#USER = 'neo4j'\n",
        "#PWD = 'your password here'\n",
        "\n",
        "from google.colab import userdata\n",
        "URI = userdata.get('URI')\n",
        "PWD = userdata.get('PWD')"
      ],
      "metadata": {
        "id": "-dBNVk3dJWhi"
      },
      "execution_count": null,
      "outputs": []
    },
    {
      "cell_type": "code",
      "source": [
        "# Necessary imports\n",
        "import neo4j\n",
        "import pandas as pd\n",
        "import random\n",
        "import itertools\n",
        "\n",
        "# Import the local modules\n",
        "from utils.utilities import *\n",
        "from utils.neo4j_conn import *\n",
        "from utils.neo4j_schema import *\n",
        "from utils.graph_utils import *"
      ],
      "metadata": {
        "id": "zIX3pjHH1GHq"
      },
      "execution_count": null,
      "outputs": []
    },
    {
      "cell_type": "code",
      "source": [
        "# Initialize the Neo4j connector and utilities modules\n",
        "graph=Neo4jGraph(url=URI, username='neo4j', password=PWD)\n",
        "gutils = Neo4jSchema(url=URI, username='neo4j', password=PWD)"
      ],
      "metadata": {
        "id": "mNpBeIc61Hiw"
      },
      "execution_count": null,
      "outputs": []
    },
    {
      "cell_type": "code",
      "source": [
        "# Check the graph connection\n",
        "graph.query(\"MATCH (n) RETURN count(n)\")"
      ],
      "metadata": {
        "colab": {
          "base_uri": "https://localhost:8080/"
        },
        "id": "GSkOkuLQ3xGu",
        "outputId": "67bede86-ac65-4ac0-9203-959d51576e63"
      },
      "execution_count": null,
      "outputs": [
        {
          "output_type": "execute_result",
          "data": {
            "text/plain": [
              "[{'count(n)': 38650}]"
            ]
          },
          "metadata": {},
          "execution_count": 5
        }
      ]
    },
    {
      "cell_type": "code",
      "source": [
        "# Create a path variable for the data folder\n",
        "data_path = '/content/drive/MyDrive/cypherGen/datas/'\n",
        "\n",
        "# Set file names\n",
        "schema_file = 'schema_file.json'  # schema as JSON object\n",
        "formatted_schema_file = 'formatted_schema.txt' # schema as a string to be included with prompt\n",
        "node_instances_file = 'node_instances_file.json' # set of node instances as JSON object\n",
        "rels_instances_file = 'rels_instances_file.json' # set of relationship instances as JSON object"
      ],
      "metadata": {
        "id": "Qf-uhamU43cF"
      },
      "execution_count": null,
      "outputs": []
    },
    {
      "cell_type": "markdown",
      "source": [
        "## Extract data from KG"
      ],
      "metadata": {
        "id": "R8Zhe2qqdL3t"
      }
    },
    {
      "cell_type": "code",
      "source": [
        "# Build the string schema\n",
        "schema = gutils.get_schema\n",
        "\n",
        "# Save the string schema to a file\n",
        "with open(data_path+formatted_schema_file, 'w') as f:\n",
        "    f.write(schema)"
      ],
      "metadata": {
        "id": "IJrrQMC0ql2K"
      },
      "execution_count": null,
      "outputs": []
    },
    {
      "cell_type": "code",
      "source": [
        "# The string schema\n",
        "print(schema)"
      ],
      "metadata": {
        "colab": {
          "base_uri": "https://localhost:8080/"
        },
        "id": "m-Tx-YJuOn2b",
        "outputId": "44f0d32c-af58-4243-ecce-7df5e70179ab"
      },
      "execution_count": null,
      "outputs": [
        {
          "output_type": "stream",
          "name": "stdout",
          "text": [
            "Node properties are the following:\n",
            "Article {abstract: STRING, article_id: INTEGER, comments: STRING, title: STRING},Keyword {name: STRING, key_id: STRING},Topic {cluster: INTEGER, description: STRING, label: STRING},Author {author_id: STRING, affiliation: STRING, first_name: STRING, last_name: STRING},DOI {name: STRING, doi_id: STRING},Categories {category_id: STRING, specifications: STRING},Report {report_id: STRING, report_no: STRING},UpdateDate {update_date: DATE},Journal {name: STRING, journal_id: STRING}\n",
            "Relationship properties are the following:\n",
            "PUBLISHED_IN {meta: STRING, pages: STRING, year: INTEGER}\n",
            "The relationships are the following:\n",
            "(:Article)-[:HAS_KEY]->(:Keyword),(:Article)-[:HAS_DOI]->(:DOI),(:Article)-[:HAS_CATEGORY]->(:Categories),(:Article)-[:WRITTEN_BY]->(:Author),(:Article)-[:UPDATED]->(:UpdateDate),(:Article)-[:PUBLISHED_IN]->(:Journal),(:Article)-[:HAS_REPORT]->(:Report),(:Keyword)-[:HAS_TOPIC]->(:Topic)\n"
          ]
        }
      ]
    },
    {
      "cell_type": "code",
      "source": [
        "# Build the json schema\n",
        "jschema = gutils.get_structured_schema\n",
        "# Check the output\n",
        "jschema.keys()"
      ],
      "metadata": {
        "id": "VRNNQu5V37Cp",
        "colab": {
          "base_uri": "https://localhost:8080/"
        },
        "outputId": "cc6f0b68-9d00-4186-87b7-93ddc6584421"
      },
      "execution_count": null,
      "outputs": [
        {
          "output_type": "execute_result",
          "data": {
            "text/plain": [
              "dict_keys(['node_props', 'rel_props', 'relationships'])"
            ]
          },
          "metadata": {},
          "execution_count": 10
        }
      ]
    },
    {
      "cell_type": "code",
      "source": [
        "# Extract the list of nodes\n",
        "nodes = get_nodes_list(jschema)\n",
        "print(nodes)"
      ],
      "metadata": {
        "colab": {
          "base_uri": "https://localhost:8080/"
        },
        "id": "X0Ib4sBO2lIU",
        "outputId": "9ddfe6de-c54c-4fae-e2b1-8035e55345fc"
      },
      "execution_count": null,
      "outputs": [
        {
          "output_type": "stream",
          "name": "stdout",
          "text": [
            "['Article', 'Keyword', 'Topic', 'Author', 'DOI', 'Categories', 'Report', 'UpdateDate', 'Journal']\n"
          ]
        }
      ]
    },
    {
      "cell_type": "code",
      "source": [
        "# Read the nodes with their properties and their datatypes\n",
        "node_props_types = jschema['node_props']\n",
        "# Check the output\n",
        "\n",
        "print(f\"The properties of the node Report are:\\n{node_props_types['Report']}\")"
      ],
      "metadata": {
        "id": "q8hwN-X54Sn2",
        "colab": {
          "base_uri": "https://localhost:8080/"
        },
        "outputId": "77c78c68-2a58-4bda-ec38-005ed1402169"
      },
      "execution_count": null,
      "outputs": [
        {
          "output_type": "stream",
          "name": "stdout",
          "text": [
            "The properties of the node Report are:\n",
            "[{'property': 'report_id', 'datatype': 'STRING'}, {'property': 'report_no', 'datatype': 'STRING'}]\n"
          ]
        }
      ]
    },
    {
      "cell_type": "code",
      "source": [
        "# Extract the relationships\n",
        "relationships = jschema['relationships']\n",
        "print(\"The relationships in the graph are:\\n\")\n",
        "relationships"
      ],
      "metadata": {
        "colab": {
          "base_uri": "https://localhost:8080/"
        },
        "id": "CWcsGAjy3FyG",
        "outputId": "93c15338-f712-41a4-801c-dccfc6f00e44"
      },
      "execution_count": null,
      "outputs": [
        {
          "output_type": "stream",
          "name": "stdout",
          "text": [
            "The relationships in the graph are:\n",
            "\n"
          ]
        },
        {
          "output_type": "execute_result",
          "data": {
            "text/plain": [
              "[{'start': 'Article', 'type': 'HAS_KEY', 'end': 'Keyword'},\n",
              " {'start': 'Article', 'type': 'HAS_DOI', 'end': 'DOI'},\n",
              " {'start': 'Article', 'type': 'HAS_CATEGORY', 'end': 'Categories'},\n",
              " {'start': 'Article', 'type': 'WRITTEN_BY', 'end': 'Author'},\n",
              " {'start': 'Article', 'type': 'UPDATED', 'end': 'UpdateDate'},\n",
              " {'start': 'Article', 'type': 'PUBLISHED_IN', 'end': 'Journal'},\n",
              " {'start': 'Article', 'type': 'HAS_REPORT', 'end': 'Report'},\n",
              " {'start': 'Keyword', 'type': 'HAS_TOPIC', 'end': 'Topic'}]"
            ]
          },
          "metadata": {},
          "execution_count": 13
        }
      ]
    },
    {
      "cell_type": "code",
      "source": [
        "# Extract node samples from the graph - 4 sets of node samples\n",
        "node_instances = gutils.extract_node_instances(nodes, # list of nodes to extract labels\n",
        "                                               4)  # how many instances to extract\n",
        "# We have a list of sublists, one for each node label in the provided list\n",
        "node_instances[2]"
      ],
      "metadata": {
        "colab": {
          "base_uri": "https://localhost:8080/"
        },
        "id": "VYyruqj23OSl",
        "outputId": "29551053-b5ff-4713-abb8-9e11a234ed3d"
      },
      "execution_count": null,
      "outputs": [
        {
          "output_type": "execute_result",
          "data": {
            "text/plain": [
              "[{'Instance': {'Label': 'Topic',\n",
              "   'properties': {'description': 'The study of how populations grow, decline, and evolve over time, with a focus on understanding the underlying mechanisms and patterns that govern these processes. Key concepts include discrete log problems, logarithmic barriers, intermediate and super-exponential growth, layer-by-layer growth, and population dynamics from a superpopulation viewpoint. Topics also include population genetics, selection, and the role of logarithms in various contexts such as gain, log-balanced, log-price, and log resolution. Additionally, there is interest in understanding the relationship',\n",
              "    'cluster': 0,\n",
              "    'label': 'Population Dynamics_0'}}},\n",
              " {'Instance': {'Label': 'Topic',\n",
              "   'properties': {'description': 'Focusing on techniques and concepts related to transformations, solutions, and properties of linear equations and matrices, including Jordan normal form, eigenvalues, eigenvectors, diagonalization, and eigenformulations.',\n",
              "    'cluster': 1,\n",
              "    'label': 'Linear Algebra_1'}}},\n",
              " {'Instance': {'Label': 'Topic',\n",
              "   'properties': {'description': 'Studies eigenvalues and eigenvectors of operators, analyzing how structures behave under various conditions in mathematics and physics.',\n",
              "    'cluster': 2,\n",
              "    'label': 'Spectral Theory_2'}}},\n",
              " {'Instance': {'Label': 'Topic',\n",
              "   'properties': {'description': 'Study of mathematical structures called categories, characterized by objects and morphisms that relate them, with emphasis on reductions and indecomposability concepts.',\n",
              "    'cluster': 3,\n",
              "    'label': 'Category theory_3'}}}]"
            ]
          },
          "metadata": {},
          "execution_count": 14
        }
      ]
    },
    {
      "cell_type": "code",
      "source": [
        "# Extract relationship instances\n",
        "rels_instances = gutils.extract_multiple_relationships_instances(relationships, # list of relationships to extract instances for\n",
        "                                                                 8)  # how many instances to extract for each relationship\n",
        "# A list of sublists with 8 entries for each relatonship type\n",
        "rels_instances[0][0]"
      ],
      "metadata": {
        "colab": {
          "base_uri": "https://localhost:8080/"
        },
        "id": "2yhGw75J4J1O",
        "outputId": "3ec4bf39-a4ed-4e99-a32c-1003d0bf9346"
      },
      "execution_count": null,
      "outputs": [
        {
          "output_type": "execute_result",
          "data": {
            "text/plain": [
              "{'Article_Start': {'article_id': 1006,\n",
              "  'comments': '21 pages, AMS-LaTeX',\n",
              "  'abstract': '  Using matrix inversion and determinant evaluation techniques we prove several\\nsummation and transformation formulas for terminating, balanced,\\nvery-well-poised, elliptic hypergeometric series.\\n',\n",
              "  'title': 'Summation and transformation formulas for elliptic hypergeometric series'},\n",
              " 'HAS_KEY': {},\n",
              " 'Keyword_End': {'key_id': '720452e14ca2e4e07b76fa5a9bc0b5f6',\n",
              "  'name': 'summation'}}"
            ]
          },
          "metadata": {},
          "execution_count": 15
        }
      ]
    },
    {
      "cell_type": "code",
      "source": [
        "# Serialize extracted neo4j.time data - for saving to json files\n",
        "nodes_instances_serialized = serialize_nodes_data(node_instances)\n",
        "rels_instances_serialized = serialize_relationships_data(rels_instances)"
      ],
      "metadata": {
        "id": "Mj1aJbFd6GfF"
      },
      "execution_count": null,
      "outputs": []
    },
    {
      "cell_type": "code",
      "source": [
        "# When working with large schema KG is better to provide a subschema only, based on a node selection\n",
        "# This will extract first neighbors and all the corresponding relationships\n",
        "get_subgraph_schema(jschema, ['Topic'], # nodes to extract information for\n",
        "                    2, # Levenshtein distance (actual node label, provided label)\n",
        "                    True) # formated as a string"
      ],
      "metadata": {
        "colab": {
          "base_uri": "https://localhost:8080/",
          "height": 53
        },
        "id": "LCSJ9UHP_pLD",
        "outputId": "17e9b5b5-a28e-4566-a0b6-0a928a0800cf"
      },
      "execution_count": null,
      "outputs": [
        {
          "output_type": "execute_result",
          "data": {
            "text/plain": [
              "'Node properties are the following:\\nTopic {cluster: INTEGER, description: STRING, label: STRING}\\nRelationship properties are the following:\\n\\nThe relationships are the following:\\n(:Keyword)-[:HAS_TOPIC]->(:Topic)'"
            ],
            "application/vnd.google.colaboratory.intrinsic+json": {
              "type": "string"
            }
          },
          "metadata": {},
          "execution_count": 19
        }
      ]
    },
    {
      "cell_type": "code",
      "source": [
        "# Find the datatypes present in the graph\n",
        "dtypes = retrieve_datatypes(jschema)\n",
        "dtypes"
      ],
      "metadata": {
        "colab": {
          "base_uri": "https://localhost:8080/"
        },
        "id": "pKXUWf5MfykK",
        "outputId": "22580b74-5389-4f23-aa92-24adb1f5b8a1"
      },
      "execution_count": null,
      "outputs": [
        {
          "output_type": "execute_result",
          "data": {
            "text/plain": [
              "{'DATE', 'INTEGER', 'STRING'}"
            ]
          },
          "metadata": {},
          "execution_count": 18
        }
      ]
    },
    {
      "cell_type": "code",
      "source": [
        "# Save data to json files\n",
        "write_json(jschema, data_path+schema_file)\n",
        "write_json(nodes_instances_serialized, data_path+node_instances_file)\n",
        "write_json(rels_instances_serialized, data_path+rels_instances_file)"
      ],
      "metadata": {
        "id": "MfFEIaoALUYZ"
      },
      "execution_count": null,
      "outputs": []
    },
    {
      "cell_type": "code",
      "source": [],
      "metadata": {
        "id": "k8MHVAriLUPW"
      },
      "execution_count": null,
      "outputs": []
    }
  ]
}