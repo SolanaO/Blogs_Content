{
  "nbformat": 4,
  "nbformat_minor": 0,
  "metadata": {
    "colab": {
      "provenance": [],
      "machine_shape": "hm",
      "authorship_tag": "ABX9TyOCTMRhZRS2qqQjE6TNVb/g"
    },
    "kernelspec": {
      "name": "python3",
      "display_name": "Python 3"
    },
    "language_info": {
      "name": "python"
    }
  },
  "cells": [
    {
      "cell_type": "markdown",
      "source": [
        "# Synthetic Data Generation"
      ],
      "metadata": {
        "id": "nmZFDozOrDHb"
      }
    },
    {
      "cell_type": "markdown",
      "source": [
        "## Workspace Setup"
      ],
      "metadata": {
        "id": "sK3KQkIm7rgh"
      }
    },
    {
      "cell_type": "code",
      "source": [
        "!pip install openai -q"
      ],
      "metadata": {
        "colab": {
          "base_uri": "https://localhost:8080/"
        },
        "id": "lPSF5_AW73Z7",
        "outputId": "dbb14748-24bc-4183-8282-591b05f73baa"
      },
      "execution_count": null,
      "outputs": [
        {
          "output_type": "stream",
          "name": "stdout",
          "text": [
            "\u001b[?25l     \u001b[90m━━━━━━━━━━━━━━━━━━━━━━━━━━━━━━━━━━━━━━━━\u001b[0m \u001b[32m0.0/222.3 kB\u001b[0m \u001b[31m?\u001b[0m eta \u001b[36m-:--:--\u001b[0m\r\u001b[2K     \u001b[91m━━━━━━━━━━━━━━━━━━━━━━━━━━━━━━━━━━━━━━\u001b[0m\u001b[91m╸\u001b[0m\u001b[90m━\u001b[0m \u001b[32m215.0/222.3 kB\u001b[0m \u001b[31m7.7 MB/s\u001b[0m eta \u001b[36m0:00:01\u001b[0m\r\u001b[2K     \u001b[90m━━━━━━━━━━━━━━━━━━━━━━━━━━━━━━━━━━━━━━━━\u001b[0m \u001b[32m222.3/222.3 kB\u001b[0m \u001b[31m5.4 MB/s\u001b[0m eta \u001b[36m0:00:00\u001b[0m\n",
            "\u001b[2K     \u001b[90m━━━━━━━━━━━━━━━━━━━━━━━━━━━━━━━━━━━━━━━━\u001b[0m \u001b[32m75.9/75.9 kB\u001b[0m \u001b[31m3.1 MB/s\u001b[0m eta \u001b[36m0:00:00\u001b[0m\n",
            "\u001b[2K     \u001b[90m━━━━━━━━━━━━━━━━━━━━━━━━━━━━━━━━━━━━━━━━\u001b[0m \u001b[32m76.9/76.9 kB\u001b[0m \u001b[31m6.5 MB/s\u001b[0m eta \u001b[36m0:00:00\u001b[0m\n",
            "\u001b[2K     \u001b[90m━━━━━━━━━━━━━━━━━━━━━━━━━━━━━━━━━━━━━━━━\u001b[0m \u001b[32m58.3/58.3 kB\u001b[0m \u001b[31m3.7 MB/s\u001b[0m eta \u001b[36m0:00:00\u001b[0m\n",
            "\u001b[?25h\u001b[31mERROR: pip's dependency resolver does not currently take into account all the packages that are installed. This behaviour is the source of the following dependency conflicts.\n",
            "llmx 0.0.15a0 requires cohere, which is not installed.\n",
            "llmx 0.0.15a0 requires tiktoken, which is not installed.\n",
            "tensorflow-probability 0.22.0 requires typing-extensions<4.6.0, but you have typing-extensions 4.9.0 which is incompatible.\u001b[0m\u001b[31m\n",
            "\u001b[0m"
          ]
        }
      ]
    },
    {
      "cell_type": "code",
      "source": [
        "# Load and mount the drive helper\n",
        "from google.colab import drive\n",
        "\n",
        "# This will prompt for authorization\n",
        "drive.mount('/content/drive')\n",
        "\n",
        "# Set the working directory\n",
        "%cd '/content/drive/MyDrive/cypherGen/'\n",
        "\n",
        "# Create a path variable for the data folder\n",
        "data_path = '/content/drive/MyDrive/cypherGen/datas/'\n",
        "\n",
        "# Schema file in string form\n",
        "formatted_schema_file = 'formatted_schema.txt'\n",
        "\n",
        "# The json file for queries categories\n",
        "query_category_file = 'qcategories.json'\n",
        "\n",
        "# File to store the generated synthetic data\n",
        "synthetic_data_file = 'synthetic_data_4turbo.json'"
      ],
      "metadata": {
        "id": "AOYuzAiVEgsO",
        "colab": {
          "base_uri": "https://localhost:8080/"
        },
        "outputId": "bd788093-fcef-4e3d-b897-0c4acb9d8110"
      },
      "execution_count": null,
      "outputs": [
        {
          "output_type": "stream",
          "name": "stdout",
          "text": [
            "Drive already mounted at /content/drive; to attempt to forcibly remount, call drive.mount(\"/content/drive\", force_remount=True).\n",
            "/content/drive/MyDrive/arxivKG\n"
          ]
        }
      ]
    },
    {
      "cell_type": "code",
      "source": [
        "import pandas as pd\n",
        "import random\n",
        "import itertools\n",
        "import os\n",
        "import re\n",
        "import json\n",
        "\n",
        "from openai import OpenAI\n",
        "\n",
        "# Import the local modules\n",
        "from utils.utilities import *"
      ],
      "metadata": {
        "id": "1ndMUBIgEhpe"
      },
      "execution_count": null,
      "outputs": []
    },
    {
      "cell_type": "code",
      "source": [
        "# Credentials for OpenAI - replace with your own token\n",
        "os.environ[\"OPENAI_API_KEY\"] = \"sk-your key here\"\n",
        "\n",
        "# Instantiate the OpenAI client\n",
        "client = OpenAI()"
      ],
      "metadata": {
        "id": "cxoLgIORHbGC"
      },
      "execution_count": null,
      "outputs": []
    },
    {
      "cell_type": "code",
      "source": [
        "# The graph schema in string format\n",
        "\n",
        "schema = \"\"\"Node properties are the following:\\n\n",
        "Article {abstract: STRING, article_id: INTEGER, comments: STRING, title: STRING},\n",
        "Keyword {name: STRING, key_id: STRING},\n",
        "Topic {cluster: INTEGER, description: STRING, label: STRING},\n",
        "Author {author_id: STRING, affiliation: STRING, first_name: STRING, last_name: STRING},\n",
        "DOI {name: STRING, doi_id: STRING},Categories {category_id: STRING, specifications: STRING},\n",
        "Report {report_id: STRING, report_no: STRING},\n",
        "UpdateDate {update_date: DATE},\n",
        "Journal {name: STRING, journal_id: STRING}\\n\n",
        "Relationship properties are the following:\\n\n",
        "PUBLISHED_IN {meta: STRING, pages: STRING, year: INTEGER}\\n\n",
        "The relationships are the following:\\n\n",
        "(:Article)-[:HAS_KEY]->(:Keyword),\n",
        "(:Article)-[:HAS_DOI]->(:DOI),\n",
        "(:Article)-[:HAS_CATEGORY]->(:Categories),\n",
        "(:Article)-[:WRITTEN_BY]->(:Author),\n",
        "(:Article)-[:UPDATED]->(:UpdateDate),\n",
        "(:Article)-[:PUBLISHED_IN]->(:Journal),\n",
        "(:Article)-[:HAS_REPORT]->(:Report),\n",
        "(:Keyword)-[:HAS_TOPIC]->(:Topic)\n",
        "\"\"\""
      ],
      "metadata": {
        "id": "tg5c-IoVOPo2"
      },
      "execution_count": null,
      "outputs": []
    },
    {
      "cell_type": "markdown",
      "source": [
        "## Categories of Question:Cypher Pairs"
      ],
      "metadata": {
        "id": "Fn2VITfk7wsr"
      }
    },
    {
      "cell_type": "code",
      "source": [
        "# Queries categories extracted with ChatGPT with several tries, combined and edited\n",
        "# Notice the consistency of the format: Description: Questions about... For example, ...\n",
        "\n",
        "chatgpt_categories_prompt = f\"\"\"\n",
        "You are an experienced and useful Python and Neo4j/Cypher developer.\n",
        "\n",
        "I have a knowledge graph for which I would like to generate interesting questions\n",
        "which span 12 categories (or types) about the graph. They should cover single nodes questions,\n",
        "two or three more nodes, relationships and paths. Please suggest 12\n",
        "categories together with their short descriptions. Here is the graph schema:\n",
        " {schema}\n",
        " \"\"\"\n",
        "\n",
        "# Edited, enhanced, combined ChatGPT categories\n",
        "\n",
        "categories = [\n",
        "'''Article Inquiry: Questions about specific articles, focusing on their attributes, such as abstracts, titles, or comments.\n",
        "For example, \"What is the abstract of the article with the most comments?\"''',\n",
        "'''Keyword Analysis: Questions that delve into keywords, exploring their names, relationships with articles,\n",
        "and associated topics.\n",
        "For example, \"Which keyword is most common across all articles?\"''',\n",
        "'''Topic Exploration: Questions about topics, their descriptions, associations with keywords and clusters.\n",
        "For example, \"What are the main topics associated with a given keyword?\"''',\n",
        "'''Author Profile: Questions about authors, their affiliations, names, and articles they have written.\n",
        "For example, \"Who are the authors affiliated with 'X University' and what articles have they written?\"''',\n",
        "'''DOI Details: Questions about the Digital Object Identifier (DOI) of articles, including their names and specific IDs.\n",
        "For example, \"List all articles with a DOI containing a specific string or pattern.\"''',\n",
        "'''Category Classification: Questions about the categories of articles, their specifications and how articles are classified into these categories.\n",
        "For example, \"What are the different categories of articles published in the last year?\"''',\n",
        "'''Report Details: Questions about reports linked to articles, including report IDs and numbers.\n",
        "For example, \"Which articles are linked to report 'XYZ'?\"''',\n",
        "'''Update Date Timeline: Questions about when articles were updated, looking for patterns of recent updates.\n",
        "For example, \"Which articles were updated in the last month?\"''',\n",
        "'''Journal Publication: Questions about the journals in which articles are published, including journal names and the relationships between journals and articles.\n",
        "For example, \"What are the most common journals for articles on a specific topic?\"''',\n",
        "'''Authorship and Collaboration: Questions about co-authorship and collaboration patterns.\n",
        "For example, \"Which authors have co-authored articles the most?\"''',\n",
        "'''Article-Author Connections: Questions about the relationships between articles and authors,\n",
        "such as finding articles written by a specific author or authors of a particular article.\n",
        "For example, \"Find all the authors of the article with tile 'Explorations of manifolds'\"''',\n",
        "'''Pathfinding and Connectivity: Questions that involve paths between multiple nodes,\n",
        "such as tracing the relationship path from an article to a topic through keywords, or from an author to a journal through their articles.\n",
        "For example, \"How is the author 'John Doe' connected to the journal 'Nature'?\"''',\n",
        "'''Graph Structure and Patterns: Questions that analyze the overall structure of the graph,\n",
        "like finding the most connected nodes, or identifying patterns in relationships and node attributes, centrality measures, cluster analysis.\n",
        "For example, \"Which keyword is at the center of the largest cluster of articles?\"'''\n",
        "]"
      ],
      "metadata": {
        "id": "e03qbfYV2sST"
      },
      "execution_count": null,
      "outputs": []
    },
    {
      "cell_type": "markdown",
      "source": [
        "## Helpers and Wrappers"
      ],
      "metadata": {
        "id": "d3VJUEYPEzsF"
      }
    },
    {
      "cell_type": "code",
      "source": [
        "def create_prompt(schema, category):\n",
        "    \"\"\"Build and format the prompt.\"\"\"\n",
        "    formatted_prompt = [\n",
        "        {\"role\": \"system\",\n",
        "        \"content\": \"You are an experienced Cypher developer and a helpful assistant designed to output JSON!\"},\n",
        "        {\"role\": \"user\",\n",
        "         \"content\": f\"\"\"Generate 40 questions and their corresponding Cypher statements about the Neo4j graph database with the following schema:\n",
        "        {schema}\n",
        "        The questions should cover {category} and should be phrased in a natural conversational manner. Make the questions diverse and interesting.\n",
        "        Make sure to use the latest Cypher version and that all the queries are working Cypher queries for the provided graph. You may add\n",
        "        values for the node attributes as needed. Do not add any comments, do not label or number the questions.\n",
        "        \"\"\"}]\n",
        "    return formatted_prompt"
      ],
      "metadata": {
        "id": "_RjDrUgd8G_y"
      },
      "execution_count": null,
      "outputs": []
    },
    {
      "cell_type": "code",
      "source": [
        "def prompt_model(messages):\n",
        "    \"\"\"Function to produce and extract model's generation.\"\"\"\n",
        "    response = client.chat.completions.create(\n",
        "        model=\"gpt-4-1106-preview\", # work with gpt-4-turbo\n",
        "        response_format={\"type\": \"json_object\"},\n",
        "        messages=messages)\n",
        "    return response.choices[0].message.content"
      ],
      "metadata": {
        "id": "YXwtsVtSQvtu"
      },
      "execution_count": null,
      "outputs": []
    },
    {
      "cell_type": "code",
      "source": [
        "def build_synthetic_data(schema, categories):\n",
        "    \"\"\"Function to loop through the categories and generate data.\"\"\"\n",
        "\n",
        "    # List to collect all outputs\n",
        "    full_output=[]\n",
        "    for category in categories:\n",
        "        # Prompt the model and retrieve the generated answer\n",
        "        output = [prompt_model(create_prompt(schema, category))]\n",
        "        # Store all the outputs in a list\n",
        "        full_output += output\n",
        "    return full_output"
      ],
      "metadata": {
        "id": "42MnNCzS_HDn"
      },
      "execution_count": null,
      "outputs": []
    },
    {
      "cell_type": "markdown",
      "source": [
        "## Collect the  Data"
      ],
      "metadata": {
        "id": "OtQPDimGGSrr"
      }
    },
    {
      "cell_type": "code",
      "source": [
        "# Generate 40 pairs for each of the categories\n",
        "full_output = build_synthetic_data(schema, categories)"
      ],
      "metadata": {
        "id": "lB-GmbqFYCzv"
      },
      "execution_count": null,
      "outputs": []
    },
    {
      "cell_type": "code",
      "source": [
        "# Save the outputs to a file\n",
        "write_json(full_output, data_path + synthetic_data_file)"
      ],
      "metadata": {
        "id": "odvEzqfvGDTd"
      },
      "execution_count": null,
      "outputs": []
    },
    {
      "cell_type": "markdown",
      "source": [
        "### Clean and Format the Data"
      ],
      "metadata": {
        "id": "mJeYvQ63GwaS"
      }
    },
    {
      "cell_type": "code",
      "source": [
        "# Read the generated data\n",
        "synthetic = read_json( data_path+\"synthetic_data_4turbo.json\")"
      ],
      "metadata": {
        "id": "QXZG3KLc9PNe"
      },
      "execution_count": null,
      "outputs": []
    },
    {
      "cell_type": "code",
      "source": [
        "# Replace each entry with a dictionary\n",
        "for i in range(len(synthetic)):\n",
        "    if i != 9:\n",
        "        synthetic[i] = json.loads(synthetic[i])\n"
      ],
      "metadata": {
        "id": "_2Vm6NC2NyLR"
      },
      "execution_count": null,
      "outputs": []
    },
    {
      "cell_type": "markdown",
      "source": [
        "#### Comments:\n",
        "\n",
        "- some individual corrections might be needed, for example one of my entries `synthetic[9]` ended in an unfinished Cypher statement, hence not a JSON object which I had to complete manually,\n",
        "- not all the entries are dictionaries with keys `question`, `cypher`, thus the keys have to be renamed,\n",
        "- in a couple of cases the questions were grouped together, while the Cypher statements were also grouped together."
      ],
      "metadata": {
        "id": "-4I_lOpoEdxb"
      }
    },
    {
      "cell_type": "markdown",
      "source": [
        "### Correct the remaining entries"
      ],
      "metadata": {
        "id": "nkTx1zhBPgwr"
      }
    },
    {
      "cell_type": "code",
      "source": [
        "# List to collect the entries\n",
        "parsed = []"
      ],
      "metadata": {
        "id": "HQ6io9PpPZUt"
      },
      "execution_count": null,
      "outputs": []
    },
    {
      "cell_type": "code",
      "source": [
        "# Some categories need extra data cleaning\n",
        "syn7=[]\n",
        "for d in synthetic[7]['questions']:\n",
        "    d['cypher'] = d['query']\n",
        "    d.pop('query', None)\n",
        "    d = {'question': d['question'], 'cypher': d['cypher']}\n",
        "    syn7.append(d)\n",
        "\n",
        "for d in synthetic[3]['questions']:\n",
        "    d['question'] = d['query']\n",
        "    d.pop('query', None)\n",
        "    d = {'question': d['question'], 'cypher': d['cypher']}\n",
        "syn3 = []\n",
        "for d in synthetic[3]['questions']:\n",
        "    d = {'question': d['question'], 'cypher': d['cypher']}\n",
        "    syn3.append(d)\n"
      ],
      "metadata": {
        "id": "AVMnhh0agf6Y"
      },
      "execution_count": null,
      "outputs": []
    },
    {
      "cell_type": "code",
      "source": [
        "syn5 = [{\"question\": q, \"cypher\": c} for q, c in zip(synthetic[5]['questions'], synthetic[5]['cypher'])]\n",
        "syn8 = [{\"question\": q, \"cypher\": c} for q, c in zip(synthetic[8]['questions'], synthetic[8]['cypher_statements'])]"
      ],
      "metadata": {
        "id": "rfMTYgIBR1Qq"
      },
      "execution_count": null,
      "outputs": []
    },
    {
      "cell_type": "code",
      "source": [
        "# Add the categories that required extra data cleaning\n",
        "parsed+=syn3+syn5+syn7+syn8+syn9['questions']"
      ],
      "metadata": {
        "id": "lB8DdCtbg71J"
      },
      "execution_count": null,
      "outputs": []
    },
    {
      "cell_type": "code",
      "source": [
        "# Category is split into several keys\n",
        "parsed+=synthetic[0]['questions']+synthetic[0]['additional_questions']+synthetic[0]['more_questions']"
      ],
      "metadata": {
        "id": "xdjJHHwgegpL"
      },
      "execution_count": null,
      "outputs": []
    },
    {
      "cell_type": "code",
      "source": [
        "# Add the generated categories with key 'questions_and_cypher'\n",
        "parsed+=synthetic[1]['questions_and_cypher']+synthetic[6]['questions_and_cypher']"
      ],
      "metadata": {
        "id": "F3cl2lk4fIZ-"
      },
      "execution_count": null,
      "outputs": []
    },
    {
      "cell_type": "code",
      "source": [
        "# Add the generated categories with key 'questions'\n",
        "for i in [2, 4, 10, 11, 12]:\n",
        "    parsed+=synthetic[i]['questions']"
      ],
      "metadata": {
        "id": "PYpdgvrEfXCe"
      },
      "execution_count": null,
      "outputs": []
    },
    {
      "cell_type": "code",
      "source": [
        "# Check how many samples are collected\n",
        "len(parsed)"
      ],
      "metadata": {
        "colab": {
          "base_uri": "https://localhost:8080/"
        },
        "id": "Qos80aaBjM6G",
        "outputId": "fee9d97c-e892-4aca-818c-454583fe0bbb"
      },
      "execution_count": null,
      "outputs": [
        {
          "output_type": "execute_result",
          "data": {
            "text/plain": [
              "494"
            ]
          },
          "metadata": {},
          "execution_count": 311
        }
      ]
    },
    {
      "cell_type": "code",
      "source": [
        "# Chanke all keys to conform with the rest of the training data\n",
        "subschema = schema\n",
        "new_parsed = []\n",
        "\n",
        "for d in parsed:\n",
        "    new_d = {}\n",
        "\n",
        "    # Step 1 and 2: Update keys\n",
        "    new_d['Prompt'] = \"Convert the following question into a Cypher query using the provided graph schema!\"\n",
        "    new_d['Question'] = d['question']\n",
        "    new_d['Schema'] = f\"Graph schema: {subschema}\"\n",
        "    new_d['Cypher'] = d['cypher']\n",
        "\n",
        "    new_parsed.append(new_d)"
      ],
      "metadata": {
        "id": "pdRsellJVghz"
      },
      "execution_count": null,
      "outputs": []
    },
    {
      "cell_type": "code",
      "source": [
        "# Save the data to a file\n",
        "write_json(new_parsed, data_path+\"parsed_synthetic.json\")"
      ],
      "metadata": {
        "id": "iICKzRj-kYxP"
      },
      "execution_count": null,
      "outputs": []
    },
    {
      "cell_type": "markdown",
      "source": [
        "# Extra Adjustments and Data Cleaning"
      ],
      "metadata": {
        "id": "iIPOo2XaDcKi"
      }
    },
    {
      "cell_type": "markdown",
      "source": [
        "This section can be processed independently from the previous cells."
      ],
      "metadata": {
        "id": "y8Q-m0F8E47A"
      }
    },
    {
      "cell_type": "markdown",
      "source": [
        "At this point the data is in a format that could be used for fine-tuning. However, if we want to be throrough we also should check the quality of the Cypher queries. And we can easily do this by running each of these queries against the Neo4j graph database."
      ],
      "metadata": {
        "id": "OVzkmj4hDf10"
      }
    },
    {
      "cell_type": "code",
      "source": [
        "%pip install neo4j\n",
        "%pip install python-levenshtein"
      ],
      "metadata": {
        "id": "VUaJAWTtIWPD"
      },
      "execution_count": null,
      "outputs": []
    },
    {
      "cell_type": "code",
      "source": [
        "# Load and mount the drive helper\n",
        "from google.colab import drive\n",
        "\n",
        "# This will prompt for authorization\n",
        "drive.mount('/content/drive')\n",
        "\n",
        "# Set the working directory\n",
        "%cd '/content/drive/MyDrive/cypherGen/'"
      ],
      "metadata": {
        "id": "rdUEEBFZ9B0U",
        "colab": {
          "base_uri": "https://localhost:8080/"
        },
        "outputId": "f50f8095-e133-49a8-911f-b1bb49e5a57c"
      },
      "execution_count": null,
      "outputs": [
        {
          "output_type": "stream",
          "name": "stdout",
          "text": [
            "Mounted at /content/drive\n",
            "/content/drive/MyDrive/cypherGen\n"
          ]
        }
      ]
    },
    {
      "cell_type": "code",
      "source": [
        "# Necessary imports\n",
        "import neo4j\n",
        "import pandas as pd\n",
        "\n",
        "# Import the local modules\n",
        "from utils.utilities import *\n",
        "from utils.neo4j_conn import *\n",
        "\n",
        "# Neo4j graph database credentials\n",
        "URI = 'neo4j+s://xxxxxxxx.databases.neo4j.io'\n",
        "USER = 'neo4j'\n",
        "PWD = 'your password here'\n",
        "\n",
        "# Initialize the Neo4j connector and utilities modules\n",
        "graph=Neo4jGraph(url=URI, username=USER, password=PWD)"
      ],
      "metadata": {
        "id": "kcF8mW1hEdma"
      },
      "execution_count": null,
      "outputs": []
    },
    {
      "cell_type": "code",
      "source": [
        "# Create a path variable for the data folder\n",
        "data_path = '/content/drive/MyDrive/cypherGen/datas/'\n",
        "\n",
        "# Read the data from the file\n",
        "data = read_json(data_path+\"parsed_synthetic.json\")"
      ],
      "metadata": {
        "id": "fKIKVpOVEsTR"
      },
      "execution_count": null,
      "outputs": []
    },
    {
      "cell_type": "code",
      "source": [
        "# Check the data\n",
        "pd_data = pd.DataFrame(data)\n",
        "pd_data.head(4)"
      ],
      "metadata": {
        "colab": {
          "base_uri": "https://localhost:8080/",
          "height": 244
        },
        "id": "dOq38vuhFJ0I",
        "outputId": "2065ff40-ad7d-4f9a-d2d7-fda7f55c120d"
      },
      "execution_count": null,
      "outputs": [
        {
          "output_type": "execute_result",
          "data": {
            "text/plain": [
              "                                              Prompt  \\\n",
              "0  Convert the following question into a Cypher q...   \n",
              "1  Convert the following question into a Cypher q...   \n",
              "2  Convert the following question into a Cypher q...   \n",
              "3  Convert the following question into a Cypher q...   \n",
              "\n",
              "                                            Question  \\\n",
              "0  Who are the authors affiliated with 'X Univers...   \n",
              "1     What articles have been written by 'John Doe'?   \n",
              "2     Can you list the affiliations of 'Jane Smith'?   \n",
              "3  Which authors from 'Y Institute' have publishe...   \n",
              "\n",
              "                                              Schema  \\\n",
              "0  Graph schema: Node properties are the followin...   \n",
              "1  Graph schema: Node properties are the followin...   \n",
              "2  Graph schema: Node properties are the followin...   \n",
              "3  Graph schema: Node properties are the followin...   \n",
              "\n",
              "                                              Cypher  \n",
              "0  MATCH (a:Author {affiliation:'X University'}) ...  \n",
              "1  MATCH (a:Author {first_name:'John', last_name:...  \n",
              "2  MATCH (a:Author {first_name:'Jane', last_name:...  \n",
              "3  MATCH (a:Author {affiliation:'Y Institute'})-[...  "
            ],
            "text/html": [
              "\n",
              "  <div id=\"df-ad9e5671-6201-449c-9ac6-24641dbc407f\" class=\"colab-df-container\">\n",
              "    <div>\n",
              "<style scoped>\n",
              "    .dataframe tbody tr th:only-of-type {\n",
              "        vertical-align: middle;\n",
              "    }\n",
              "\n",
              "    .dataframe tbody tr th {\n",
              "        vertical-align: top;\n",
              "    }\n",
              "\n",
              "    .dataframe thead th {\n",
              "        text-align: right;\n",
              "    }\n",
              "</style>\n",
              "<table border=\"1\" class=\"dataframe\">\n",
              "  <thead>\n",
              "    <tr style=\"text-align: right;\">\n",
              "      <th></th>\n",
              "      <th>Prompt</th>\n",
              "      <th>Question</th>\n",
              "      <th>Schema</th>\n",
              "      <th>Cypher</th>\n",
              "    </tr>\n",
              "  </thead>\n",
              "  <tbody>\n",
              "    <tr>\n",
              "      <th>0</th>\n",
              "      <td>Convert the following question into a Cypher q...</td>\n",
              "      <td>Who are the authors affiliated with 'X Univers...</td>\n",
              "      <td>Graph schema: Node properties are the followin...</td>\n",
              "      <td>MATCH (a:Author {affiliation:'X University'}) ...</td>\n",
              "    </tr>\n",
              "    <tr>\n",
              "      <th>1</th>\n",
              "      <td>Convert the following question into a Cypher q...</td>\n",
              "      <td>What articles have been written by 'John Doe'?</td>\n",
              "      <td>Graph schema: Node properties are the followin...</td>\n",
              "      <td>MATCH (a:Author {first_name:'John', last_name:...</td>\n",
              "    </tr>\n",
              "    <tr>\n",
              "      <th>2</th>\n",
              "      <td>Convert the following question into a Cypher q...</td>\n",
              "      <td>Can you list the affiliations of 'Jane Smith'?</td>\n",
              "      <td>Graph schema: Node properties are the followin...</td>\n",
              "      <td>MATCH (a:Author {first_name:'Jane', last_name:...</td>\n",
              "    </tr>\n",
              "    <tr>\n",
              "      <th>3</th>\n",
              "      <td>Convert the following question into a Cypher q...</td>\n",
              "      <td>Which authors from 'Y Institute' have publishe...</td>\n",
              "      <td>Graph schema: Node properties are the followin...</td>\n",
              "      <td>MATCH (a:Author {affiliation:'Y Institute'})-[...</td>\n",
              "    </tr>\n",
              "  </tbody>\n",
              "</table>\n",
              "</div>\n",
              "    <div class=\"colab-df-buttons\">\n",
              "\n",
              "  <div class=\"colab-df-container\">\n",
              "    <button class=\"colab-df-convert\" onclick=\"convertToInteractive('df-ad9e5671-6201-449c-9ac6-24641dbc407f')\"\n",
              "            title=\"Convert this dataframe to an interactive table.\"\n",
              "            style=\"display:none;\">\n",
              "\n",
              "  <svg xmlns=\"http://www.w3.org/2000/svg\" height=\"24px\" viewBox=\"0 -960 960 960\">\n",
              "    <path d=\"M120-120v-720h720v720H120Zm60-500h600v-160H180v160Zm220 220h160v-160H400v160Zm0 220h160v-160H400v160ZM180-400h160v-160H180v160Zm440 0h160v-160H620v160ZM180-180h160v-160H180v160Zm440 0h160v-160H620v160Z\"/>\n",
              "  </svg>\n",
              "    </button>\n",
              "\n",
              "  <style>\n",
              "    .colab-df-container {\n",
              "      display:flex;\n",
              "      gap: 12px;\n",
              "    }\n",
              "\n",
              "    .colab-df-convert {\n",
              "      background-color: #E8F0FE;\n",
              "      border: none;\n",
              "      border-radius: 50%;\n",
              "      cursor: pointer;\n",
              "      display: none;\n",
              "      fill: #1967D2;\n",
              "      height: 32px;\n",
              "      padding: 0 0 0 0;\n",
              "      width: 32px;\n",
              "    }\n",
              "\n",
              "    .colab-df-convert:hover {\n",
              "      background-color: #E2EBFA;\n",
              "      box-shadow: 0px 1px 2px rgba(60, 64, 67, 0.3), 0px 1px 3px 1px rgba(60, 64, 67, 0.15);\n",
              "      fill: #174EA6;\n",
              "    }\n",
              "\n",
              "    .colab-df-buttons div {\n",
              "      margin-bottom: 4px;\n",
              "    }\n",
              "\n",
              "    [theme=dark] .colab-df-convert {\n",
              "      background-color: #3B4455;\n",
              "      fill: #D2E3FC;\n",
              "    }\n",
              "\n",
              "    [theme=dark] .colab-df-convert:hover {\n",
              "      background-color: #434B5C;\n",
              "      box-shadow: 0px 1px 3px 1px rgba(0, 0, 0, 0.15);\n",
              "      filter: drop-shadow(0px 1px 2px rgba(0, 0, 0, 0.3));\n",
              "      fill: #FFFFFF;\n",
              "    }\n",
              "  </style>\n",
              "\n",
              "    <script>\n",
              "      const buttonEl =\n",
              "        document.querySelector('#df-ad9e5671-6201-449c-9ac6-24641dbc407f button.colab-df-convert');\n",
              "      buttonEl.style.display =\n",
              "        google.colab.kernel.accessAllowed ? 'block' : 'none';\n",
              "\n",
              "      async function convertToInteractive(key) {\n",
              "        const element = document.querySelector('#df-ad9e5671-6201-449c-9ac6-24641dbc407f');\n",
              "        const dataTable =\n",
              "          await google.colab.kernel.invokeFunction('convertToInteractive',\n",
              "                                                    [key], {});\n",
              "        if (!dataTable) return;\n",
              "\n",
              "        const docLinkHtml = 'Like what you see? Visit the ' +\n",
              "          '<a target=\"_blank\" href=https://colab.research.google.com/notebooks/data_table.ipynb>data table notebook</a>'\n",
              "          + ' to learn more about interactive tables.';\n",
              "        element.innerHTML = '';\n",
              "        dataTable['output_type'] = 'display_data';\n",
              "        await google.colab.output.renderOutput(dataTable, element);\n",
              "        const docLink = document.createElement('div');\n",
              "        docLink.innerHTML = docLinkHtml;\n",
              "        element.appendChild(docLink);\n",
              "      }\n",
              "    </script>\n",
              "  </div>\n",
              "\n",
              "\n",
              "<div id=\"df-a4999d0c-dde9-4eaa-9cbb-b545a786cbc2\">\n",
              "  <button class=\"colab-df-quickchart\" onclick=\"quickchart('df-a4999d0c-dde9-4eaa-9cbb-b545a786cbc2')\"\n",
              "            title=\"Suggest charts\"\n",
              "            style=\"display:none;\">\n",
              "\n",
              "<svg xmlns=\"http://www.w3.org/2000/svg\" height=\"24px\"viewBox=\"0 0 24 24\"\n",
              "     width=\"24px\">\n",
              "    <g>\n",
              "        <path d=\"M19 3H5c-1.1 0-2 .9-2 2v14c0 1.1.9 2 2 2h14c1.1 0 2-.9 2-2V5c0-1.1-.9-2-2-2zM9 17H7v-7h2v7zm4 0h-2V7h2v10zm4 0h-2v-4h2v4z\"/>\n",
              "    </g>\n",
              "</svg>\n",
              "  </button>\n",
              "\n",
              "<style>\n",
              "  .colab-df-quickchart {\n",
              "      --bg-color: #E8F0FE;\n",
              "      --fill-color: #1967D2;\n",
              "      --hover-bg-color: #E2EBFA;\n",
              "      --hover-fill-color: #174EA6;\n",
              "      --disabled-fill-color: #AAA;\n",
              "      --disabled-bg-color: #DDD;\n",
              "  }\n",
              "\n",
              "  [theme=dark] .colab-df-quickchart {\n",
              "      --bg-color: #3B4455;\n",
              "      --fill-color: #D2E3FC;\n",
              "      --hover-bg-color: #434B5C;\n",
              "      --hover-fill-color: #FFFFFF;\n",
              "      --disabled-bg-color: #3B4455;\n",
              "      --disabled-fill-color: #666;\n",
              "  }\n",
              "\n",
              "  .colab-df-quickchart {\n",
              "    background-color: var(--bg-color);\n",
              "    border: none;\n",
              "    border-radius: 50%;\n",
              "    cursor: pointer;\n",
              "    display: none;\n",
              "    fill: var(--fill-color);\n",
              "    height: 32px;\n",
              "    padding: 0;\n",
              "    width: 32px;\n",
              "  }\n",
              "\n",
              "  .colab-df-quickchart:hover {\n",
              "    background-color: var(--hover-bg-color);\n",
              "    box-shadow: 0 1px 2px rgba(60, 64, 67, 0.3), 0 1px 3px 1px rgba(60, 64, 67, 0.15);\n",
              "    fill: var(--button-hover-fill-color);\n",
              "  }\n",
              "\n",
              "  .colab-df-quickchart-complete:disabled,\n",
              "  .colab-df-quickchart-complete:disabled:hover {\n",
              "    background-color: var(--disabled-bg-color);\n",
              "    fill: var(--disabled-fill-color);\n",
              "    box-shadow: none;\n",
              "  }\n",
              "\n",
              "  .colab-df-spinner {\n",
              "    border: 2px solid var(--fill-color);\n",
              "    border-color: transparent;\n",
              "    border-bottom-color: var(--fill-color);\n",
              "    animation:\n",
              "      spin 1s steps(1) infinite;\n",
              "  }\n",
              "\n",
              "  @keyframes spin {\n",
              "    0% {\n",
              "      border-color: transparent;\n",
              "      border-bottom-color: var(--fill-color);\n",
              "      border-left-color: var(--fill-color);\n",
              "    }\n",
              "    20% {\n",
              "      border-color: transparent;\n",
              "      border-left-color: var(--fill-color);\n",
              "      border-top-color: var(--fill-color);\n",
              "    }\n",
              "    30% {\n",
              "      border-color: transparent;\n",
              "      border-left-color: var(--fill-color);\n",
              "      border-top-color: var(--fill-color);\n",
              "      border-right-color: var(--fill-color);\n",
              "    }\n",
              "    40% {\n",
              "      border-color: transparent;\n",
              "      border-right-color: var(--fill-color);\n",
              "      border-top-color: var(--fill-color);\n",
              "    }\n",
              "    60% {\n",
              "      border-color: transparent;\n",
              "      border-right-color: var(--fill-color);\n",
              "    }\n",
              "    80% {\n",
              "      border-color: transparent;\n",
              "      border-right-color: var(--fill-color);\n",
              "      border-bottom-color: var(--fill-color);\n",
              "    }\n",
              "    90% {\n",
              "      border-color: transparent;\n",
              "      border-bottom-color: var(--fill-color);\n",
              "    }\n",
              "  }\n",
              "</style>\n",
              "\n",
              "  <script>\n",
              "    async function quickchart(key) {\n",
              "      const quickchartButtonEl =\n",
              "        document.querySelector('#' + key + ' button');\n",
              "      quickchartButtonEl.disabled = true;  // To prevent multiple clicks.\n",
              "      quickchartButtonEl.classList.add('colab-df-spinner');\n",
              "      try {\n",
              "        const charts = await google.colab.kernel.invokeFunction(\n",
              "            'suggestCharts', [key], {});\n",
              "      } catch (error) {\n",
              "        console.error('Error during call to suggestCharts:', error);\n",
              "      }\n",
              "      quickchartButtonEl.classList.remove('colab-df-spinner');\n",
              "      quickchartButtonEl.classList.add('colab-df-quickchart-complete');\n",
              "    }\n",
              "    (() => {\n",
              "      let quickchartButtonEl =\n",
              "        document.querySelector('#df-a4999d0c-dde9-4eaa-9cbb-b545a786cbc2 button');\n",
              "      quickchartButtonEl.style.display =\n",
              "        google.colab.kernel.accessAllowed ? 'block' : 'none';\n",
              "    })();\n",
              "  </script>\n",
              "</div>\n",
              "\n",
              "    </div>\n",
              "  </div>\n"
            ]
          },
          "metadata": {},
          "execution_count": 5
        }
      ]
    },
    {
      "cell_type": "code",
      "source": [
        "# Create a list of Cypher queries\n",
        "cypher_list = pd_data.Cypher.tolist()\n",
        "# Check for success\n",
        "cypher_list[1]"
      ],
      "metadata": {
        "colab": {
          "base_uri": "https://localhost:8080/",
          "height": 53
        },
        "id": "bgxE39FwFUcX",
        "outputId": "a7ec796a-80e5-4e41-c5f5-427d7d17e9b1"
      },
      "execution_count": null,
      "outputs": [
        {
          "output_type": "execute_result",
          "data": {
            "text/plain": [
              "\"MATCH (a:Author {first_name:'John', last_name:'Doe'})-[:WRITTEN_BY]-(article:Article) RETURN article.title, article.article_id;\""
            ],
            "application/vnd.google.colaboratory.intrinsic+json": {
              "type": "string"
            }
          },
          "metadata": {},
          "execution_count": 6
        }
      ]
    },
    {
      "cell_type": "code",
      "source": [
        "# Required Neo4j exceptions imports\n",
        "from neo4j.exceptions import Neo4jError, CypherTypeError\n",
        "\n",
        "def execute_cypher_queries(queries):\n",
        "    \"\"\"Executes Cypher queries and records errors.\"\"\"\n",
        "    results = []\n",
        "    for query in queries:\n",
        "        try:\n",
        "            result = graph.query(query)\n",
        "            results.append(result)\n",
        "        # Catch CypherTypeError\n",
        "        except CypherTypeError:\n",
        "            results.append('type error')\n",
        "        # Catch other Neo4j errors\n",
        "        except Neo4jError as e:\n",
        "            # Check for syntax errors\n",
        "            if 'SyntaxError' in str(e):\n",
        "                results.append('faulty query')\n",
        "            # Look for other Neo4j specific errors\n",
        "            else:\n",
        "                results.append(f'other Neo4j error: {str(e)}')\n",
        "        # Catch any other exceptions\n",
        "        except Exception as e:\n",
        "            results.append(f'other error: {str(e)}')\n",
        "    return results\n"
      ],
      "metadata": {
        "id": "dtBWV2Y-FkJT"
      },
      "execution_count": null,
      "outputs": []
    },
    {
      "cell_type": "code",
      "source": [
        "# It is advisable to process the queries in batches\n",
        "\n",
        "def process_in_batches(queries, batch_size):\n",
        "    \"\"\"This function will store the results and their original indices.\"\"\"\n",
        "\n",
        "    results = []\n",
        "\n",
        "    # Process the queries in batches.\n",
        "    for i in range(0, len(queries), batch_size):\n",
        "        batch = queries[i:i + batch_size]\n",
        "\n",
        "        # Execute each query in the batch.\n",
        "        for j, query in enumerate(batch):\n",
        "            result = execute_cypher_queries(batch)\n",
        "            # Record the result and its original index (i+j).\n",
        "            results.append((i + j, result))\n",
        "\n",
        "    return results"
      ],
      "metadata": {
        "id": "yShFkA9tIB2L"
      },
      "execution_count": null,
      "outputs": []
    },
    {
      "cell_type": "code",
      "source": [
        "# Check the Neo4j connection\n",
        "graph.query(\"MATCH (n) RETURN count(n)\")"
      ],
      "metadata": {
        "colab": {
          "base_uri": "https://localhost:8080/"
        },
        "id": "fWGrhZhNJWbH",
        "outputId": "8ab86596-337a-4d5c-a605-fd5496651cb4"
      },
      "execution_count": null,
      "outputs": [
        {
          "output_type": "execute_result",
          "data": {
            "text/plain": [
              "[{'count(n)': 38650}]"
            ]
          },
          "metadata": {},
          "execution_count": 9
        }
      ]
    },
    {
      "cell_type": "code",
      "source": [
        "# Sample output\n",
        "output = execute_cypher_queries(cypher_list[:10])\n",
        "output"
      ],
      "metadata": {
        "colab": {
          "base_uri": "https://localhost:8080/"
        },
        "id": "wfIamx1BJHeF",
        "outputId": "a3fa7ce5-1a74-4f65-97f8-e23b174e693a"
      },
      "execution_count": null,
      "outputs": [
        {
          "output_type": "execute_result",
          "data": {
            "text/plain": [
              "[[], [], [], [], [], [{'count(article)': 0}], [], [], 'type error', []]"
            ]
          },
          "metadata": {},
          "execution_count": 11
        }
      ]
    },
    {
      "cell_type": "code",
      "source": [
        "cypher_list[:10]"
      ],
      "metadata": {
        "colab": {
          "base_uri": "https://localhost:8080/"
        },
        "id": "aW9a7m4pJier",
        "outputId": "69fe880e-fa07-4417-a0af-c90c90637bf3"
      },
      "execution_count": null,
      "outputs": [
        {
          "output_type": "execute_result",
          "data": {
            "text/plain": [
              "[\"MATCH (a:Author {affiliation:'X University'}) RETURN a.first_name, a.last_name, a.author_id;\",\n",
              " \"MATCH (a:Author {first_name:'John', last_name:'Doe'})-[:WRITTEN_BY]-(article:Article) RETURN article.title, article.article_id;\",\n",
              " \"MATCH (a:Author {first_name:'Jane', last_name:'Smith'}) RETURN a.affiliation;\",\n",
              " \"MATCH (a:Author {affiliation:'Y Institute'})-[:WRITTEN_BY]-(article:Article)-[:PUBLISHED_IN]-(j:Journal {name: 'Journal of Science'}) RETURN a.first_name, a.last_name, article.title;\",\n",
              " \"MATCH (a:Author {first_name:'Alice', last_name:'Johnson'})-[:WRITTEN_BY]-(article:Article)-[:PUBLISHED_IN]-(journal:Journal) RETURN article.title, article.article_id, journal.year;\",\n",
              " \"MATCH (a:Author {affiliation:'Z College'})-[:WRITTEN_BY]-(article:Article) RETURN count(article);\",\n",
              " \"MATCH (a:Author {first_name:'Emma', last_name:'White'})-[:WRITTEN_BY]-(article:Article)-[:HAS_KEY]-(keyword:Keyword) RETURN article.title, keyword.name;\",\n",
              " \"MATCH (topic:Topic {label: 'Artificial Intelligence'})<-[:HAS_TOPIC]-(keyword:Keyword)<-[:HAS_KEY]-(article:Article)<-[:WRITTEN_BY]-(author:Author) RETURN DISTINCT author.first_name, author.last_name;\",\n",
              " 'MATCH (author:Author)-[:WRITTEN_BY]-(article:Article)-[:UPDATED]-(updateDate:UpdateDate) WHERE updateDate.update_date.year = 2022 RETURN DISTINCT author.first_name, author.last_name;',\n",
              " 'MATCH (author:Author)-[:WRITTEN_BY]-(article:Article)-[:UPDATED]-(updateDate:UpdateDate) WHERE article.creation_date = updateDate.update_date RETURN DISTINCT author.first_name, author.last_name;']"
            ]
          },
          "metadata": {},
          "execution_count": 12
        }
      ]
    },
    {
      "cell_type": "code",
      "source": [
        "cypher_list[9]"
      ],
      "metadata": {
        "colab": {
          "base_uri": "https://localhost:8080/",
          "height": 53
        },
        "id": "YrvFXEbXJrDs",
        "outputId": "59aeedd6-e0df-4435-bd03-deaf9aff3651"
      },
      "execution_count": null,
      "outputs": [
        {
          "output_type": "execute_result",
          "data": {
            "text/plain": [
              "'MATCH (author:Author)-[:WRITTEN_BY]-(article:Article)-[:UPDATED]-(updateDate:UpdateDate) WHERE article.creation_date = updateDate.update_date RETURN DISTINCT author.first_name, author.last_name;'"
            ],
            "application/vnd.google.colaboratory.intrinsic+json": {
              "type": "string"
            }
          },
          "metadata": {},
          "execution_count": 14
        }
      ]
    },
    {
      "cell_type": "code",
      "source": [],
      "metadata": {
        "id": "-c6MXzUOJ6Uu"
      },
      "execution_count": null,
      "outputs": []
    }
  ]
}