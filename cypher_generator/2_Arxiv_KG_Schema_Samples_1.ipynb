{
  "nbformat": 4,
  "nbformat_minor": 0,
  "metadata": {
    "colab": {
      "provenance": [],
      "authorship_tag": "ABX9TyN5VP6DitrE980u3Gf2UqaL"
    },
    "kernelspec": {
      "name": "python3",
      "display_name": "Python 3"
    },
    "language_info": {
      "name": "python"
    }
  },
  "cells": [
    {
      "cell_type": "markdown",
      "source": [
        "# Sample Builder - Parametric Queries - Part I"
      ],
      "metadata": {
        "id": "wTs3a7OkdRtO"
      }
    },
    {
      "cell_type": "markdown",
      "source": [
        "**In this notebook:**\n",
        "\n",
        "- process data extracted from KG,\n",
        "- generate sample queries - part I,\n",
        "- save the generated data to a file.\n",
        "\n",
        "There are 31 generating functions in this collection."
      ],
      "metadata": {
        "id": "SB3oKYODpwxu"
      }
    },
    {
      "cell_type": "markdown",
      "source": [
        "## Workspace Setup"
      ],
      "metadata": {
        "id": "BGqjVB2YytME"
      }
    },
    {
      "cell_type": "code",
      "execution_count": null,
      "metadata": {
        "id": "tvScvlRDyrtC"
      },
      "outputs": [],
      "source": [
        "%pip install neo4j\n",
        "%pip install python-levenshtein"
      ]
    },
    {
      "cell_type": "code",
      "source": [
        "# Load and mount the drive helper\n",
        "from google.colab import drive\n",
        "\n",
        "# This will prompt for authorization\n",
        "drive.mount('/content/drive')\n",
        "\n",
        "# Set the working directory\n",
        "%cd '/content/drive/MyDrive/cypherGen/'"
      ],
      "metadata": {
        "colab": {
          "base_uri": "https://localhost:8080/"
        },
        "id": "WSGifOcWy6C0",
        "outputId": "615b7214-ea0c-417e-8311-8d214a4eebd2"
      },
      "execution_count": null,
      "outputs": [
        {
          "output_type": "stream",
          "name": "stdout",
          "text": [
            "Drive already mounted at /content/drive; to attempt to forcibly remount, call drive.mount(\"/content/drive\", force_remount=True).\n",
            "/content/drive/MyDrive/cypherGen\n"
          ]
        }
      ]
    },
    {
      "cell_type": "code",
      "source": [
        "import neo4j\n",
        "import pandas as pd\n",
        "import random\n",
        "import itertools\n",
        "\n",
        "# Import the local modules\n",
        "from utils.utilities import *\n",
        "from utils.graph_utils import *"
      ],
      "metadata": {
        "id": "zIX3pjHH1GHq"
      },
      "execution_count": null,
      "outputs": []
    },
    {
      "cell_type": "markdown",
      "source": [
        "## Data Preparation for Sample Building"
      ],
      "metadata": {
        "id": "qU_sGpI8vrKH"
      }
    },
    {
      "cell_type": "code",
      "source": [
        "# Create a path variable for the data folder\n",
        "data_path = '/content/drive/MyDrive/cypherGen/datas/'\n",
        "\n",
        "# Set file names\n",
        "schema_file = 'schema_file.json'\n",
        "#formatted_schema_file = 'formatted_schema.txt'\n",
        "node_instances_file = 'node_instances_file.json'\n",
        "rels_instances_file = 'rels_instances_file.json'\n",
        "\n",
        "# Read the data from files\n",
        "jschema = read_json(data_path+schema_file)\n",
        "node_instances = read_json(data_path+node_instances_file) # these are serialized\n",
        "rels_instances = read_json(data_path+rels_instances_file) # these are serialized"
      ],
      "metadata": {
        "id": "4oIeNJWPvy5c"
      },
      "execution_count": null,
      "outputs": []
    },
    {
      "cell_type": "code",
      "source": [
        "# List of node labels\n",
        "nodes = get_nodes_list(jschema)\n",
        "\n",
        "# Read the nodes with their properties and datatypes\n",
        "node_props_types = jschema['node_props']\n",
        "\n",
        "# Read the relationship properties with their datatypes\n",
        "rel_props_types = jschema['rel_props']\n",
        "\n",
        "# Read the relationships as a list of triples\n",
        "relationships = jschema['relationships']\n",
        "\n",
        "# Extract node labels and properties with data type: STRING\n",
        "string_properties = get_nodes_properties_of_datatype(jschema, nodes,'STRING')\n",
        "\n",
        "# Extract node labels and properties with data type: INTEGER\n",
        "integer_properties = get_nodes_properties_of_datatype(jschema, nodes, 'INTEGER')\n",
        "\n",
        "# Extract node labels and properties with data type: DATE\n",
        "date_properties = get_nodes_properties_of_datatype(jschema, nodes, 'DATE')\n"
      ],
      "metadata": {
        "id": "6jJs939cwxVU"
      },
      "execution_count": null,
      "outputs": []
    },
    {
      "cell_type": "code",
      "source": [
        "# Extract and parse n instances of specified datatype\n",
        "\n",
        "string_parsed = parse_node_instances_datatype(jschema, node_instances, nodes,'STRING')\n",
        "string_parsed = filter_empty_sublists(string_parsed)\n",
        "\n",
        "integer_parsed =  parse_node_instances_datatype(jschema, node_instances, nodes,'INTEGER')\n",
        "integer_parsed = filter_empty_sublists(integer_parsed)\n",
        "\n",
        "date_parsed =  parse_node_instances_datatype(jschema, node_instances, nodes,'DATE')\n",
        "date_parsed = filter_empty_sublists(date_parsed)\n",
        "\n",
        "# All node instances parsed\n",
        "dtypes_parsed = string_parsed+integer_parsed+date_parsed"
      ],
      "metadata": {
        "id": "aykqfrBufIF6"
      },
      "execution_count": null,
      "outputs": []
    },
    {
      "cell_type": "code",
      "source": [
        "# Parse relationships instances\n",
        "\n",
        "string_string_rels = filter_relationships_instances(jschema, rels_instances, 'STRING', 'STRING')\n",
        "string_integer_rels = filter_relationships_instances(jschema, rels_instances, 'STRING', 'INTEGER')\n",
        "string_date_rels = filter_relationships_instances(jschema, rels_instances, 'STRING', 'DATE')\n",
        "integer_integer_rels = filter_relationships_instances(jschema, rels_instances, 'INTEGER', 'INTEGER')\n",
        "date_date_rels = filter_relationships_instances(jschema, rels_instances, 'DATE', 'DATE')\n",
        "all_rels = string_string_rels+string_integer_rels+string_date_rels+integer_integer_rels+date_date_rels"
      ],
      "metadata": {
        "id": "Cqn-X0IzSfsX"
      },
      "execution_count": null,
      "outputs": []
    },
    {
      "cell_type": "markdown",
      "source": [
        "### Samples Collector"
      ],
      "metadata": {
        "id": "Uwuis4Fo9bEB"
      }
    },
    {
      "cell_type": "code",
      "source": [
        "# List to collect the samples\n",
        "trainer=[]\n",
        "# Function to select a number of samples of each type\n",
        "def collect_samples(sampler, M=100):\n",
        "    M = min(M, len(sampler))\n",
        "    rsampler = random.sample(sampler, M)\n",
        "    return rsampler"
      ],
      "metadata": {
        "id": "GU24PLm6ei9S"
      },
      "execution_count": null,
      "outputs": []
    },
    {
      "cell_type": "markdown",
      "source": [
        "## MATCH"
      ],
      "metadata": {
        "id": "4_ZLfbqgNGn6"
      }
    },
    {
      "cell_type": "code",
      "source": [
        "## MATCH node, prop\n",
        "def match_one_node_one_prop():\n",
        "    def prompter(label_1, prop_1):\n",
        "        # Extract subschema for the variables of interest\n",
        "        subschema = get_subgraph_schema(jschema, [label_1], 2, True)\n",
        "        message = {\"Prompt\": \"Convert the following question into a Cypher query using the provided graph schema!\",\n",
        "                   \"Question\": f\"\"\"Fetch the {label_1} nodes and extract their {prop_1} property!\"\"\",\n",
        "                   \"Schema\": f\"Graph schema: {subschema}\",\n",
        "                   \"Cypher\": f\"MATCH (n:{label_1}) RETURN n.{prop_1}\"\n",
        "                   }\n",
        "        return message\n",
        "\n",
        "    # Build the samples of this type\n",
        "    sampler=[]\n",
        "    for node in nodes:\n",
        "        node_props = get_node_properties(jschema, node)\n",
        "        for prop in node_props:\n",
        "            temp_dict = prompter(node,prop)\n",
        "            sampler.append(temp_dict)\n",
        "    return sampler\n",
        "\n",
        "# Build the set\n",
        "sampler_1 = match_one_node_one_prop()\n",
        "# Print information about the sampler set\n",
        "print(f\"There are {len(sampler_1)} queries in this subset.\")\n",
        "# Add to trainer dataset\n",
        "trainer += collect_samples(sampler_1)\n",
        "# Display an example for inspection\n",
        "sampler_1[0]"
      ],
      "metadata": {
        "colab": {
          "base_uri": "https://localhost:8080/"
        },
        "id": "a--D9OoN_NSO",
        "outputId": "888f5a35-0366-4c1e-c572-133adb56187c"
      },
      "execution_count": null,
      "outputs": [
        {
          "output_type": "stream",
          "name": "stdout",
          "text": [
            "There are 22 queries in this subset.\n"
          ]
        },
        {
          "output_type": "execute_result",
          "data": {
            "text/plain": [
              "{'Prompt': 'Convert the following question into a Cypher query using the provided graph schema!',\n",
              " 'Question': 'Fetch the Article nodes and extract their abstract property!',\n",
              " 'Schema': 'Graph schema: Node properties are the following:\\nArticle {abstract: STRING, article_id: INTEGER, comments: STRING, title: STRING}\\nRelationship properties are the following:\\nPUBLISHED_IN {meta: STRING, pages: STRING, year: INTEGER}\\nThe relationships are the following:\\n(:Article)-[:HAS_KEY]->(:Keyword),(:Article)-[:HAS_DOI]->(:DOI),(:Article)-[:HAS_CATEGORY]->(:Categories),(:Article)-[:WRITTEN_BY]->(:Author),(:Article)-[:UPDATED]->(:UpdateDate),(:Article)-[:PUBLISHED_IN]->(:Journal),(:Article)-[:HAS_REPORT]->(:Report)',\n",
              " 'Cypher': 'MATCH (n:Article) RETURN n.abstract'}"
            ]
          },
          "metadata": {},
          "execution_count": 9
        }
      ]
    },
    {
      "cell_type": "code",
      "source": [
        "# MATCH two nodes and two properties - only exception with two nodes\n",
        "def match_two_nodes_two_props(N):\n",
        "    def prompter(label_1, prop_1, label_2, prop_2):\n",
        "        subschema = get_subgraph_schema(jschema, [label_1, label_2], 2, True)\n",
        "        message = {\"Prompt\": \"Convert the following question into a Cypher query using the provided graph schema!\",\n",
        "                   \"Question\": f\"\"\"Fetch the {prop_1} of the {label_1} and the {prop_2} for {label_2}!\"\"\",\n",
        "                   \"Schema\": f\"Graph schema: {subschema}\",\n",
        "                   \"Cypher\": f\"MATCH (n:{label_1}) MATCH (m:{label_2}) RETURN n.{prop_1}, m.{prop_2}\"\n",
        "                   }\n",
        "        return message\n",
        "\n",
        "    sampler = []\n",
        "    # Create pairs of distinct nodes (i, j) where i!=j\n",
        "    node_pairs = create_pairs(nodes)\n",
        "    # Extract n pairs of nodes from all possible pairs\n",
        "    random_doubles = get_random_elements(node_pairs, N)\n",
        "    for double in random_doubles:\n",
        "        # Get the list of properties for label_1\n",
        "        node_props_1 = get_node_properties(jschema, double[0])\n",
        "        # Get the list of propetrties for label_2\n",
        "        node_props_2 = get_node_properties(jschema, double[1])\n",
        "        # Create propery pairs via cartesian product\n",
        "        prop_pairs = list(itertools.product(node_props_1, node_props_2))\n",
        "        for pair in prop_pairs:\n",
        "            temp_dict = prompter(double[0],pair[0], double[1], pair[1])\n",
        "            sampler.append(temp_dict)\n",
        "\n",
        "    return sampler\n",
        "\n",
        "N=100\n",
        "sampler_2 = match_two_nodes_two_props(N)\n",
        "# Print information about the sampler set\n",
        "print(f\"There are {len(sampler_2)} queries in this subset.\")\n",
        "# Add to trainer dataset\n",
        "trainer += collect_samples(sampler_2)\n",
        "# Display an example for inspection\n",
        "sampler_2[0]"
      ],
      "metadata": {
        "id": "IM1fVQXFx_tu",
        "colab": {
          "base_uri": "https://localhost:8080/"
        },
        "outputId": "31d34a29-cdc4-4919-f647-1436a11f1434"
      },
      "execution_count": null,
      "outputs": [
        {
          "output_type": "stream",
          "name": "stdout",
          "text": [
            "There are 422 queries in this subset.\n"
          ]
        },
        {
          "output_type": "execute_result",
          "data": {
            "text/plain": [
              "{'Prompt': 'Convert the following question into a Cypher query using the provided graph schema!',\n",
              " 'Question': 'Fetch the name of the DOI and the abstract for Article!',\n",
              " 'Schema': 'Graph schema: Node properties are the following:\\nDOI {name: STRING, doi_id: STRING},Article {abstract: STRING, article_id: INTEGER, comments: STRING, title: STRING}\\nRelationship properties are the following:\\nPUBLISHED_IN {meta: STRING, pages: STRING, year: INTEGER}\\nThe relationships are the following:\\n(:Article)-[:HAS_DOI]->(:DOI),(:Article)-[:HAS_KEY]->(:Keyword),(:Article)-[:HAS_DOI]->(:DOI),(:Article)-[:HAS_CATEGORY]->(:Categories),(:Article)-[:WRITTEN_BY]->(:Author),(:Article)-[:UPDATED]->(:UpdateDate),(:Article)-[:PUBLISHED_IN]->(:Journal),(:Article)-[:HAS_REPORT]->(:Report)',\n",
              " 'Cypher': 'MATCH (n:DOI) MATCH (m:Article) RETURN n.name, m.abstract'}"
            ]
          },
          "metadata": {},
          "execution_count": 10
        }
      ]
    },
    {
      "cell_type": "markdown",
      "source": [
        "## WHERE, LIMIT, ORDER BY"
      ],
      "metadata": {
        "id": "ZFVSi_NINKDT"
      }
    },
    {
      "cell_type": "code",
      "source": [
        "# Extract nodes where a string property has a given value\n",
        "def where_one_node_one_prop_one_val():\n",
        "    def prompter(label_1, prop_1, val_1):\n",
        "        subschema = get_subgraph_schema(jschema, [label_1], 2, True)\n",
        "        message = {\"Prompt\": \"Convert the following question into a Cypher query using the provided graph schema!\",\n",
        "                   \"Question\": f\"\"\"Find the {label_1} where {prop_1} is {val_1.strip()}!\"\"\",\n",
        "                   \"Schema\": f\"Graph schema: {subschema}\",\n",
        "                   \"Cypher\": f\"MATCH (n:{label_1}) WHERE n.{prop_1} = '{val_1}' RETURN n\"\n",
        "                   }\n",
        "        return message\n",
        "\n",
        "    sampler=[]\n",
        "    for entry in string_parsed:\n",
        "        temp_dict = prompter(entry[0], entry[1], entry[2])\n",
        "        sampler.append(temp_dict)\n",
        "\n",
        "    return sampler\n",
        "\n",
        "\n",
        "# Build the set\n",
        "sampler_3 = where_one_node_one_prop_one_val()\n",
        "# Print information about the sampler set\n",
        "print(f\"There are {len(sampler_3)} queries in this subset.\")\n",
        "# Add to trainer dataset\n",
        "trainer += collect_samples(sampler_3)\n",
        "# Display an example for inspection\n",
        "sampler_3[22]"
      ],
      "metadata": {
        "colab": {
          "base_uri": "https://localhost:8080/"
        },
        "id": "4X_0lBOHM80A",
        "outputId": "22cd1edd-0ee4-40a4-d06c-6920a55076d8"
      },
      "execution_count": null,
      "outputs": [
        {
          "output_type": "stream",
          "name": "stdout",
          "text": [
            "There are 76 queries in this subset.\n"
          ]
        },
        {
          "output_type": "execute_result",
          "data": {
            "text/plain": [
              "{'Prompt': 'Convert the following question into a Cypher query using the provided graph schema!',\n",
              " 'Question': 'Find the Topic where description is Focusing on techniques and concepts related to transformations, solutions, and properties of linear equations and matrices, including Jordan normal form, eigenvalues, eigenvectors, diagonalization, and eigenformulations.!',\n",
              " 'Schema': 'Graph schema: Node properties are the following:\\nTopic {cluster: INTEGER, description: STRING, label: STRING}\\nRelationship properties are the following:\\n\\nThe relationships are the following:\\n(:Keyword)-[:HAS_TOPIC]->(:Topic)',\n",
              " 'Cypher': \"MATCH (n:Topic) WHERE n.description = 'Focusing on techniques and concepts related to transformations, solutions, and properties of linear equations and matrices, including Jordan normal form, eigenvalues, eigenvectors, diagonalization, and eigenformulations.' RETURN n\"}"
            ]
          },
          "metadata": {},
          "execution_count": 11
        }
      ]
    },
    {
      "cell_type": "code",
      "source": [
        "\n",
        "# Extract nodes where a string property contains a given substring\n",
        "def where_one_node_one_string_contains():\n",
        "    def prompter(label_1, prop_1, val_1):\n",
        "        subschema = get_subgraph_schema(jschema, [label_1], 2, True)\n",
        "        message = {\"Prompt\": \"Convert the following question into a Cypher query using the provided graph schema!\",\n",
        "                   \"Question\": f\"\"\"Find the {label_1} where {prop_1} contains {val_1[:5]}!\"\"\",\n",
        "                   \"Schema\": f\"Graph schema: {subschema}\",\n",
        "                   \"Cypher\": f\"MATCH (n:{label_1}) WHERE n.{prop_1} CONTAINS '{val_1[:5]}' RETURN n\"\n",
        "                   }\n",
        "        return message\n",
        "\n",
        "    sampler=[]\n",
        "    for entry in string_parsed:\n",
        "        temp_dict = prompter(entry[0], entry[1], entry[2])\n",
        "        sampler.append(temp_dict)\n",
        "\n",
        "    return sampler\n",
        "\n",
        "# Build the set\n",
        "sampler_4 = where_one_node_one_string_contains()\n",
        "# Print information about the sampler set\n",
        "print(f\"There are {len(sampler_4)} queries in this subset.\")\n",
        "# Add to trainer dataset\n",
        "trainer += collect_samples(sampler_4)\n",
        "# Display an example for inspection\n",
        "sampler_4[22]"
      ],
      "metadata": {
        "colab": {
          "base_uri": "https://localhost:8080/"
        },
        "id": "ui9p6569hIAT",
        "outputId": "b44533d4-01c8-4730-c7c6-cc3f47aa2451"
      },
      "execution_count": null,
      "outputs": [
        {
          "output_type": "stream",
          "name": "stdout",
          "text": [
            "There are 76 queries in this subset.\n"
          ]
        },
        {
          "output_type": "execute_result",
          "data": {
            "text/plain": [
              "{'Prompt': 'Convert the following question into a Cypher query using the provided graph schema!',\n",
              " 'Question': 'Find the Topic where description contains Focus!',\n",
              " 'Schema': 'Graph schema: Node properties are the following:\\nTopic {cluster: INTEGER, description: STRING, label: STRING}\\nRelationship properties are the following:\\n\\nThe relationships are the following:\\n(:Keyword)-[:HAS_TOPIC]->(:Topic)',\n",
              " 'Cypher': \"MATCH (n:Topic) WHERE n.description CONTAINS 'Focus' RETURN n\"}"
            ]
          },
          "metadata": {},
          "execution_count": 12
        }
      ]
    },
    {
      "cell_type": "code",
      "source": [
        "# Return nodes where a property is not null - use numerals\n",
        "def where_one_node_one_prop_notnull_numeral():\n",
        "    def prompter(label_1, prop_1):\n",
        "        subschema = get_subgraph_schema(jschema, [label_1], 2, True)\n",
        "        message = {\"Prompt\": \"Convert the following question into a Cypher query using the provided graph schema!\",\n",
        "                   \"Question\": f\"\"\"Find 10 {label_1} that have the {prop_1} recorded and return these values!\"\"\",\n",
        "                   \"Schema\": f\"Graph schema: {subschema}\",\n",
        "                   \"Cypher\": f\"MATCH (n:{label_1}) WHERE n.{prop_1} IS NOT NULL RETURN n.{prop_1} LIMIT 10\"\n",
        "                   }\n",
        "        return message\n",
        "\n",
        "    sampler=[]\n",
        "    for entry in dtypes_parsed:\n",
        "        temp_dict = prompter(entry[0], entry[1])\n",
        "        sampler.append(temp_dict)\n",
        "\n",
        "    return sampler\n",
        "\n",
        "# Build the set\n",
        "sampler_5 = where_one_node_one_prop_notnull_numeral()\n",
        "# Print information about the sampler set\n",
        "print(f\"There are {len(sampler_5)} queries in this subset.\")\n",
        "# Add to trainer dataset\n",
        "trainer += collect_samples(sampler_5)\n",
        "# Display an example for inspection\n",
        "sampler_5[22]"
      ],
      "metadata": {
        "colab": {
          "base_uri": "https://localhost:8080/"
        },
        "id": "xAGK4H2QhH2V",
        "outputId": "85c287a4-a21f-455f-a4d0-c61f5c65d4ae"
      },
      "execution_count": null,
      "outputs": [
        {
          "output_type": "stream",
          "name": "stdout",
          "text": [
            "There are 87 queries in this subset.\n"
          ]
        },
        {
          "output_type": "execute_result",
          "data": {
            "text/plain": [
              "{'Prompt': 'Convert the following question into a Cypher query using the provided graph schema!',\n",
              " 'Question': 'Find 10 Topic that have the description recorded and return these values!',\n",
              " 'Schema': 'Graph schema: Node properties are the following:\\nTopic {cluster: INTEGER, description: STRING, label: STRING}\\nRelationship properties are the following:\\n\\nThe relationships are the following:\\n(:Keyword)-[:HAS_TOPIC]->(:Topic)',\n",
              " 'Cypher': 'MATCH (n:Topic) WHERE n.description IS NOT NULL RETURN n.description LIMIT 10'}"
            ]
          },
          "metadata": {},
          "execution_count": 13
        }
      ]
    },
    {
      "cell_type": "code",
      "source": [
        "# Return nodes where a string property is not null - use words\n",
        "def where_one_node_one_prop_notnull_literal():\n",
        "    def prompter(label_1, prop_1):\n",
        "        subschema = get_subgraph_schema(jschema, [label_1], 2, True)\n",
        "        message = {\"Prompt\": \"Convert the following question into a Cypher query using the provided graph schema!\",\n",
        "                   \"Question\": f\"\"\"Find ten {label_1} that have {prop_1} and return their records!\"\"\",\n",
        "                   \"Schema\": f\"Graph schema: {subschema}\",\n",
        "                   \"Cypher\": f\"MATCH (n:{label_1}) WHERE n.{prop_1} IS NOT NULL RETURN n.{prop_1} LIMIT 10\"\n",
        "                   }\n",
        "        return message\n",
        "\n",
        "    sampler=[]\n",
        "    for entry in dtypes_parsed:\n",
        "        temp_dict = prompter(entry[0], entry[1])\n",
        "        sampler.append(temp_dict)\n",
        "\n",
        "    return sampler\n",
        "\n",
        "# Build the set\n",
        "sampler_6 = where_one_node_one_prop_notnull_literal()\n",
        "# Print information about the sampler set\n",
        "print(f\"There are {len(sampler_6)} queries in this subset.\")\n",
        "# Add to trainer dataset\n",
        "trainer += collect_samples(sampler_6)\n",
        "# Display an example for inspection\n",
        "sampler_6[22]"
      ],
      "metadata": {
        "colab": {
          "base_uri": "https://localhost:8080/"
        },
        "id": "Iu39LMP4hHp5",
        "outputId": "cc47ea58-4c58-48a0-e4be-2fbea9146fbb"
      },
      "execution_count": null,
      "outputs": [
        {
          "output_type": "stream",
          "name": "stdout",
          "text": [
            "There are 87 queries in this subset.\n"
          ]
        },
        {
          "output_type": "execute_result",
          "data": {
            "text/plain": [
              "{'Prompt': 'Convert the following question into a Cypher query using the provided graph schema!',\n",
              " 'Question': 'Find ten Topic that have description and return their records!',\n",
              " 'Schema': 'Graph schema: Node properties are the following:\\nTopic {cluster: INTEGER, description: STRING, label: STRING}\\nRelationship properties are the following:\\n\\nThe relationships are the following:\\n(:Keyword)-[:HAS_TOPIC]->(:Topic)',\n",
              " 'Cypher': 'MATCH (n:Topic) WHERE n.description IS NOT NULL RETURN n.description LIMIT 10'}"
            ]
          },
          "metadata": {},
          "execution_count": 14
        }
      ]
    },
    {
      "cell_type": "code",
      "source": [
        "# Retrieve nodes where a property is null\n",
        "def where_one_node_one_prop_null_numeral():\n",
        "    def prompter(label_1, prop_1):\n",
        "        subschema = get_subgraph_schema(jschema, [label_1], 2, True)\n",
        "        message = {\"Prompt\": \"Convert the following question into a Cypher query using the provided graph schema!\",\n",
        "                   \"Question\": f\"\"\"Find 8 {label_1} that are missing the {prop_1}!\"\"\",\n",
        "                   \"Schema\": f\"Graph schema: {subschema}\",\n",
        "                   \"Cypher\": f\"MATCH (n:{label_1}) WHERE n.{prop_1} IS NULL RETURN n LIMIT 8\"\n",
        "                   }\n",
        "        return message\n",
        "\n",
        "    sampler=[]\n",
        "    for entry in dtypes_parsed:\n",
        "        temp_dict = prompter(entry[0], entry[1])\n",
        "        sampler.append(temp_dict)\n",
        "\n",
        "    return sampler\n",
        "\n",
        "# Build the set\n",
        "sampler_7 = where_one_node_one_prop_null_numeral()\n",
        "# Print information about the sampler set\n",
        "print(f\"There are {len(sampler_7)} queries in this subset.\")\n",
        "# Add to trainer dataset\n",
        "trainer += collect_samples(sampler_7)\n",
        "# Display an example for inspection\n",
        "sampler_7[22]"
      ],
      "metadata": {
        "colab": {
          "base_uri": "https://localhost:8080/"
        },
        "id": "hrRFLxduiEet",
        "outputId": "426303bb-a012-4566-f34b-d9abf9d99b15"
      },
      "execution_count": null,
      "outputs": [
        {
          "output_type": "stream",
          "name": "stdout",
          "text": [
            "There are 87 queries in this subset.\n"
          ]
        },
        {
          "output_type": "execute_result",
          "data": {
            "text/plain": [
              "{'Prompt': 'Convert the following question into a Cypher query using the provided graph schema!',\n",
              " 'Question': 'Find 8 Topic that are missing the description!',\n",
              " 'Schema': 'Graph schema: Node properties are the following:\\nTopic {cluster: INTEGER, description: STRING, label: STRING}\\nRelationship properties are the following:\\n\\nThe relationships are the following:\\n(:Keyword)-[:HAS_TOPIC]->(:Topic)',\n",
              " 'Cypher': 'MATCH (n:Topic) WHERE n.description IS NULL RETURN n LIMIT 8'}"
            ]
          },
          "metadata": {},
          "execution_count": 15
        }
      ]
    },
    {
      "cell_type": "code",
      "source": [
        "# Retrieve nodes where a date property has a specific value\n",
        "def where_one_node_one_prop_equals_date():\n",
        "    def prompter(label_1, prop_1, val_1):\n",
        "        subschema = get_subgraph_schema(jschema, [label_1], 2, True)\n",
        "        message = {\"Prompt\": \"Convert the following question into a Cypher query using the provided graph schema!\",\n",
        "                   \"Question\": f\"\"\"Find {label_1} such that {prop_1} is {val_1}!\"\"\",\n",
        "                   \"Schema\": f\"Graph schema: {subschema}\",\n",
        "                   \"Cypher\": f\"MATCH (n:{label_1}) WHERE n.{prop_1} = date('{val_1}') RETURN n\"\n",
        "                   }\n",
        "        return message\n",
        "\n",
        "    sampler=[]\n",
        "\n",
        "    for entry in date_parsed:\n",
        "        temp_dict = prompter(entry[0], entry[1], entry[2])\n",
        "        sampler.append(temp_dict)\n",
        "\n",
        "    return sampler\n",
        "\n",
        "# Build the set\n",
        "sampler_8 = where_one_node_one_prop_equals_date()\n",
        "# Print information about the sampler set\n",
        "print(f\"There are {len(sampler_8)} queries in this subset.\")\n",
        "# Add to trainer dataset\n",
        "trainer += collect_samples(sampler_8)\n",
        "# Display an example for inspection\n",
        "sampler_8[0]"
      ],
      "metadata": {
        "colab": {
          "base_uri": "https://localhost:8080/"
        },
        "id": "UO50Vla_iENi",
        "outputId": "c162260c-293e-422e-83b4-e09cabc6e32c"
      },
      "execution_count": null,
      "outputs": [
        {
          "output_type": "stream",
          "name": "stdout",
          "text": [
            "There are 4 queries in this subset.\n"
          ]
        },
        {
          "output_type": "execute_result",
          "data": {
            "text/plain": [
              "{'Prompt': 'Convert the following question into a Cypher query using the provided graph schema!',\n",
              " 'Question': 'Find UpdateDate such that update_date is 2013-12-02!',\n",
              " 'Schema': 'Graph schema: Node properties are the following:\\nUpdateDate {update_date: DATE}\\nRelationship properties are the following:\\n\\nThe relationships are the following:\\n(:Article)-[:UPDATED]->(:UpdateDate)',\n",
              " 'Cypher': \"MATCH (n:UpdateDate) WHERE n.update_date = date('2013-12-02') RETURN n\"}"
            ]
          },
          "metadata": {},
          "execution_count": 16
        }
      ]
    },
    {
      "cell_type": "code",
      "source": [
        "# Retrieve nodes where a date property has a specific year\n",
        "def where_one_node_one_prop_equals_year():\n",
        "    def prompter(label_1, prop_1, date_year):\n",
        "        subschema = get_subgraph_schema(jschema, [label_1], 2, True)\n",
        "        message = {\"Prompt\": \"Convert the following question into a Cypher query using the provided graph schema!\",\n",
        "                   \"Question\": f\"\"\"Fetch {label_1} where {prop_1} is in {date_year}!\"\"\",\n",
        "                   \"Schema\": f\"Graph schema: {subschema}\",\n",
        "                   \"Cypher\": f\"MATCH (n:{label_1}) WHERE date(n.{prop_1}).year = {date_year} RETURN n\"\n",
        "                   }\n",
        "        return message\n",
        "\n",
        "    sampler=[]\n",
        "\n",
        "    for entry in date_parsed:\n",
        "        for date_year in [2008, 2016, 2020, 2021]:\n",
        "            temp_dict = prompter(entry[0], entry[1], date_year)\n",
        "            sampler.append(temp_dict)\n",
        "\n",
        "    return sampler\n",
        "\n",
        "# Build the set\n",
        "sampler_9 = where_one_node_one_prop_equals_year()\n",
        "# Print information about the sampler set\n",
        "print(f\"There are {len(sampler_9)} queries in this subset.\")\n",
        "# Add to trainer dataset\n",
        "trainer += collect_samples(sampler_9)\n",
        "# Display an example for inspection\n",
        "sampler_9[0]"
      ],
      "metadata": {
        "colab": {
          "base_uri": "https://localhost:8080/"
        },
        "id": "HyA1lRdr-BzD",
        "outputId": "02bc1cc8-8b6c-429a-d52b-9e11ba9cc760"
      },
      "execution_count": null,
      "outputs": [
        {
          "output_type": "stream",
          "name": "stdout",
          "text": [
            "There are 16 queries in this subset.\n"
          ]
        },
        {
          "output_type": "execute_result",
          "data": {
            "text/plain": [
              "{'Prompt': 'Convert the following question into a Cypher query using the provided graph schema!',\n",
              " 'Question': 'Fetch UpdateDate where update_date is in 2008!',\n",
              " 'Schema': 'Graph schema: Node properties are the following:\\nUpdateDate {update_date: DATE}\\nRelationship properties are the following:\\n\\nThe relationships are the following:\\n(:Article)-[:UPDATED]->(:UpdateDate)',\n",
              " 'Cypher': 'MATCH (n:UpdateDate) WHERE date(n.update_date).year = 2008 RETURN n'}"
            ]
          },
          "metadata": {},
          "execution_count": 17
        }
      ]
    },
    {
      "cell_type": "code",
      "source": [
        "# Nodes where a string property OR another string property\n",
        "def where_one_node_two_props_notnull_or(N):  # choose how many samples to generate\n",
        "    def prompter(label_1, prop_1, val_1, prop_2):\n",
        "        subschema = get_subgraph_schema(jschema, [label_1], 2, True)\n",
        "        message = {\"Prompt\": \"Convert the following question into a Cypher query using the provided graph schema!\",\n",
        "                   \"Question\": f\"\"\"Fetch the distinct values of the {prop_2} from {label_1} where either {prop_1} is {val_1} or {prop_2} is not null!\"\"\",\n",
        "                   \"Schema\": f\"Graph schema: {subschema}\",\n",
        "                   \"Cypher\": f\"MATCH (n:{label_1}) WHERE n.{prop_1} = '{val_1}' OR n.{prop_2} IS NOT NULL RETURN DISTINCT n.{prop_2} AS {prop_2}\"\n",
        "                   }\n",
        "        return message\n",
        "\n",
        "    sampler=[]\n",
        "    for n in range(N):\n",
        "        ninst = get_distinct_random_pairs(string_parsed, used_pairs=[])\n",
        "        temp_dict = prompter(ninst[0], ninst[1], ninst[2], ninst[3])\n",
        "        sampler.append(temp_dict)\n",
        "\n",
        "    return sampler\n",
        "\n",
        "N=100\n",
        "# Build the set\n",
        "sampler_10 = where_one_node_two_props_notnull_or(100)\n",
        "# Print information about the sampler set\n",
        "print(f\"There are {len(sampler_10)} queries in this subset.\")\n",
        "# Add to trainer dataset\n",
        "trainer += collect_samples(sampler_10)\n",
        "# Display an example for inspection\n",
        "sampler_10[90]"
      ],
      "metadata": {
        "colab": {
          "base_uri": "https://localhost:8080/"
        },
        "id": "uCvKVKse-K8x",
        "outputId": "f8a5ce83-4b21-4bcd-81cb-6bccbcbe65de"
      },
      "execution_count": null,
      "outputs": [
        {
          "output_type": "stream",
          "name": "stdout",
          "text": [
            "There are 100 queries in this subset.\n"
          ]
        },
        {
          "output_type": "execute_result",
          "data": {
            "text/plain": [
              "{'Prompt': 'Convert the following question into a Cypher query using the provided graph schema!',\n",
              " 'Question': 'Fetch the distinct values of the key_id from Keyword where either name is exponentially growing or key_id is not null!',\n",
              " 'Schema': 'Graph schema: Node properties are the following:\\nKeyword {name: STRING, key_id: STRING}\\nRelationship properties are the following:\\n\\nThe relationships are the following:\\n(:Article)-[:HAS_KEY]->(:Keyword),(:Keyword)-[:HAS_TOPIC]->(:Topic)',\n",
              " 'Cypher': \"MATCH (n:Keyword) WHERE n.name = 'exponentially growing' OR n.key_id IS NOT NULL RETURN DISTINCT n.key_id AS key_id\"}"
            ]
          },
          "metadata": {},
          "execution_count": 18
        }
      ]
    },
    {
      "cell_type": "code",
      "source": [
        "# Return nodes where a date property and a year for another date property\n",
        "def where_one_node_two_props_two_vals_or_notnull_date(N):\n",
        "    def prompter(label_1, prop_1, val_1, prop_2, val_2):\n",
        "        subschema = get_subgraph_schema(jschema, [label_1], 2, True)\n",
        "        message = {\"Prompt\": \"Convert the following question into a Cypher query using the provided graph schema!\",\n",
        "                   \"Question\": f\"\"\"Find the {prop_2} for those {label_1}s where {prop_1} is {val_1} and the year of the {prop_2} is {val_2[:4]}!\"\"\",\n",
        "                   \"Schema\": f\"Graph schema: {subschema}\",\n",
        "                   \"Cypher\": f\"MATCH (n:{label_1}) WHERE n.{prop_1} = {val_1} AND n.{prop_2}.year = {val_2[:4]} RETURN n.{prop_2} AS {prop_2}\"\n",
        "                   }\n",
        "        return message\n",
        "\n",
        "    sampler=[]\n",
        "    for _ in range(N):\n",
        "        ninst = get_distinct_random_pairs(date_parsed,used_pairs=[])\n",
        "        temp_dict = prompter(ninst[0], ninst[1], ninst[2], ninst[3], ninst[4])\n",
        "        sampler.append(temp_dict)\n",
        "\n",
        "    return sampler\n",
        "\n",
        "# Build the set\n",
        "N=100 # choose how many samples to generate\n",
        "sampler_11 = where_one_node_two_props_two_vals_or_notnull_date(N)\n",
        "# Print information about the sampler set\n",
        "print(f\"There are {len(sampler_11)} queries in this subset.\")\n",
        "# Add to trainer dataset\n",
        "trainer += collect_samples(sampler_11)\n",
        "# Display an example for inspection\n",
        "sampler_11[0]"
      ],
      "metadata": {
        "id": "0kHZ8i0SOoqu",
        "colab": {
          "base_uri": "https://localhost:8080/"
        },
        "outputId": "808bf639-4b0e-497f-c78d-c73c63240162"
      },
      "execution_count": null,
      "outputs": [
        {
          "output_type": "stream",
          "name": "stdout",
          "text": [
            "There are 100 queries in this subset.\n"
          ]
        },
        {
          "output_type": "execute_result",
          "data": {
            "text/plain": [
              "{'Prompt': 'Convert the following question into a Cypher query using the provided graph schema!',\n",
              " 'Question': 'Find the update_date for those UpdateDates where update_date is 2008-01-29 and the year of the update_date is 2008!',\n",
              " 'Schema': 'Graph schema: Node properties are the following:\\nUpdateDate {update_date: DATE}\\nRelationship properties are the following:\\n\\nThe relationships are the following:\\n(:Article)-[:UPDATED]->(:UpdateDate)',\n",
              " 'Cypher': 'MATCH (n:UpdateDate) WHERE n.update_date = 2008-01-29 AND n.update_date.year = 2008 RETURN n.update_date AS update_date'}"
            ]
          },
          "metadata": {},
          "execution_count": 19
        }
      ]
    },
    {
      "cell_type": "code",
      "source": [
        "# Return nodes where a numerical (FLOAT, INTEGER) property is greater, another numerical is less\n",
        "def match_with_where_or_numerical_literal():\n",
        "    def prompter(label_1, prop_1, val_1, prop_2, val_2, prop_3):\n",
        "        subschema = get_subgraph_schema(jschema, [label_1], 2, True)\n",
        "        message = {\"Prompt\": \"Convert the following question into a Cypher query using the provided graph schema!\",\n",
        "                   \"Question\": f\"\"\"Find eight instances of the {prop_3} for {label_1} where either {prop_1} exceeds {val_1} or {prop_2} is less than {val_2}!\"\"\",\n",
        "                   \"Schema\": f\"Graph schema: {subschema}\",\n",
        "                   \"Cypher\": f\"MATCH (n:{label_1}) WHERE n.{prop_1} > {val_1} OR n.{prop_2} < {val_2} RETURN n.{prop_3} AS {prop_3} LIMIT 8\"\n",
        "                   }\n",
        "        return message\n",
        "\n",
        "    sampler=[]\n",
        "    used_pairs=[]\n",
        "    N = 4# choose how many samples to generate, depends how many are available in data, more give error\n",
        "    for _ in range(N):\n",
        "        ninst = get_distinct_random_pairs(integer_parsed, used_pairs)\n",
        "        node_props = get_node_properties(jschema, ninst[0])\n",
        "        for prop_3 in node_props:\n",
        "            temp_dict = prompter(ninst[0], ninst[1], ninst[2], ninst[3], ninst[4], prop_3)\n",
        "            sampler.append(temp_dict)\n",
        "\n",
        "    return sampler\n",
        "\n",
        "# Build the set\n",
        "N=4 # choose how many samples to generate\n",
        "sampler_12 = match_with_where_or_numerical_literal()\n",
        "# Print information about the sampler set\n",
        "print(f\"There are {len(sampler_12)} queries in this subset.\")\n",
        "# Add to trainer dataset\n",
        "trainer += collect_samples(sampler_12)\n",
        "# Display an example for inspection\n",
        "sampler_12[0]"
      ],
      "metadata": {
        "colab": {
          "base_uri": "https://localhost:8080/"
        },
        "id": "QQt_-j-e08q-",
        "outputId": "148ab3ca-3cff-4bad-c855-a0f07a646eb7"
      },
      "execution_count": null,
      "outputs": [
        {
          "output_type": "stream",
          "name": "stdout",
          "text": [
            "There are 16 queries in this subset.\n"
          ]
        },
        {
          "output_type": "execute_result",
          "data": {
            "text/plain": [
              "{'Prompt': 'Convert the following question into a Cypher query using the provided graph schema!',\n",
              " 'Question': 'Find eight instances of the abstract for Article where either article_id exceeds 1008 or article_id is less than 1009!',\n",
              " 'Schema': 'Graph schema: Node properties are the following:\\nArticle {abstract: STRING, article_id: INTEGER, comments: STRING, title: STRING}\\nRelationship properties are the following:\\nPUBLISHED_IN {meta: STRING, pages: STRING, year: INTEGER}\\nThe relationships are the following:\\n(:Article)-[:HAS_KEY]->(:Keyword),(:Article)-[:HAS_DOI]->(:DOI),(:Article)-[:HAS_CATEGORY]->(:Categories),(:Article)-[:WRITTEN_BY]->(:Author),(:Article)-[:UPDATED]->(:UpdateDate),(:Article)-[:PUBLISHED_IN]->(:Journal),(:Article)-[:HAS_REPORT]->(:Report)',\n",
              " 'Cypher': 'MATCH (n:Article) WHERE n.article_id > 1008 OR n.article_id < 1009 RETURN n.abstract AS abstract LIMIT 8'}"
            ]
          },
          "metadata": {},
          "execution_count": 20
        }
      ]
    },
    {
      "cell_type": "code",
      "source": [
        "# Retrieve nodes where a string property contains a given substring, return 2 properties\n",
        "def match_with_where_contains_substring(N):\n",
        "    def prompter(label_1, prop_1, val_1, prop_2):\n",
        "        subschema = get_subgraph_schema(jschema, [label_1], 2, True)\n",
        "        message = {\"Prompt\": \"Convert the following question into a Cypher query using the provided graph schema!\",\n",
        "                   \"Question\": f\"\"\"Find the {prop_1} and the {prop_2} for those {label_1} where {prop_1} contains the substring {val_1[:2]}!\"\"\",\n",
        "                   \"Schema\": f\"Graph schema: {subschema}\",\n",
        "                   \"Cypher\": f\"MATCH (n:{label_1}) WHERE n.{prop_1} CONTAINS {val_1[2:]} RETURN n.{prop_1} AS {prop_1}, n.{prop_2} AS {prop_2}\"\n",
        "        }\n",
        "        return message\n",
        "\n",
        "    sampler=[]\n",
        "    used_pairs=[]\n",
        "    for _ in range(N):\n",
        "        ninst = get_distinct_random_pairs(string_parsed, used_pairs)\n",
        "        temp_dict = prompter(ninst[0], ninst[1], ninst[2], ninst[3])\n",
        "        sampler.append(temp_dict)\n",
        "\n",
        "    return sampler\n",
        "\n",
        "# Build the set\n",
        "N=100 # choose the number of samples\n",
        "sampler_13 = match_with_where_contains_substring(N)\n",
        "# Print information about the sampler set\n",
        "print(f\"There are {len(sampler_13)} queries in this subset.\")\n",
        "# Add to trainer dataset\n",
        "trainer += collect_samples(sampler_13)\n",
        "# Display an example for inspection\n",
        "sampler_13[0]"
      ],
      "metadata": {
        "colab": {
          "base_uri": "https://localhost:8080/"
        },
        "id": "qk0drj5n_68u",
        "outputId": "b2fbef37-a640-468e-91be-4a1b21f58871"
      },
      "execution_count": null,
      "outputs": [
        {
          "output_type": "stream",
          "name": "stdout",
          "text": [
            "There are 100 queries in this subset.\n"
          ]
        },
        {
          "output_type": "execute_result",
          "data": {
            "text/plain": [
              "{'Prompt': 'Convert the following question into a Cypher query using the provided graph schema!',\n",
              " 'Question': 'Find the comments and the title for those Article where comments contains the substring 21!',\n",
              " 'Schema': 'Graph schema: Node properties are the following:\\nArticle {abstract: STRING, article_id: INTEGER, comments: STRING, title: STRING}\\nRelationship properties are the following:\\nPUBLISHED_IN {meta: STRING, pages: STRING, year: INTEGER}\\nThe relationships are the following:\\n(:Article)-[:HAS_KEY]->(:Keyword),(:Article)-[:HAS_DOI]->(:DOI),(:Article)-[:HAS_CATEGORY]->(:Categories),(:Article)-[:WRITTEN_BY]->(:Author),(:Article)-[:UPDATED]->(:UpdateDate),(:Article)-[:PUBLISHED_IN]->(:Journal),(:Article)-[:HAS_REPORT]->(:Report)',\n",
              " 'Cypher': 'MATCH (n:Article) WHERE n.comments CONTAINS  pages, AMS-LaTeX RETURN n.comments AS comments, n.title AS title'}"
            ]
          },
          "metadata": {},
          "execution_count": 21
        }
      ]
    },
    {
      "cell_type": "code",
      "source": [
        "# Retrieve nodes where a string property starts with, return 2 properties\n",
        "def match_with_where_starts_with_substring(N):\n",
        "    def prompter(label_1, prop_1, val_1, prop_2):\n",
        "        subschema = get_subgraph_schema(jschema, [label_1], 2, True)\n",
        "        message = {\"Prompt\": \"Convert the following question into a Cypher query using the provided graph schema!\",\n",
        "                   \"Question\": f\"\"\"Find the {prop_1} and the {prop_2} for those {label_1} where {prop_1} starts with {val_1[0]}!\"\"\",\n",
        "                   \"Schema\": f\"Graph schema: {subschema}\",\n",
        "                   \"Cypher\": f\"MATCH (n:{label_1}) WHERE n.{prop_1} STARTS WITH '{val_1[0]}' RETURN n.{prop_1} AS {prop_1}, n.{prop_2} AS {prop_2}\"\n",
        "                   }\n",
        "        return message\n",
        "\n",
        "    sampler=[]\n",
        "    used_pairs=[]\n",
        "    for _ in range(N):\n",
        "        ninst = get_distinct_random_pairs(string_parsed, used_pairs)\n",
        "        temp_dict = prompter(ninst[0], ninst[1], ninst[2], ninst[3])\n",
        "        sampler.append(temp_dict)\n",
        "\n",
        "    return sampler\n",
        "\n",
        "# Build the set\n",
        "N=100 # choose how many samples to generate\n",
        "sampler_14 =match_with_where_starts_with_substring(N)\n",
        "# Print information about the sampler set\n",
        "print(f\"There are {len(sampler_14)} queries in this subset.\")\n",
        "# Add to trainer dataset\n",
        "trainer += collect_samples(sampler_14)\n",
        "# Display an example for inspection\n",
        "sampler_14[0]"
      ],
      "metadata": {
        "colab": {
          "base_uri": "https://localhost:8080/"
        },
        "id": "FKNp26qPC0Yt",
        "outputId": "f3d45c27-38fd-4d9c-dadd-0ac24e34f5c4"
      },
      "execution_count": null,
      "outputs": [
        {
          "output_type": "stream",
          "name": "stdout",
          "text": [
            "There are 100 queries in this subset.\n"
          ]
        },
        {
          "output_type": "execute_result",
          "data": {
            "text/plain": [
              "{'Prompt': 'Convert the following question into a Cypher query using the provided graph schema!',\n",
              " 'Question': 'Find the title and the title for those Article where title starts with S!',\n",
              " 'Schema': 'Graph schema: Node properties are the following:\\nArticle {abstract: STRING, article_id: INTEGER, comments: STRING, title: STRING}\\nRelationship properties are the following:\\nPUBLISHED_IN {meta: STRING, pages: STRING, year: INTEGER}\\nThe relationships are the following:\\n(:Article)-[:HAS_KEY]->(:Keyword),(:Article)-[:HAS_DOI]->(:DOI),(:Article)-[:HAS_CATEGORY]->(:Categories),(:Article)-[:WRITTEN_BY]->(:Author),(:Article)-[:UPDATED]->(:UpdateDate),(:Article)-[:PUBLISHED_IN]->(:Journal),(:Article)-[:HAS_REPORT]->(:Report)',\n",
              " 'Cypher': \"MATCH (n:Article) WHERE n.title STARTS WITH 'S' RETURN n.title AS title, n.title AS title\"}"
            ]
          },
          "metadata": {},
          "execution_count": 22
        }
      ]
    },
    {
      "cell_type": "code",
      "source": [
        "# Retrieve nodes where a string property ends with, return 2 properties\n",
        "def match_with_where_ends_with_substring(N):\n",
        "    def prompter(label_1, prop_1, val_1, prop_2):\n",
        "        subschema = get_subgraph_schema(jschema, [label_1], 2, True)\n",
        "        message = {\"Prompt\": \"Convert the following question into a Cypher query using the provided graph schema!\",\n",
        "                   \"Question\": f\"\"\"Search for 23 instances of the {prop_1} and the {prop_2} among {label_1}s where the {prop_1} ends with {val_1[-1]}.\"\"\",\n",
        "                   \"Schema\": f\"Graph schema: {subschema}\",\n",
        "                   \"Cypher\": f\"MATCH (n:{label_1}) WHERE n.{prop_1} ENDS WITH '{val_1[-1]}' RETURN n.{prop_1} AS {prop_1}, n.{prop_2} AS {prop_2} LIMIT 23\"\n",
        "                   }\n",
        "        return message\n",
        "\n",
        "    sampler=[]\n",
        "    used_pairs=[]\n",
        "    for _ in range(N):\n",
        "        ninst = get_distinct_random_pairs(string_parsed, used_pairs)\n",
        "        temp_dict = prompter(ninst[0], ninst[1], ninst[2], ninst[3])\n",
        "        sampler.append(temp_dict)\n",
        "\n",
        "    return sampler\n",
        "\n",
        "# Build the set\n",
        "N=100 # choose how many samples to generate\n",
        "sampler_15 = match_with_where_ends_with_substring(N)\n",
        "# Print information about the sampler set\n",
        "print(f\"There are {len(sampler_15)} queries in this subset.\")\n",
        "# Add to trainer dataset\n",
        "trainer += collect_samples(sampler_15)\n",
        "# Display an example for inspection\n",
        "sampler_15[0]"
      ],
      "metadata": {
        "colab": {
          "base_uri": "https://localhost:8080/"
        },
        "id": "BSarjiyLGUgW",
        "outputId": "26760955-3ed1-4d0e-a1e9-bbe512f55063"
      },
      "execution_count": null,
      "outputs": [
        {
          "output_type": "stream",
          "name": "stdout",
          "text": [
            "There are 100 queries in this subset.\n"
          ]
        },
        {
          "output_type": "execute_result",
          "data": {
            "text/plain": [
              "{'Prompt': 'Convert the following question into a Cypher query using the provided graph schema!',\n",
              " 'Question': 'Search for 23 instances of the journal_id and the journal_id among Journals where the journal_id ends with 7.',\n",
              " 'Schema': 'Graph schema: Node properties are the following:\\nJournal {name: STRING, journal_id: STRING}\\nRelationship properties are the following:\\nPUBLISHED_IN {meta: STRING, pages: STRING, year: INTEGER}\\nThe relationships are the following:\\n(:Article)-[:PUBLISHED_IN]->(:Journal)',\n",
              " 'Cypher': \"MATCH (n:Journal) WHERE n.journal_id ENDS WITH '7' RETURN n.journal_id AS journal_id, n.journal_id AS journal_id LIMIT 23\"}"
            ]
          },
          "metadata": {},
          "execution_count": 23
        }
      ]
    },
    {
      "cell_type": "code",
      "source": [
        "# Retrieve nodes where a string property is not a certain value\n",
        "def match_with_where_not_value(N):\n",
        "    def prompter(label_1, prop_1, val_1, prop_2):\n",
        "        subschema = get_subgraph_schema(jschema, [label_1], 2, True)\n",
        "        message = {\"Prompt\": \"Convert the following question into a Cypher query using the provided graph schema!\",\n",
        "                   \"Question\": f\"\"\"Retrieve distinct values of the {prop_1} and the {prop_2} from {label_1} where {prop_1} is not {val_1}!\"\"\",\n",
        "                   \"Schema\": f\"Graph schema: {subschema}\",\n",
        "                   \"Cypher\": f\"MATCH (n:{label_1}) WHERE n.{prop_1} <> '{val_1}' RETURN DISTINCT n.{prop_1} AS {prop_1}, n.{prop_2} AS {prop_2}\"\n",
        "                   }\n",
        "        return message\n",
        "\n",
        "    sampler=[]\n",
        "    used_pairs=[]\n",
        "    for _ in range(N): # N depends on the size of KG\n",
        "        ninst = get_distinct_random_pairs(string_parsed, used_pairs)\n",
        "        temp_dict = prompter(ninst[0], ninst[1], ninst[2], ninst[3])\n",
        "        sampler.append(temp_dict)\n",
        "\n",
        "    return sampler\n",
        "\n",
        "\n",
        "# Build the set\n",
        "N=100 # choose how many samples to generate\n",
        "sampler_16 = match_with_where_not_value(N)\n",
        "# Print information about the sampler set\n",
        "print(f\"There are {len(sampler_16)} queries in this subset.\")\n",
        "# Add to trainer dataset\n",
        "trainer += collect_samples(sampler_16)\n",
        "# Display an example for inspection\n",
        "sampler_16[0]"
      ],
      "metadata": {
        "colab": {
          "base_uri": "https://localhost:8080/"
        },
        "id": "7trkkRB-GUVL",
        "outputId": "b5f76eda-7a19-48eb-ba89-877c43e22af8"
      },
      "execution_count": null,
      "outputs": [
        {
          "output_type": "stream",
          "name": "stdout",
          "text": [
            "There are 100 queries in this subset.\n"
          ]
        },
        {
          "output_type": "execute_result",
          "data": {
            "text/plain": [
              "{'Prompt': 'Convert the following question into a Cypher query using the provided graph schema!',\n",
              " 'Question': 'Retrieve distinct values of the author_id and the affiliation from Author where author_id is not fd6fcf9374c7e5fd0377800da5e8f846!',\n",
              " 'Schema': 'Graph schema: Node properties are the following:\\nAuthor {author_id: STRING, affiliation: STRING, first_name: STRING, last_name: STRING}\\nRelationship properties are the following:\\n\\nThe relationships are the following:\\n(:Article)-[:WRITTEN_BY]->(:Author)',\n",
              " 'Cypher': \"MATCH (n:Author) WHERE n.author_id <> 'fd6fcf9374c7e5fd0377800da5e8f846' RETURN DISTINCT n.author_id AS author_id, n.affiliation AS affiliation\"}"
            ]
          },
          "metadata": {},
          "execution_count": 24
        }
      ]
    },
    {
      "cell_type": "code",
      "source": [
        "# Return nodes where a string property is not a certain value\n",
        "def match_with_where_not_is_value(N):\n",
        "    def prompter(label_1, prop_1, val_1, prop_2):\n",
        "        subschema = get_subgraph_schema(jschema, [label_1], 2, True)\n",
        "        message = {\"Prompt\": \"Convert the following question into a Cypher query using the provided graph schema!\",\n",
        "                   \"Question\": f\"\"\"Fetch unique values of {prop_1} and {prop_2} from {label_1} where {prop_1} does not start with {val_1[0]}!\"\"\",\n",
        "                   \"Schema\": f\"Graph schema: {subschema}\",\n",
        "                   \"Cypher\": f\"MATCH (n:{label_1}) WHERE NOT n.{prop_1} STARTS WITH '{val_1[0]}' RETURN DISTINCT n.{prop_1} AS {prop_1}, n.{prop_2} AS {prop_2}\"\n",
        "                   }\n",
        "        return message\n",
        "\n",
        "    sampler=[]\n",
        "    used_pairs=[]\n",
        "    for _ in range(N):\n",
        "        ninst = get_distinct_random_pairs(string_parsed, used_pairs)\n",
        "        temp_dict = prompter(ninst[0], ninst[1], ninst[2], ninst[3])\n",
        "        sampler.append(temp_dict)\n",
        "\n",
        "    return sampler\n",
        "\n",
        "# Build the set\n",
        "N=100 # choose how many samples to generate\n",
        "sampler_17 = match_with_where_not_is_value(N)\n",
        "# Print information about the sampler set\n",
        "print(f\"There are {len(sampler_17)} queries in this subset.\")\n",
        "# Add to trainer dataset\n",
        "trainer += collect_samples(sampler_17)\n",
        "# Display an example for inspection\n",
        "sampler_17[17]\n"
      ],
      "metadata": {
        "colab": {
          "base_uri": "https://localhost:8080/"
        },
        "id": "IamjsvkeC0Nl",
        "outputId": "fb26cdd1-0678-4122-9870-79164dee291b"
      },
      "execution_count": null,
      "outputs": [
        {
          "output_type": "stream",
          "name": "stdout",
          "text": [
            "There are 100 queries in this subset.\n"
          ]
        },
        {
          "output_type": "execute_result",
          "data": {
            "text/plain": [
              "{'Prompt': 'Convert the following question into a Cypher query using the provided graph schema!',\n",
              " 'Question': 'Fetch unique values of key_id and key_id from Keyword where key_id does not start with 7!',\n",
              " 'Schema': 'Graph schema: Node properties are the following:\\nKeyword {name: STRING, key_id: STRING}\\nRelationship properties are the following:\\n\\nThe relationships are the following:\\n(:Article)-[:HAS_KEY]->(:Keyword),(:Keyword)-[:HAS_TOPIC]->(:Topic)',\n",
              " 'Cypher': \"MATCH (n:Keyword) WHERE NOT n.key_id STARTS WITH '7' RETURN DISTINCT n.key_id AS key_id, n.key_id AS key_id\"}"
            ]
          },
          "metadata": {},
          "execution_count": 25
        }
      ]
    },
    {
      "cell_type": "code",
      "source": [
        "# Return nodes where a property is not null, a second property takes specified values, order by the second property\n",
        "def match_with_where_not_null():\n",
        "    def prompter(label_1, prop_1, prop_2, val_2):\n",
        "        subschema = get_subgraph_schema(jschema, [label_1], 2, True)\n",
        "        message = {\"Prompt\": \"Convert the following question into a Cypher query using the provided graph schema!\",\n",
        "                   \"Question\": f\"\"\"Search for {prop_1} and {prop_2} from {label_1} where {prop_1} is not null and {prop_2} exceeds {val_2} and sort the results by {prop_2}, beginning with the largest!\"\"\",\n",
        "                   \"Schema\": f\"Graph schema: {subschema}\",\n",
        "                   \"Cypher\": f\"MATCH (n:{label_1}) WHERE n.{prop_1}  IS NOT NULL AND n.{prop_2} > {val_2} RETURN n.{prop_1} AS {prop_1}, n.{prop_2} AS {prop_2} ORDER BY {prop_2} DESC\"\n",
        "                   }\n",
        "        return message\n",
        "\n",
        "    sampler=[]\n",
        "    for dinstance in integer_parsed:\n",
        "        for ninstance in integer_parsed:\n",
        "            if dinstance[0] == ninstance[0]:\n",
        "                temp_dict = prompter(dinstance[0], dinstance[1], ninstance[1], ninstance[2])\n",
        "                sampler.append(temp_dict)\n",
        "\n",
        "    return sampler\n",
        "\n",
        "# Build the set\n",
        "sampler_18 = match_with_where_not_null()\n",
        "# Print information about the sampler set\n",
        "print(f\"There are {len(sampler_18)} queries in this subset.\")\n",
        "# Add to trainer dataset\n",
        "trainer += collect_samples(sampler_18)\n",
        "# Display an example for inspection\n",
        "sampler_18[0]"
      ],
      "metadata": {
        "colab": {
          "base_uri": "https://localhost:8080/"
        },
        "id": "Y6BlwGTAH3Wl",
        "outputId": "b5d2ad7d-f64a-4289-b8f1-1003108695df"
      },
      "execution_count": null,
      "outputs": [
        {
          "output_type": "stream",
          "name": "stdout",
          "text": [
            "There are 25 queries in this subset.\n"
          ]
        },
        {
          "output_type": "execute_result",
          "data": {
            "text/plain": [
              "{'Prompt': 'Convert the following question into a Cypher query using the provided graph schema!',\n",
              " 'Question': 'Search for article_id and article_id from Article where article_id is not null and article_id exceeds 1006 and sort the results by article_id, beginning with the largest!',\n",
              " 'Schema': 'Graph schema: Node properties are the following:\\nArticle {abstract: STRING, article_id: INTEGER, comments: STRING, title: STRING}\\nRelationship properties are the following:\\nPUBLISHED_IN {meta: STRING, pages: STRING, year: INTEGER}\\nThe relationships are the following:\\n(:Article)-[:HAS_KEY]->(:Keyword),(:Article)-[:HAS_DOI]->(:DOI),(:Article)-[:HAS_CATEGORY]->(:Categories),(:Article)-[:WRITTEN_BY]->(:Author),(:Article)-[:UPDATED]->(:UpdateDate),(:Article)-[:PUBLISHED_IN]->(:Journal),(:Article)-[:HAS_REPORT]->(:Report)',\n",
              " 'Cypher': 'MATCH (n:Article) WHERE n.article_id  IS NOT NULL AND n.article_id > 1006 RETURN n.article_id AS article_id, n.article_id AS article_id ORDER BY article_id DESC'}"
            ]
          },
          "metadata": {},
          "execution_count": 26
        }
      ]
    },
    {
      "cell_type": "code",
      "source": [
        "# Usage of regular expression with WHERE\n",
        "def where_one_node_string_re():\n",
        "    def prompter(label_1, prop_1, val_1):\n",
        "        subschema = get_subgraph_schema(jschema, [label_1], 2, True)\n",
        "        message = {\"Prompt\": \"Convert the following question into a Cypher query using the provided graph schema!\",\n",
        "                   \"Question\": f\"\"\"Fetch the {label_1} where {prop_1} ends with {val_1[:2]}!\"\"\",\n",
        "                   \"Schema\": f\"Graph schema: {subschema}\",\n",
        "                   \"Cypher\": f\"MATCH (n:{label_1}) WHERE n.{prop_1} =~'{val_1[1:-1]}.*' RETURN n\"\n",
        "                   }\n",
        "        return message\n",
        "\n",
        "    sampler=[]\n",
        "    for entry in string_parsed:\n",
        "        temp_dict = prompter(entry[0], entry[1], entry[2])\n",
        "        sampler.append(temp_dict)\n",
        "\n",
        "    return sampler\n",
        "\n",
        "# Build the set\n",
        "sampler_19 = where_one_node_string_re()\n",
        "# Print information about the sampler set\n",
        "print(f\"There are {len(sampler_19)} queries in this subset.\")\n",
        "# Add to trainer dataset\n",
        "trainer += collect_samples(sampler_19)\n",
        "# Display an example for inspection\n",
        "sampler_19[0]"
      ],
      "metadata": {
        "colab": {
          "base_uri": "https://localhost:8080/"
        },
        "id": "02YUwQEVJmqC",
        "outputId": "f434d5a1-9923-475c-e2d6-f82d677af940"
      },
      "execution_count": null,
      "outputs": [
        {
          "output_type": "stream",
          "name": "stdout",
          "text": [
            "There are 76 queries in this subset.\n"
          ]
        },
        {
          "output_type": "execute_result",
          "data": {
            "text/plain": [
              "{'Prompt': 'Convert the following question into a Cypher query using the provided graph schema!',\n",
              " 'Question': 'Fetch the Article where abstract ends with   !',\n",
              " 'Schema': 'Graph schema: Node properties are the following:\\nArticle {abstract: STRING, article_id: INTEGER, comments: STRING, title: STRING}\\nRelationship properties are the following:\\nPUBLISHED_IN {meta: STRING, pages: STRING, year: INTEGER}\\nThe relationships are the following:\\n(:Article)-[:HAS_KEY]->(:Keyword),(:Article)-[:HAS_DOI]->(:DOI),(:Article)-[:HAS_CATEGORY]->(:Categories),(:Article)-[:WRITTEN_BY]->(:Author),(:Article)-[:UPDATED]->(:UpdateDate),(:Article)-[:PUBLISHED_IN]->(:Journal),(:Article)-[:HAS_REPORT]->(:Report)',\n",
              " 'Cypher': \"MATCH (n:Article) WHERE n.abstract =~' Using matrix inversion and determinant evaluation techniques we prove several\\nsummation and transformation formulas for terminating, balanced,\\nvery-well-poised, elliptic hypergeometric series..*' RETURN n\"}"
            ]
          },
          "metadata": {},
          "execution_count": 27
        }
      ]
    },
    {
      "cell_type": "markdown",
      "source": [
        "## Simple Paths, WHERE, EXISTS"
      ],
      "metadata": {
        "id": "SsjmzKV-NaGJ"
      }
    },
    {
      "cell_type": "code",
      "source": [
        "# Traverse a simple path\n",
        "def match_a_simple_path():\n",
        "    def prompter(label_1, prop_1, val_1, prop_2, rtype_1, label_2):\n",
        "        subschema = get_subgraph_schema(jschema, [label_1, label_2], 2, True)\n",
        "        message = {\"Prompt\": \"Convert the following question into a Cypher query using the provided graph schema!\",\n",
        "                   \"Question\": f\"\"\"Retrieve the {prop_2} of {label_2} which are connected to the {label_1} where {prop_1} is {val_1} through the {rtype_1} relationship!\"\"\",\n",
        "                   \"Schema\": f\"Graph schema: {subschema}\",\n",
        "                   \"Cypher\": \"MATCH (:{label_1} {{{prop_1}:'{val_1}'}}) <- [:{rtype_1}]-({label_2}) RETURN {label_2}.{prop_2}\".format(label_1=label_1,\n",
        "                                                                                                                                      prop_1=prop_1,\n",
        "                                                                                                                                      val_1=val_1,\n",
        "                                                                                                                                      rtype_1=rtype_1,\n",
        "                                                                                                                                      label_2=label_2,\n",
        "                                                                                                                                      prop_2=prop_2)}\n",
        "        return message\n",
        "\n",
        "    sampler = []\n",
        "\n",
        "    for entry in string_string_rels:\n",
        "        label_1 = entry[0]\n",
        "        label_2 = entry[3]\n",
        "        rtype_1 = entry[2]\n",
        "        for prop_1, val_1 in entry[1].items():\n",
        "            for prop_2, _ in entry[4].items():\n",
        "                temp_dict =prompter(label_1, prop_1, val_1, prop_2, rtype_1, label_2)\n",
        "                sampler.append(temp_dict)\n",
        "\n",
        "    return sampler\n",
        "\n",
        "# Build the set\n",
        "sampler_20 = match_a_simple_path()\n",
        "# Print information about the sampler set\n",
        "print(f\"There are {len(sampler_20)} queries in this subset.\")\n",
        "# Add to trainer dataset\n",
        "trainer += collect_samples(sampler_20)\n",
        "# Display an example for inspection\n",
        "sampler_20[100]"
      ],
      "metadata": {
        "colab": {
          "base_uri": "https://localhost:8080/"
        },
        "id": "Sk6aKtD8K0uP",
        "outputId": "fd097c59-a5db-4e6b-e776-25969b3d0b58"
      },
      "execution_count": null,
      "outputs": [
        {
          "output_type": "stream",
          "name": "stdout",
          "text": [
            "There are 368 queries in this subset.\n"
          ]
        },
        {
          "output_type": "execute_result",
          "data": {
            "text/plain": [
              "{'Prompt': 'Convert the following question into a Cypher query using the provided graph schema!',\n",
              " 'Question': 'Retrieve the category_id of Categories which are connected to the Article where title is Applications of another characterization of betaN\\\\N through the HAS_CATEGORY relationship!',\n",
              " 'Schema': 'Graph schema: Node properties are the following:\\nArticle {abstract: STRING, article_id: INTEGER, comments: STRING, title: STRING},Categories {category_id: STRING, specifications: STRING}\\nRelationship properties are the following:\\nPUBLISHED_IN {meta: STRING, pages: STRING, year: INTEGER}\\nThe relationships are the following:\\n(:Article)-[:HAS_KEY]->(:Keyword),(:Article)-[:HAS_DOI]->(:DOI),(:Article)-[:HAS_CATEGORY]->(:Categories),(:Article)-[:WRITTEN_BY]->(:Author),(:Article)-[:UPDATED]->(:UpdateDate),(:Article)-[:PUBLISHED_IN]->(:Journal),(:Article)-[:HAS_REPORT]->(:Report),(:Article)-[:HAS_CATEGORY]->(:Categories)',\n",
              " 'Cypher': \"MATCH (:Article {title:'Applications of another characterization of betaN\\\\N'}) <- [:HAS_CATEGORY]-(Categories) RETURN Categories.category_id\"}"
            ]
          },
          "metadata": {},
          "execution_count": 28
        }
      ]
    },
    {
      "cell_type": "code",
      "source": [
        "# Match with relations and property\n",
        "def where_and_simple_path():\n",
        "    def prompter(label_1, prop_1, val_1, label_2, prop_2, rtype_1):\n",
        "        subschema = get_subgraph_schema(jschema, [label_1, label_2], 2, True)\n",
        "        message = {\"Prompt\": \"Convert the following question into a Cypher query using the provided graph schema!\",\n",
        "                   \"Question\": f\"\"\"Search for the {prop_2} in {label_2} that is linked through a {rtype_1} relationship with the {label_1} where {prop_1} property is {val_1}!\"\"\",\n",
        "                   \"Schema\": f\"Graph schema: {subschema}\",\n",
        "                   \"Cypher\": f\"MATCH (n:{label_1}) -[{rtype_1[:2].lower()}:{rtype_1}]->(m) WHERE n.{prop_1}='{val_1}' RETURN m.{prop_2}\"\n",
        "                   }\n",
        "        return message\n",
        "\n",
        "    sampler = []\n",
        "\n",
        "    for entry in string_string_rels:\n",
        "        for prop_1, val_1 in entry[1].items():\n",
        "            for prop_2, _ in entry[4].items():\n",
        "                temp_dict =prompter(entry[0], prop_1, val_1, entry[3], prop_2, entry[2])\n",
        "                sampler.append(temp_dict)\n",
        "\n",
        "    return sampler\n",
        "\n",
        "# Build the set\n",
        "sampler_21 = where_and_simple_path()\n",
        "# Print information about the sampler set\n",
        "print(f\"There are {len(sampler_21)} queries in this subset.\")\n",
        "# Add to trainer dataset\n",
        "trainer += collect_samples(sampler_21)\n",
        "# Display an example for inspection\n",
        "sampler_21[2]"
      ],
      "metadata": {
        "colab": {
          "base_uri": "https://localhost:8080/"
        },
        "id": "syzz0J40UgxK",
        "outputId": "8719b482-4f13-45c5-b82e-a32ecae9702d"
      },
      "execution_count": null,
      "outputs": [
        {
          "output_type": "stream",
          "name": "stdout",
          "text": [
            "There are 368 queries in this subset.\n"
          ]
        },
        {
          "output_type": "execute_result",
          "data": {
            "text/plain": [
              "{'Prompt': 'Convert the following question into a Cypher query using the provided graph schema!',\n",
              " 'Question': 'Search for the name in Keyword that is linked through a HAS_KEY relationship with the Article where comments property is 21 pages, AMS-LaTeX!',\n",
              " 'Schema': 'Graph schema: Node properties are the following:\\nArticle {abstract: STRING, article_id: INTEGER, comments: STRING, title: STRING},Keyword {name: STRING, key_id: STRING}\\nRelationship properties are the following:\\nPUBLISHED_IN {meta: STRING, pages: STRING, year: INTEGER}\\nThe relationships are the following:\\n(:Article)-[:HAS_KEY]->(:Keyword),(:Article)-[:HAS_DOI]->(:DOI),(:Article)-[:HAS_CATEGORY]->(:Categories),(:Article)-[:WRITTEN_BY]->(:Author),(:Article)-[:UPDATED]->(:UpdateDate),(:Article)-[:PUBLISHED_IN]->(:Journal),(:Article)-[:HAS_REPORT]->(:Report),(:Article)-[:HAS_KEY]->(:Keyword),(:Keyword)-[:HAS_TOPIC]->(:Topic)',\n",
              " 'Cypher': \"MATCH (n:Article) -[ha:HAS_KEY]->(m) WHERE n.comments='21 pages, AMS-LaTeX' RETURN m.name\"}"
            ]
          },
          "metadata": {},
          "execution_count": 29
        }
      ]
    },
    {
      "cell_type": "code",
      "source": [
        "# Match with relations and exists\n",
        "def where_and_exists_simple_path():\n",
        "    def prompter(label_1, prop_1, rtype_1, label_2):\n",
        "        subschema = get_subgraph_schema(jschema, [label_1, label_2], 2, True)\n",
        "        message = {\"Prompt\": \"Convert the following question into a Cypher query using the provided graph schema!\",\n",
        "                   \"Question\": f\"\"\"Fetch {prop_1} of the {label_1} that are connected to {label_2} via {rtype_1}!\"\"\",\n",
        "                   \"Schema\": f\"Graph schema: {subschema}\",\n",
        "                   \"Cypher\": \"MATCH (n:{label_1}) WHERE EXISTS {{ MATCH (n)-[:{rtype_1}]->(:{label_2}) }} RETURN n.{prop_1} AS {prop_1}\".format(label_1=label_1,\n",
        "                                                                                                                                                prop_1=prop_1,\n",
        "                                                                                                                                                rtype_1=rtype_1,\n",
        "                                                                                                                                                label_2=label_2)}\n",
        "\n",
        "        return message\n",
        "\n",
        "    sampler = []\n",
        "\n",
        "    for entry in string_string_rels:\n",
        "        for prop_1, _ in entry[1].items():\n",
        "            for prop_2, _ in entry[4].items():\n",
        "                temp_dict =prompter(entry[0], prop_1, entry[2], entry[3])\n",
        "                sampler.append(temp_dict)\n",
        "\n",
        "    return sampler\n",
        "\n",
        "# Build the set\n",
        "sampler_22 = where_and_exists_simple_path()\n",
        "# Print information about the sampler set\n",
        "print(f\"There are {len(sampler_22)} queries in this subset.\")\n",
        "# Add to trainer dataset\n",
        "trainer += collect_samples(sampler_22)\n",
        "# Display an example for inspection\n",
        "sampler_22[0]\n"
      ],
      "metadata": {
        "colab": {
          "base_uri": "https://localhost:8080/"
        },
        "id": "ghekBU5Py1Nc",
        "outputId": "e2363c17-c285-4884-a9dd-fbec88ef7b7c"
      },
      "execution_count": null,
      "outputs": [
        {
          "output_type": "stream",
          "name": "stdout",
          "text": [
            "There are 368 queries in this subset.\n"
          ]
        },
        {
          "output_type": "execute_result",
          "data": {
            "text/plain": [
              "{'Prompt': 'Convert the following question into a Cypher query using the provided graph schema!',\n",
              " 'Question': 'Fetch abstract of the Article that are connected to Keyword via HAS_KEY!',\n",
              " 'Schema': 'Graph schema: Node properties are the following:\\nArticle {abstract: STRING, article_id: INTEGER, comments: STRING, title: STRING},Keyword {name: STRING, key_id: STRING}\\nRelationship properties are the following:\\nPUBLISHED_IN {meta: STRING, pages: STRING, year: INTEGER}\\nThe relationships are the following:\\n(:Article)-[:HAS_KEY]->(:Keyword),(:Article)-[:HAS_DOI]->(:DOI),(:Article)-[:HAS_CATEGORY]->(:Categories),(:Article)-[:WRITTEN_BY]->(:Author),(:Article)-[:UPDATED]->(:UpdateDate),(:Article)-[:PUBLISHED_IN]->(:Journal),(:Article)-[:HAS_REPORT]->(:Report),(:Article)-[:HAS_KEY]->(:Keyword),(:Keyword)-[:HAS_TOPIC]->(:Topic)',\n",
              " 'Cypher': 'MATCH (n:Article) WHERE EXISTS { MATCH (n)-[:HAS_KEY]->(:Keyword) } RETURN n.abstract AS abstract'}"
            ]
          },
          "metadata": {},
          "execution_count": 30
        }
      ]
    },
    {
      "cell_type": "code",
      "source": [
        "# Match with relations, exists and property\n",
        "def where_and_exists_simple_path_and_property():\n",
        "    def prompter(label_1, prop_1, rtype_1, label_2, var_2, prop_2):\n",
        "        subschema = get_subgraph_schema(jschema, [label_1, label_2], 2, True)\n",
        "        message = {\"Prompt\": \"Convert the following question into a Cypher query using the provided graph schema!\",\n",
        "                   \"Question\": f\"\"\"Search for the {prop_1} of {label_1} that have a {rtype_1} relationship with {label_2}s where the {prop_1} of the {label_1} matches the {prop_2} of the related  {label_2}!\"\"\",\n",
        "                   \"Schema\": f\"Graph schema: {subschema}\",\n",
        "                   \"Cypher\": f\"\"\n",
        "                   }\n",
        "        return message\n",
        "\n",
        "    sampler = []\n",
        "\n",
        "    for entry in string_string_rels:\n",
        "        for prop_1, _ in entry[1].items():\n",
        "            for prop_2, _ in entry[4].items():\n",
        "                var_2 = entry[3].lower()\n",
        "                temp_dict =prompter(entry[0], prop_1, entry[2], entry[3], var_2, prop_2)\n",
        "                sampler.append(temp_dict)\n",
        "\n",
        "    return sampler\n",
        "\n",
        "\n",
        "# Build the set\n",
        "sampler_23 = where_and_exists_simple_path_and_property()\n",
        "# Print information about the sampler set\n",
        "print(f\"There are {len(sampler_23)} queries in this subset.\")\n",
        "# Add to trainer dataset\n",
        "trainer += collect_samples(sampler_23)\n",
        "# Display an example for inspection\n",
        "sampler_23[0]"
      ],
      "metadata": {
        "colab": {
          "base_uri": "https://localhost:8080/"
        },
        "id": "yPsochb9y1E0",
        "outputId": "ef48c910-3b43-4d82-9e44-add0b356872b"
      },
      "execution_count": null,
      "outputs": [
        {
          "output_type": "stream",
          "name": "stdout",
          "text": [
            "There are 368 queries in this subset.\n"
          ]
        },
        {
          "output_type": "execute_result",
          "data": {
            "text/plain": [
              "{'Prompt': 'Convert the following question into a Cypher query using the provided graph schema!',\n",
              " 'Question': 'Search for the abstract of Article that have a HAS_KEY relationship with Keywords where the abstract of the Article matches the name of the related  Keyword!',\n",
              " 'Schema': 'Graph schema: Node properties are the following:\\nArticle {abstract: STRING, article_id: INTEGER, comments: STRING, title: STRING},Keyword {name: STRING, key_id: STRING}\\nRelationship properties are the following:\\nPUBLISHED_IN {meta: STRING, pages: STRING, year: INTEGER}\\nThe relationships are the following:\\n(:Article)-[:HAS_KEY]->(:Keyword),(:Article)-[:HAS_DOI]->(:DOI),(:Article)-[:HAS_CATEGORY]->(:Categories),(:Article)-[:WRITTEN_BY]->(:Author),(:Article)-[:UPDATED]->(:UpdateDate),(:Article)-[:PUBLISHED_IN]->(:Journal),(:Article)-[:HAS_REPORT]->(:Report),(:Article)-[:HAS_KEY]->(:Keyword),(:Keyword)-[:HAS_TOPIC]->(:Topic)',\n",
              " 'Cypher': ''}"
            ]
          },
          "metadata": {},
          "execution_count": 31
        }
      ]
    },
    {
      "cell_type": "code",
      "source": [
        "# Match with relations, not and property\n",
        "def where_not_simple_path_and_property():\n",
        "    def prompter(label_1, prop_1, label_2, prop_2, val_2):\n",
        "        subschema = get_subgraph_schema(jschema, [label_1, label_2], 2, True)\n",
        "        message = {\"Prompt\": \"Convert the following question into a Cypher query using the provided graph schema!\",\n",
        "                   \"Question\": f\"\"\"Look for the {prop_1} of the {label_1} that is not related  to the {label_2} with the  {prop_2}  {val_2}!\"\"\",\n",
        "                   \"Schema\": f\"Graph schema: {subschema}\",\n",
        "                   \"Cypher\": \"MATCH (n:{label_1}), (:{label_2} {{{prop_2}: '{val_2}'}}) WHERE NOT (n) --> (:{label_2}) RETURN n.{prop_1}\".format(label_1=label_1,\n",
        "                                                                                                                                                     prop_1=prop_1,\n",
        "                                                                                                                                                     label_2=label_2,\n",
        "                                                                                                                                                     prop_2=prop_2,\n",
        "                                                                                                                                                     val_2=val_2)}\n",
        "\n",
        "        return message\n",
        "\n",
        "    sampler = []\n",
        "\n",
        "    for entry in string_string_rels:\n",
        "        for prop_1, _ in entry[1].items():\n",
        "            for prop_2, val_2 in entry[4].items():\n",
        "                #var_2 = entry[3].lower()\n",
        "                temp_dict =prompter(entry[0], prop_1, entry[3], prop_2, val_2)\n",
        "                sampler.append(temp_dict)\n",
        "\n",
        "    return sampler\n",
        "\n",
        "# Build the set\n",
        "N=100 # choose how many samples to generate\n",
        "sampler_24 = where_not_simple_path_and_property()\n",
        "# Print information about the sampler set\n",
        "print(f\"There are {len(sampler_24)} queries in this subset.\")\n",
        "# Add to trainer dataset\n",
        "trainer += collect_samples(sampler_24)\n",
        "# Display an example for inspection\n",
        "sampler_24[0]"
      ],
      "metadata": {
        "colab": {
          "base_uri": "https://localhost:8080/"
        },
        "id": "WpXGNCrpy07F",
        "outputId": "dd7d5f55-8b8f-441f-abc8-5cc6317eb666"
      },
      "execution_count": null,
      "outputs": [
        {
          "output_type": "stream",
          "name": "stdout",
          "text": [
            "There are 368 queries in this subset.\n"
          ]
        },
        {
          "output_type": "execute_result",
          "data": {
            "text/plain": [
              "{'Prompt': 'Convert the following question into a Cypher query using the provided graph schema!',\n",
              " 'Question': 'Look for the abstract of the Article that is not related  to the Keyword with the  name  summation!',\n",
              " 'Schema': 'Graph schema: Node properties are the following:\\nArticle {abstract: STRING, article_id: INTEGER, comments: STRING, title: STRING},Keyword {name: STRING, key_id: STRING}\\nRelationship properties are the following:\\nPUBLISHED_IN {meta: STRING, pages: STRING, year: INTEGER}\\nThe relationships are the following:\\n(:Article)-[:HAS_KEY]->(:Keyword),(:Article)-[:HAS_DOI]->(:DOI),(:Article)-[:HAS_CATEGORY]->(:Categories),(:Article)-[:WRITTEN_BY]->(:Author),(:Article)-[:UPDATED]->(:UpdateDate),(:Article)-[:PUBLISHED_IN]->(:Journal),(:Article)-[:HAS_REPORT]->(:Report),(:Article)-[:HAS_KEY]->(:Keyword),(:Keyword)-[:HAS_TOPIC]->(:Topic)',\n",
              " 'Cypher': \"MATCH (n:Article), (:Keyword {name: 'summation'}) WHERE NOT (n) --> (:Keyword) RETURN n.abstract\"}"
            ]
          },
          "metadata": {},
          "execution_count": 32
        }
      ]
    },
    {
      "cell_type": "code",
      "source": [
        "# Match relations, with,\n",
        "def relation_with_and_where():\n",
        "    def prompter(label_1, prop_1, val_1, rtype_1, label_2, prop_2, val_2):\n",
        "        subschema = get_subgraph_schema(jschema, [label_1, label_2], 2, True)\n",
        "        message = {\"Prompt\": \"Convert the following question into a Cypher query using the provided graph schema!\",\n",
        "                   \"Question\": f\"\"\"Find {label_2} that has a {prop_2} which begins with {label_2[0].lower()}, and is linked to {label_1} via {rtype_1} relationship, where {label_1} has {prop_1} {val_1}!\"\"\",\n",
        "                   \"Schema\": f\"Graph schema: {subschema}\",\n",
        "                   \"Cypher\": \"MATCH (n:{label_1} {{{prop_1}: '{val_1}'}}) -[:{rtype_1}]- (m:{label_2}) WITH {label_2} WHERE m.{prop_2} STARTS WITH '{label_2[0]}' RETURN n.{prop_2}\".format(label_1=label_1,\n",
        "                                                                                                                                                                                               prop_1=prop_1,\n",
        "                                                                                                                                                                                               val_1=val_1,\n",
        "                                                                                                                                                                                               rtype_1=rtype_1,\n",
        "                                                                                                                                                                                               label_2 = label_2,\n",
        "                                                                                                                                                                                               prop_2=prop_2,\n",
        "                                                                                                                                                                                               val_2=val_2)}\n",
        "        return message\n",
        "\n",
        "    sampler = []\n",
        "\n",
        "    for entry in string_string_rels:\n",
        "        for prop_1, val_1 in entry[1].items():\n",
        "            for prop_2, val_2 in entry[4].items():\n",
        "                temp_dict =prompter(entry[0], prop_1, val_1, entry[2], entry[3], prop_2, val_2)\n",
        "                sampler.append(temp_dict)\n",
        "\n",
        "    return sampler\n",
        "\n",
        "# Build the set\n",
        "sampler_25 = relation_with_and_where()\n",
        "# Print information about the sampler set\n",
        "print(f\"There are {len(sampler_25)} queries in this subset.\")\n",
        "# Add to trainer dataset\n",
        "trainer += collect_samples(sampler_25)\n",
        "# Display an example for inspection\n",
        "sampler_25[0]"
      ],
      "metadata": {
        "colab": {
          "base_uri": "https://localhost:8080/"
        },
        "id": "0RUazq188N0Y",
        "outputId": "0bbe77c0-a6ec-4843-d19f-3ecd01055086"
      },
      "execution_count": null,
      "outputs": [
        {
          "output_type": "stream",
          "name": "stdout",
          "text": [
            "There are 368 queries in this subset.\n"
          ]
        },
        {
          "output_type": "execute_result",
          "data": {
            "text/plain": [
              "{'Prompt': 'Convert the following question into a Cypher query using the provided graph schema!',\n",
              " 'Question': 'Find Keyword that has a name which begins with k, and is linked to Article via HAS_KEY relationship, where Article has abstract   Using matrix inversion and determinant evaluation techniques we prove several\\nsummation and transformation formulas for terminating, balanced,\\nvery-well-poised, elliptic hypergeometric series.\\n!',\n",
              " 'Schema': 'Graph schema: Node properties are the following:\\nArticle {abstract: STRING, article_id: INTEGER, comments: STRING, title: STRING},Keyword {name: STRING, key_id: STRING}\\nRelationship properties are the following:\\nPUBLISHED_IN {meta: STRING, pages: STRING, year: INTEGER}\\nThe relationships are the following:\\n(:Article)-[:HAS_KEY]->(:Keyword),(:Article)-[:HAS_DOI]->(:DOI),(:Article)-[:HAS_CATEGORY]->(:Categories),(:Article)-[:WRITTEN_BY]->(:Author),(:Article)-[:UPDATED]->(:UpdateDate),(:Article)-[:PUBLISHED_IN]->(:Journal),(:Article)-[:HAS_REPORT]->(:Report),(:Article)-[:HAS_KEY]->(:Keyword),(:Keyword)-[:HAS_TOPIC]->(:Topic)',\n",
              " 'Cypher': \"MATCH (n:Article {abstract: '  Using matrix inversion and determinant evaluation techniques we prove several\\nsummation and transformation formulas for terminating, balanced,\\nvery-well-poised, elliptic hypergeometric series.\\n'}) -[:HAS_KEY]- (m:Keyword) WITH Keyword WHERE m.name STARTS WITH 'K' RETURN n.name\"}"
            ]
          },
          "metadata": {},
          "execution_count": 33
        }
      ]
    },
    {
      "cell_type": "markdown",
      "source": [
        "## MATCH, SKIP, LIMIT, UNION"
      ],
      "metadata": {
        "id": "nDXn9ON7H7j0"
      }
    },
    {
      "cell_type": "code",
      "source": [
        "# Match, with, skip, limit combination\n",
        "def match_where_skip_limit_return_property():\n",
        "    def prompter(label_1, prop_1, val_1, nrecs):\n",
        "        subschema = get_subgraph_schema(jschema, [label_1], 2, True)\n",
        "        message = {\"Prompt\": \"Convert the following question into a Cypher query using the provided graph schema!\",\n",
        "                   \"Question\": f\"\"\"Find the {label_1} for which {prop_1} starts with {val_1[0]}, skip the first {nrecs} records and return the next {nrecs} records of {prop_1}!\"\"\",\n",
        "                   \"Schema\": f\"Graph schema: {subschema}\",\n",
        "                   \"Cypher\": f\"MATCH (n:{label_1}) WHERE n.{prop_1} STARTS WITH '{val_1[0]}' WITH n.{prop_1} AS {prop_1} SKIP {nrecs} LIMIT {nrecs} RETURN {prop_1}\"\n",
        "                   }\n",
        "        return message\n",
        "\n",
        "    sampler=[]\n",
        "    for entry in string_parsed:\n",
        "        temp_dict = prompter(entry[0], entry[1], entry[2], 3)\n",
        "        sampler.append(temp_dict)\n",
        "\n",
        "    return sampler\n",
        "\n",
        "# Build the set\n",
        "sampler_26 = match_where_skip_limit_return_property()\n",
        "# Print information about the sampler set\n",
        "print(f\"There are {len(sampler_26)} queries in this subset.\")\n",
        "# Add to trainer dataset\n",
        "trainer += collect_samples(sampler_26)\n",
        "# Display an example for inspection\n",
        "sampler_26[0]"
      ],
      "metadata": {
        "colab": {
          "base_uri": "https://localhost:8080/"
        },
        "id": "DVMTI6hE8NtO",
        "outputId": "d07ac664-04dc-470f-ed1c-fe23677ba252"
      },
      "execution_count": null,
      "outputs": [
        {
          "output_type": "stream",
          "name": "stdout",
          "text": [
            "There are 76 queries in this subset.\n"
          ]
        },
        {
          "output_type": "execute_result",
          "data": {
            "text/plain": [
              "{'Prompt': 'Convert the following question into a Cypher query using the provided graph schema!',\n",
              " 'Question': 'Find the Article for which abstract starts with  , skip the first 3 records and return the next 3 records of abstract!',\n",
              " 'Schema': 'Graph schema: Node properties are the following:\\nArticle {abstract: STRING, article_id: INTEGER, comments: STRING, title: STRING}\\nRelationship properties are the following:\\nPUBLISHED_IN {meta: STRING, pages: STRING, year: INTEGER}\\nThe relationships are the following:\\n(:Article)-[:HAS_KEY]->(:Keyword),(:Article)-[:HAS_DOI]->(:DOI),(:Article)-[:HAS_CATEGORY]->(:Categories),(:Article)-[:WRITTEN_BY]->(:Author),(:Article)-[:UPDATED]->(:UpdateDate),(:Article)-[:PUBLISHED_IN]->(:Journal),(:Article)-[:HAS_REPORT]->(:Report)',\n",
              " 'Cypher': \"MATCH (n:Article) WHERE n.abstract STARTS WITH ' ' WITH n.abstract AS abstract SKIP 3 LIMIT 3 RETURN abstract\"}"
            ]
          },
          "metadata": {},
          "execution_count": 34
        }
      ]
    },
    {
      "cell_type": "code",
      "source": [
        "# Match, with, skip, limit combination\n",
        "def match_skip_limit_return_property():\n",
        "    def prompter(label_1, prop_1, nrecs):\n",
        "        subschema = get_subgraph_schema(jschema, [label_1], 2, True)\n",
        "        message = {\"Prompt\": \"Convert the following question into a Cypher query using the provided graph schema!\",\n",
        "                   \"Question\": f\"\"\"Return the {prop_1} of the {label_1}, skip the first {nrecs} records and return {nrecs} records!\"\"\",\n",
        "                   \"Schema\": f\"Graph schema: {subschema}\",\n",
        "                   \"Cypher\": f\"MATCH (n:{label_1}) RETURN n.{prop_1}  SKIP {nrecs} LIMIT {nrecs}\"\n",
        "                   }\n",
        "        return message\n",
        "\n",
        "    sampler=[]\n",
        "    for entry in dtypes_parsed:\n",
        "        temp_dict = prompter(entry[0], entry[1], 2)\n",
        "        sampler.append(temp_dict)\n",
        "\n",
        "    return sampler\n",
        "\n",
        "# Build the set\n",
        "sampler_27 = match_skip_limit_return_property()\n",
        "# Print information about the sampler set\n",
        "print(f\"There are {len(sampler_27)} queries in this subset.\")\n",
        "# Add to trainer dataset\n",
        "trainer += collect_samples(sampler_27)\n",
        "# Display an example for inspection\n",
        "sampler_27[1]"
      ],
      "metadata": {
        "colab": {
          "base_uri": "https://localhost:8080/"
        },
        "id": "GmCPqglV8NlC",
        "outputId": "b4ba93f6-65b8-411b-9baa-9e32c6c1eb7b"
      },
      "execution_count": null,
      "outputs": [
        {
          "output_type": "stream",
          "name": "stdout",
          "text": [
            "There are 87 queries in this subset.\n"
          ]
        },
        {
          "output_type": "execute_result",
          "data": {
            "text/plain": [
              "{'Prompt': 'Convert the following question into a Cypher query using the provided graph schema!',\n",
              " 'Question': 'Return the comments of the Article, skip the first 2 records and return 2 records!',\n",
              " 'Schema': 'Graph schema: Node properties are the following:\\nArticle {abstract: STRING, article_id: INTEGER, comments: STRING, title: STRING}\\nRelationship properties are the following:\\nPUBLISHED_IN {meta: STRING, pages: STRING, year: INTEGER}\\nThe relationships are the following:\\n(:Article)-[:HAS_KEY]->(:Keyword),(:Article)-[:HAS_DOI]->(:DOI),(:Article)-[:HAS_CATEGORY]->(:Categories),(:Article)-[:WRITTEN_BY]->(:Author),(:Article)-[:UPDATED]->(:UpdateDate),(:Article)-[:PUBLISHED_IN]->(:Journal),(:Article)-[:HAS_REPORT]->(:Report)',\n",
              " 'Cypher': 'MATCH (n:Article) RETURN n.comments  SKIP 2 LIMIT 2'}"
            ]
          },
          "metadata": {},
          "execution_count": 35
        }
      ]
    },
    {
      "cell_type": "code",
      "source": [
        "# Union of two property selections\n",
        "# Union of two sets with filtering duplicates\n",
        "def match_properties_with_union(N):\n",
        "    def prompter(label_1, prop_1, val_1, label_2, prop_2):\n",
        "        subschema = get_subgraph_schema(jschema, [label_1], 2, True)\n",
        "        message = {\"Prompt\": \"Convert the following question into a Cypher query using the provided graph schema!\",\n",
        "                   \"Question\": f\"\"\"Retrieve the {label_1} where {prop_1} or {prop_2} contain {val_1}!\"\"\",\n",
        "                   \"Schema\": f\"Graph schema: {subschema}\",\n",
        "                   \"Cypher\": f\"MATCH (n:{label_1}) WHERE n.{prop_1} CONTAINS '{val_1}' UNION ALL MATCH (m:{label_1}) WHERE m.{prop_2} CONTAINS '{val_1}' RETURN n.{prop_1}, m.{prop_2}\"\n",
        "                   }\n",
        "        return message\n",
        "\n",
        "    sampler=[]\n",
        "    for _ in range(N):\n",
        "        #ninst = random_properties(string_instances)\n",
        "        pair = random.sample(string_parsed, 2)\n",
        "        temp_dict = prompter(pair[0][0], pair[0][1], pair[0][2],\n",
        "        pair[1][0], pair[1][1])\n",
        "        sampler.append(temp_dict)\n",
        "\n",
        "    return sampler\n",
        "\n",
        "# Build the set\n",
        "N=100 # choose how many samples to generate\n",
        "sampler_28 = match_properties_with_union(N)\n",
        "# Print information about the sampler set\n",
        "print(f\"There are {len(sampler_28)} queries in this subset.\")\n",
        "# Add to trainer dataset\n",
        "trainer += collect_samples(sampler_28)\n",
        "# Display an example for inspection\n",
        "sampler_28[0]"
      ],
      "metadata": {
        "id": "vS0p9KcJ3DmT",
        "colab": {
          "base_uri": "https://localhost:8080/"
        },
        "outputId": "3180ad71-f747-4a9b-d413-c9db8e90fdac"
      },
      "execution_count": null,
      "outputs": [
        {
          "output_type": "stream",
          "name": "stdout",
          "text": [
            "There are 100 queries in this subset.\n"
          ]
        },
        {
          "output_type": "execute_result",
          "data": {
            "text/plain": [
              "{'Prompt': 'Convert the following question into a Cypher query using the provided graph schema!',\n",
              " 'Question': 'Retrieve the Journal where name or specifications contain Rev. Mat.Iberoamericana!',\n",
              " 'Schema': 'Graph schema: Node properties are the following:\\nJournal {name: STRING, journal_id: STRING}\\nRelationship properties are the following:\\nPUBLISHED_IN {meta: STRING, pages: STRING, year: INTEGER}\\nThe relationships are the following:\\n(:Article)-[:PUBLISHED_IN]->(:Journal)',\n",
              " 'Cypher': \"MATCH (n:Journal) WHERE n.name CONTAINS 'Rev. Mat.Iberoamericana' UNION ALL MATCH (m:Journal) WHERE m.specifications CONTAINS 'Rev. Mat.Iberoamericana' RETURN n.name, m.specifications\"}"
            ]
          },
          "metadata": {},
          "execution_count": 36
        }
      ]
    },
    {
      "cell_type": "code",
      "source": [
        "# Union of two sets with filtering duplicates\n",
        "def match_nodes_with_union(N):\n",
        "    def prompter(label_1, prop_1, label_2, prop_2):\n",
        "        subschema = get_subgraph_schema(jschema, [label_1, label_2], 2, True)\n",
        "        message = {\"Prompt\": \"Convert the following question into a Cypher query using the provided graph schema!\",\n",
        "                   \"Question\": f\"\"\"Return the {prop_1} for {label_1} combined with the {prop_2} for {label_2}, filter the duplicates if any!\"\"\",\n",
        "                   \"Schema\": f\"Graph schema: {subschema}\",\n",
        "                   \"Cypher\": f\"MATCH (n:{label_1}) RETURN n.{prop_1} AS Records UNION MATCH (m:{label_2}) RETURN m.{prop_2} AS Records\"\n",
        "                   }\n",
        "        return message\n",
        "\n",
        "    sampler=[]\n",
        "    for _ in range(N):\n",
        "        #ninst = random_properties(string_instances)\n",
        "        pair = random.sample(string_parsed, 2)\n",
        "        temp_dict = prompter(pair[0][0], pair[0][1],\n",
        "        pair[1][0], pair[1][1])\n",
        "        sampler.append(temp_dict)\n",
        "\n",
        "    return sampler\n",
        "\n",
        "# Build the set\n",
        "N=100 # choose how many samples to generate\n",
        "sampler_29 = match_nodes_with_union(N)\n",
        "# Print information about the sampler set\n",
        "print(f\"There are {len(sampler_29)} queries in this subset.\")\n",
        "# Add to trainer dataset\n",
        "trainer += collect_samples(sampler_29)\n",
        "# Display an example for inspection\n",
        "sampler_29[0]"
      ],
      "metadata": {
        "colab": {
          "base_uri": "https://localhost:8080/"
        },
        "id": "JuAkIDPRJBr4",
        "outputId": "13911ae8-9637-431f-ebee-4ea8a6846d15"
      },
      "execution_count": null,
      "outputs": [
        {
          "output_type": "stream",
          "name": "stdout",
          "text": [
            "There are 100 queries in this subset.\n"
          ]
        },
        {
          "output_type": "execute_result",
          "data": {
            "text/plain": [
              "{'Prompt': 'Convert the following question into a Cypher query using the provided graph schema!',\n",
              " 'Question': 'Return the specifications for Categories combined with the name for DOI, filter the duplicates if any!',\n",
              " 'Schema': 'Graph schema: Node properties are the following:\\nCategories {category_id: STRING, specifications: STRING},DOI {name: STRING, doi_id: STRING}\\nRelationship properties are the following:\\n\\nThe relationships are the following:\\n(:Article)-[:HAS_CATEGORY]->(:Categories),(:Article)-[:HAS_DOI]->(:DOI)',\n",
              " 'Cypher': 'MATCH (n:Categories) RETURN n.specifications AS Records UNION MATCH (m:DOI) RETURN m.name AS Records'}"
            ]
          },
          "metadata": {},
          "execution_count": 37
        }
      ]
    },
    {
      "cell_type": "code",
      "source": [
        "# Union of two sets without filtering duplicates\n",
        "def match_nodes_with_union_all(N):\n",
        "    def prompter(label_1, prop_1, label_2, prop_2):\n",
        "        subschema = get_subgraph_schema(jschema, [label_1, label_2], 2, True)\n",
        "        message = {\"Prompt\": \"Convert the following question into a Cypher query using the provided graph schema!\",\n",
        "                   \"Question\": f\"\"\"Return the {prop_1} for {label_1} combined with the {prop_2} for {label_2}!\"\"\",\n",
        "                   \"Schema\": f\"Graph schema: {subschema}\",\n",
        "                   \"Cypher\": f\"MATCH (n:{label_1}) RETURN n.{prop_1} AS Records UNION ALL MATCH (m:{label_2}) RETURN m.{prop_2} AS Records\"\n",
        "                   }\n",
        "        return message\n",
        "\n",
        "    sampler=[]\n",
        "    for _ in range(N):\n",
        "        #ninst = random_properties(string_instances)\n",
        "        pair = random.sample(string_parsed, 2)\n",
        "        temp_dict = prompter(pair[0][0], pair[0][1],\n",
        "        pair[1][0], pair[1][1])\n",
        "        sampler.append(temp_dict)\n",
        "\n",
        "    return sampler\n",
        "\n",
        "# Build the set\n",
        "N=100 # choose how many samples to generate\n",
        "sampler_30 = match_nodes_with_union_all(N)\n",
        "# Print information about the sampler set\n",
        "print(f\"There are {len(sampler_30)} queries in this subset.\")\n",
        "# Add to trainer dataset\n",
        "trainer += collect_samples(sampler_30)\n",
        "# Display an example for inspection\n",
        "sampler_30[0]"
      ],
      "metadata": {
        "colab": {
          "base_uri": "https://localhost:8080/"
        },
        "id": "CNAPHUWWLxUL",
        "outputId": "e305d3e3-1252-43f6-f3a7-83b928056e82"
      },
      "execution_count": null,
      "outputs": [
        {
          "output_type": "stream",
          "name": "stdout",
          "text": [
            "There are 100 queries in this subset.\n"
          ]
        },
        {
          "output_type": "execute_result",
          "data": {
            "text/plain": [
              "{'Prompt': 'Convert the following question into a Cypher query using the provided graph schema!',\n",
              " 'Question': 'Return the category_id for Categories combined with the abstract for Article!',\n",
              " 'Schema': 'Graph schema: Node properties are the following:\\nCategories {category_id: STRING, specifications: STRING},Article {abstract: STRING, article_id: INTEGER, comments: STRING, title: STRING}\\nRelationship properties are the following:\\nPUBLISHED_IN {meta: STRING, pages: STRING, year: INTEGER}\\nThe relationships are the following:\\n(:Article)-[:HAS_CATEGORY]->(:Categories),(:Article)-[:HAS_KEY]->(:Keyword),(:Article)-[:HAS_DOI]->(:DOI),(:Article)-[:HAS_CATEGORY]->(:Categories),(:Article)-[:WRITTEN_BY]->(:Author),(:Article)-[:UPDATED]->(:UpdateDate),(:Article)-[:PUBLISHED_IN]->(:Journal),(:Article)-[:HAS_REPORT]->(:Report)',\n",
              " 'Cypher': 'MATCH (n:Categories) RETURN n.category_id AS Records UNION ALL MATCH (m:Article) RETURN m.abstract AS Records'}"
            ]
          },
          "metadata": {},
          "execution_count": 38
        }
      ]
    },
    {
      "cell_type": "markdown",
      "source": [
        "## Data Saving"
      ],
      "metadata": {
        "id": "rJR_6-_a0xK-"
      }
    },
    {
      "cell_type": "code",
      "source": [
        "# Display the number of samples created\n",
        "len(trainer)"
      ],
      "metadata": {
        "colab": {
          "base_uri": "https://localhost:8080/"
        },
        "id": "o-24TBXJMFVp",
        "outputId": "0eb88d46-feee-4b23-8fea-91b9290c59cf"
      },
      "execution_count": null,
      "outputs": [
        {
          "output_type": "execute_result",
          "data": {
            "text/plain": [
              "2435"
            ]
          },
          "metadata": {},
          "execution_count": 39
        }
      ]
    },
    {
      "cell_type": "code",
      "source": [
        "# Save the samples to a json file\n",
        "\n",
        "trainer_one = 'trainer_one.json'\n",
        "write_json(trainer, data_path+trainer_one)"
      ],
      "metadata": {
        "id": "IFNtnrn2_N0b"
      },
      "execution_count": null,
      "outputs": []
    },
    {
      "cell_type": "code",
      "source": [],
      "metadata": {
        "id": "UfzTIuPzjwCG"
      },
      "execution_count": null,
      "outputs": []
    }
  ]
}